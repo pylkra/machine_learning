{
 "cells": [
  {
   "cell_type": "code",
   "execution_count": 1,
   "id": "884b21ed",
   "metadata": {
    "_cell_guid": "b1076dfc-b9ad-4769-8c92-a6c4dae69d19",
    "_uuid": "8f2839f25d086af736a60e9eeb907d3b93b6e0e5",
    "execution": {
     "iopub.execute_input": "2025-03-25T11:35:39.291962Z",
     "iopub.status.busy": "2025-03-25T11:35:39.291585Z",
     "iopub.status.idle": "2025-03-25T11:35:40.294195Z",
     "shell.execute_reply": "2025-03-25T11:35:40.292904Z"
    },
    "papermill": {
     "duration": 1.010396,
     "end_time": "2025-03-25T11:35:40.296060",
     "exception": false,
     "start_time": "2025-03-25T11:35:39.285664",
     "status": "completed"
    },
    "tags": []
   },
   "outputs": [
    {
     "name": "stdout",
     "output_type": "stream",
     "text": [
      "/kaggle/input/weight-height/weight-height.csv\n"
     ]
    }
   ],
   "source": [
    "# This Python 3 environment comes with many helpful analytics libraries installed\n",
    "# It is defined by the kaggle/python Docker image: https://github.com/kaggle/docker-python\n",
    "# For example, here's several helpful packages to load\n",
    "\n",
    "import numpy as np # linear algebra\n",
    "import pandas as pd # data processing, CSV file I/O (e.g. pd.read_csv)\n",
    "\n",
    "# Input data files are available in the read-only \"../input/\" directory\n",
    "# For example, running this (by clicking run or pressing Shift+Enter) will list all files under the input directory\n",
    "\n",
    "import os\n",
    "for dirname, _, filenames in os.walk('/kaggle/input'):\n",
    "    for filename in filenames:\n",
    "        print(os.path.join(dirname, filename))\n",
    "\n",
    "# You can write up to 20GB to the current directory (/kaggle/working/) that gets preserved as output when you create a version using \"Save & Run All\" \n",
    "# You can also write temporary files to /kaggle/temp/, but they won't be saved outside of the current session"
   ]
  },
  {
   "cell_type": "code",
   "execution_count": 2,
   "id": "893c8848",
   "metadata": {
    "execution": {
     "iopub.execute_input": "2025-03-25T11:35:40.306876Z",
     "iopub.status.busy": "2025-03-25T11:35:40.306317Z",
     "iopub.status.idle": "2025-03-25T11:35:40.347414Z",
     "shell.execute_reply": "2025-03-25T11:35:40.346055Z"
    },
    "papermill": {
     "duration": 0.048872,
     "end_time": "2025-03-25T11:35:40.349486",
     "exception": false,
     "start_time": "2025-03-25T11:35:40.300614",
     "status": "completed"
    },
    "tags": []
   },
   "outputs": [],
   "source": [
    "df = pd.read_csv('/kaggle/input/weight-height/weight-height.csv')"
   ]
  },
  {
   "cell_type": "code",
   "execution_count": 3,
   "id": "2adf8d04",
   "metadata": {
    "execution": {
     "iopub.execute_input": "2025-03-25T11:35:40.359842Z",
     "iopub.status.busy": "2025-03-25T11:35:40.359490Z",
     "iopub.status.idle": "2025-03-25T11:35:40.387261Z",
     "shell.execute_reply": "2025-03-25T11:35:40.386111Z"
    },
    "papermill": {
     "duration": 0.035248,
     "end_time": "2025-03-25T11:35:40.389173",
     "exception": false,
     "start_time": "2025-03-25T11:35:40.353925",
     "status": "completed"
    },
    "tags": []
   },
   "outputs": [
    {
     "data": {
      "text/html": [
       "<div>\n",
       "<style scoped>\n",
       "    .dataframe tbody tr th:only-of-type {\n",
       "        vertical-align: middle;\n",
       "    }\n",
       "\n",
       "    .dataframe tbody tr th {\n",
       "        vertical-align: top;\n",
       "    }\n",
       "\n",
       "    .dataframe thead th {\n",
       "        text-align: right;\n",
       "    }\n",
       "</style>\n",
       "<table border=\"1\" class=\"dataframe\">\n",
       "  <thead>\n",
       "    <tr style=\"text-align: right;\">\n",
       "      <th></th>\n",
       "      <th>Gender</th>\n",
       "      <th>Height</th>\n",
       "      <th>Weight</th>\n",
       "    </tr>\n",
       "  </thead>\n",
       "  <tbody>\n",
       "    <tr>\n",
       "      <th>0</th>\n",
       "      <td>Male</td>\n",
       "      <td>73.847017</td>\n",
       "      <td>241.893563</td>\n",
       "    </tr>\n",
       "    <tr>\n",
       "      <th>1</th>\n",
       "      <td>Male</td>\n",
       "      <td>68.781904</td>\n",
       "      <td>162.310473</td>\n",
       "    </tr>\n",
       "    <tr>\n",
       "      <th>2</th>\n",
       "      <td>Male</td>\n",
       "      <td>74.110105</td>\n",
       "      <td>212.740856</td>\n",
       "    </tr>\n",
       "    <tr>\n",
       "      <th>3</th>\n",
       "      <td>Male</td>\n",
       "      <td>71.730978</td>\n",
       "      <td>220.042470</td>\n",
       "    </tr>\n",
       "    <tr>\n",
       "      <th>4</th>\n",
       "      <td>Male</td>\n",
       "      <td>69.881796</td>\n",
       "      <td>206.349801</td>\n",
       "    </tr>\n",
       "  </tbody>\n",
       "</table>\n",
       "</div>"
      ],
      "text/plain": [
       "  Gender     Height      Weight\n",
       "0   Male  73.847017  241.893563\n",
       "1   Male  68.781904  162.310473\n",
       "2   Male  74.110105  212.740856\n",
       "3   Male  71.730978  220.042470\n",
       "4   Male  69.881796  206.349801"
      ]
     },
     "execution_count": 3,
     "metadata": {},
     "output_type": "execute_result"
    }
   ],
   "source": [
    "df.head()"
   ]
  },
  {
   "cell_type": "code",
   "execution_count": 4,
   "id": "6866142a",
   "metadata": {
    "execution": {
     "iopub.execute_input": "2025-03-25T11:35:40.399805Z",
     "iopub.status.busy": "2025-03-25T11:35:40.399392Z",
     "iopub.status.idle": "2025-03-25T11:35:40.409305Z",
     "shell.execute_reply": "2025-03-25T11:35:40.408127Z"
    },
    "papermill": {
     "duration": 0.017191,
     "end_time": "2025-03-25T11:35:40.411073",
     "exception": false,
     "start_time": "2025-03-25T11:35:40.393882",
     "status": "completed"
    },
    "tags": []
   },
   "outputs": [
    {
     "data": {
      "text/plain": [
       "Gender    0\n",
       "Height    0\n",
       "Weight    0\n",
       "dtype: int64"
      ]
     },
     "execution_count": 4,
     "metadata": {},
     "output_type": "execute_result"
    }
   ],
   "source": [
    "df.isnull().sum() #No null values"
   ]
  },
  {
   "cell_type": "code",
   "execution_count": 5,
   "id": "e3e63ac0",
   "metadata": {
    "execution": {
     "iopub.execute_input": "2025-03-25T11:35:40.421533Z",
     "iopub.status.busy": "2025-03-25T11:35:40.421174Z",
     "iopub.status.idle": "2025-03-25T11:35:42.805605Z",
     "shell.execute_reply": "2025-03-25T11:35:42.804423Z"
    },
    "papermill": {
     "duration": 2.391446,
     "end_time": "2025-03-25T11:35:42.807220",
     "exception": false,
     "start_time": "2025-03-25T11:35:40.415774",
     "status": "completed"
    },
    "tags": []
   },
   "outputs": [
    {
     "name": "stderr",
     "output_type": "stream",
     "text": [
      "<ipython-input-5-4820c8bca077>:6: UserWarning: \n",
      "\n",
      "`distplot` is a deprecated function and will be removed in seaborn v0.14.0.\n",
      "\n",
      "Please adapt your code to use either `displot` (a figure-level function with\n",
      "similar flexibility) or `histplot` (an axes-level function for histograms).\n",
      "\n",
      "For a guide to updating your code to use the new functions, please see\n",
      "https://gist.github.com/mwaskom/de44147ed2974457ad6372750bbe5751\n",
      "\n",
      "  sns.distplot(df['Height'])\n",
      "/usr/local/lib/python3.10/dist-packages/seaborn/_oldcore.py:1119: FutureWarning: use_inf_as_na option is deprecated and will be removed in a future version. Convert inf values to NaN before operating instead.\n",
      "  with pd.option_context('mode.use_inf_as_na', True):\n"
     ]
    },
    {
     "data": {
      "text/plain": [
       "<Axes: xlabel='Height'>"
      ]
     },
     "execution_count": 5,
     "metadata": {},
     "output_type": "execute_result"
    },
    {
     "data": {
      "image/png": "[encoded data removed]",
      "text/plain": [
       "<Figure size 1200x500 with 2 Axes>"
      ]
     },
     "metadata": {},
     "output_type": "display_data"
    }
   ],
   "source": [
    "import matplotlib.pyplot as plt\n",
    "import seaborn as sns\n",
    "\n",
    "plt.figure(figsize=(12,5))\n",
    "plt.subplot(2,2,1)\n",
    "sns.distplot(df['Height'])\n",
    "plt.subplot(2,2,2)\n",
    "sns.boxplot(x= df['Height'])"
   ]
  },
  {
   "cell_type": "code",
   "execution_count": 6,
   "id": "7eb432e8",
   "metadata": {
    "execution": {
     "iopub.execute_input": "2025-03-25T11:35:42.819020Z",
     "iopub.status.busy": "2025-03-25T11:35:42.818462Z",
     "iopub.status.idle": "2025-03-25T11:35:42.828311Z",
     "shell.execute_reply": "2025-03-25T11:35:42.827353Z"
    },
    "papermill": {
     "duration": 0.017623,
     "end_time": "2025-03-25T11:35:42.830068",
     "exception": false,
     "start_time": "2025-03-25T11:35:42.812445",
     "status": "completed"
    },
    "tags": []
   },
   "outputs": [
    {
     "data": {
      "text/plain": [
       "74.7857900583366"
      ]
     },
     "execution_count": 6,
     "metadata": {},
     "output_type": "execute_result"
    }
   ],
   "source": [
    "upper_limit = df['Height'].quantile(0.99)\n",
    "upper_limit"
   ]
  },
  {
   "cell_type": "code",
   "execution_count": 7,
   "id": "65329ff6",
   "metadata": {
    "execution": {
     "iopub.execute_input": "2025-03-25T11:35:42.841908Z",
     "iopub.status.busy": "2025-03-25T11:35:42.841515Z",
     "iopub.status.idle": "2025-03-25T11:35:42.848841Z",
     "shell.execute_reply": "2025-03-25T11:35:42.847907Z"
    },
    "papermill": {
     "duration": 0.015345,
     "end_time": "2025-03-25T11:35:42.850698",
     "exception": false,
     "start_time": "2025-03-25T11:35:42.835353",
     "status": "completed"
    },
    "tags": []
   },
   "outputs": [
    {
     "data": {
      "text/plain": [
       "58.13441158671655"
      ]
     },
     "execution_count": 7,
     "metadata": {},
     "output_type": "execute_result"
    }
   ],
   "source": [
    "lower_limit = df['Height'].quantile(0.01) #how much you are leaving for upper use the same for lower aswell\n",
    "lower_limit"
   ]
  },
  {
   "cell_type": "code",
   "execution_count": 8,
   "id": "2484f413",
   "metadata": {
    "execution": {
     "iopub.execute_input": "2025-03-25T11:35:42.864684Z",
     "iopub.status.busy": "2025-03-25T11:35:42.864320Z",
     "iopub.status.idle": "2025-03-25T11:35:42.880533Z",
     "shell.execute_reply": "2025-03-25T11:35:42.879329Z"
    },
    "papermill": {
     "duration": 0.024453,
     "end_time": "2025-03-25T11:35:42.882366",
     "exception": false,
     "start_time": "2025-03-25T11:35:42.857913",
     "status": "completed"
    },
    "tags": []
   },
   "outputs": [
    {
     "data": {
      "text/html": [
       "<div>\n",
       "<style scoped>\n",
       "    .dataframe tbody tr th:only-of-type {\n",
       "        vertical-align: middle;\n",
       "    }\n",
       "\n",
       "    .dataframe tbody tr th {\n",
       "        vertical-align: top;\n",
       "    }\n",
       "\n",
       "    .dataframe thead th {\n",
       "        text-align: right;\n",
       "    }\n",
       "</style>\n",
       "<table border=\"1\" class=\"dataframe\">\n",
       "  <thead>\n",
       "    <tr style=\"text-align: right;\">\n",
       "      <th></th>\n",
       "      <th>Gender</th>\n",
       "      <th>Height</th>\n",
       "      <th>Weight</th>\n",
       "    </tr>\n",
       "  </thead>\n",
       "  <tbody>\n",
       "    <tr>\n",
       "      <th>0</th>\n",
       "      <td>Male</td>\n",
       "      <td>73.847017</td>\n",
       "      <td>241.893563</td>\n",
       "    </tr>\n",
       "    <tr>\n",
       "      <th>1</th>\n",
       "      <td>Male</td>\n",
       "      <td>68.781904</td>\n",
       "      <td>162.310473</td>\n",
       "    </tr>\n",
       "    <tr>\n",
       "      <th>2</th>\n",
       "      <td>Male</td>\n",
       "      <td>74.110105</td>\n",
       "      <td>212.740856</td>\n",
       "    </tr>\n",
       "    <tr>\n",
       "      <th>3</th>\n",
       "      <td>Male</td>\n",
       "      <td>71.730978</td>\n",
       "      <td>220.042470</td>\n",
       "    </tr>\n",
       "    <tr>\n",
       "      <th>4</th>\n",
       "      <td>Male</td>\n",
       "      <td>69.881796</td>\n",
       "      <td>206.349801</td>\n",
       "    </tr>\n",
       "    <tr>\n",
       "      <th>...</th>\n",
       "      <td>...</td>\n",
       "      <td>...</td>\n",
       "      <td>...</td>\n",
       "    </tr>\n",
       "    <tr>\n",
       "      <th>9995</th>\n",
       "      <td>Female</td>\n",
       "      <td>66.172652</td>\n",
       "      <td>136.777454</td>\n",
       "    </tr>\n",
       "    <tr>\n",
       "      <th>9996</th>\n",
       "      <td>Female</td>\n",
       "      <td>67.067155</td>\n",
       "      <td>170.867906</td>\n",
       "    </tr>\n",
       "    <tr>\n",
       "      <th>9997</th>\n",
       "      <td>Female</td>\n",
       "      <td>63.867992</td>\n",
       "      <td>128.475319</td>\n",
       "    </tr>\n",
       "    <tr>\n",
       "      <th>9998</th>\n",
       "      <td>Female</td>\n",
       "      <td>69.034243</td>\n",
       "      <td>163.852461</td>\n",
       "    </tr>\n",
       "    <tr>\n",
       "      <th>9999</th>\n",
       "      <td>Female</td>\n",
       "      <td>61.944246</td>\n",
       "      <td>113.649103</td>\n",
       "    </tr>\n",
       "  </tbody>\n",
       "</table>\n",
       "<p>9797 rows × 3 columns</p>\n",
       "</div>"
      ],
      "text/plain": [
       "      Gender     Height      Weight\n",
       "0       Male  73.847017  241.893563\n",
       "1       Male  68.781904  162.310473\n",
       "2       Male  74.110105  212.740856\n",
       "3       Male  71.730978  220.042470\n",
       "4       Male  69.881796  206.349801\n",
       "...      ...        ...         ...\n",
       "9995  Female  66.172652  136.777454\n",
       "9996  Female  67.067155  170.867906\n",
       "9997  Female  63.867992  128.475319\n",
       "9998  Female  69.034243  163.852461\n",
       "9999  Female  61.944246  113.649103\n",
       "\n",
       "[9797 rows x 3 columns]"
      ]
     },
     "execution_count": 8,
     "metadata": {},
     "output_type": "execute_result"
    }
   ],
   "source": [
    "new_df = df[(df['Height'] <= 74.75) & (df['Height'] >= 58.13)]\n",
    "\n",
    "new_df"
   ]
  },
  {
   "cell_type": "code",
   "execution_count": 9,
   "id": "070a6996",
   "metadata": {
    "execution": {
     "iopub.execute_input": "2025-03-25T11:35:42.895318Z",
     "iopub.status.busy": "2025-03-25T11:35:42.894882Z",
     "iopub.status.idle": "2025-03-25T11:35:42.911255Z",
     "shell.execute_reply": "2025-03-25T11:35:42.910097Z"
    },
    "papermill": {
     "duration": 0.024791,
     "end_time": "2025-03-25T11:35:42.913066",
     "exception": false,
     "start_time": "2025-03-25T11:35:42.888275",
     "status": "completed"
    },
    "tags": []
   },
   "outputs": [
    {
     "data": {
      "text/html": [
       "<div>\n",
       "<style scoped>\n",
       "    .dataframe tbody tr th:only-of-type {\n",
       "        vertical-align: middle;\n",
       "    }\n",
       "\n",
       "    .dataframe tbody tr th {\n",
       "        vertical-align: top;\n",
       "    }\n",
       "\n",
       "    .dataframe thead th {\n",
       "        text-align: right;\n",
       "    }\n",
       "</style>\n",
       "<table border=\"1\" class=\"dataframe\">\n",
       "  <thead>\n",
       "    <tr style=\"text-align: right;\">\n",
       "      <th></th>\n",
       "      <th>Height</th>\n",
       "      <th>Weight</th>\n",
       "    </tr>\n",
       "  </thead>\n",
       "  <tbody>\n",
       "    <tr>\n",
       "      <th>count</th>\n",
       "      <td>9797.000000</td>\n",
       "      <td>9797.000000</td>\n",
       "    </tr>\n",
       "    <tr>\n",
       "      <th>mean</th>\n",
       "      <td>66.361792</td>\n",
       "      <td>161.381589</td>\n",
       "    </tr>\n",
       "    <tr>\n",
       "      <th>std</th>\n",
       "      <td>3.642662</td>\n",
       "      <td>30.920412</td>\n",
       "    </tr>\n",
       "    <tr>\n",
       "      <th>min</th>\n",
       "      <td>58.134496</td>\n",
       "      <td>77.523774</td>\n",
       "    </tr>\n",
       "    <tr>\n",
       "      <th>25%</th>\n",
       "      <td>63.577118</td>\n",
       "      <td>136.317375</td>\n",
       "    </tr>\n",
       "    <tr>\n",
       "      <th>50%</th>\n",
       "      <td>66.317755</td>\n",
       "      <td>161.193433</td>\n",
       "    </tr>\n",
       "    <tr>\n",
       "      <th>75%</th>\n",
       "      <td>69.119803</td>\n",
       "      <td>186.737996</td>\n",
       "    </tr>\n",
       "    <tr>\n",
       "      <th>max</th>\n",
       "      <td>74.724139</td>\n",
       "      <td>249.946283</td>\n",
       "    </tr>\n",
       "  </tbody>\n",
       "</table>\n",
       "</div>"
      ],
      "text/plain": [
       "            Height       Weight\n",
       "count  9797.000000  9797.000000\n",
       "mean     66.361792   161.381589\n",
       "std       3.642662    30.920412\n",
       "min      58.134496    77.523774\n",
       "25%      63.577118   136.317375\n",
       "50%      66.317755   161.193433\n",
       "75%      69.119803   186.737996\n",
       "max      74.724139   249.946283"
      ]
     },
     "execution_count": 9,
     "metadata": {},
     "output_type": "execute_result"
    }
   ],
   "source": [
    "new_df.describe() "
   ]
  },
  {
   "cell_type": "code",
   "execution_count": 10,
   "id": "a629f6a9",
   "metadata": {
    "execution": {
     "iopub.execute_input": "2025-03-25T11:35:42.926543Z",
     "iopub.status.busy": "2025-03-25T11:35:42.926183Z",
     "iopub.status.idle": "2025-03-25T11:35:42.942474Z",
     "shell.execute_reply": "2025-03-25T11:35:42.941319Z"
    },
    "papermill": {
     "duration": 0.025876,
     "end_time": "2025-03-25T11:35:42.944629",
     "exception": false,
     "start_time": "2025-03-25T11:35:42.918753",
     "status": "completed"
    },
    "tags": []
   },
   "outputs": [
    {
     "data": {
      "text/html": [
       "<div>\n",
       "<style scoped>\n",
       "    .dataframe tbody tr th:only-of-type {\n",
       "        vertical-align: middle;\n",
       "    }\n",
       "\n",
       "    .dataframe tbody tr th {\n",
       "        vertical-align: top;\n",
       "    }\n",
       "\n",
       "    .dataframe thead th {\n",
       "        text-align: right;\n",
       "    }\n",
       "</style>\n",
       "<table border=\"1\" class=\"dataframe\">\n",
       "  <thead>\n",
       "    <tr style=\"text-align: right;\">\n",
       "      <th></th>\n",
       "      <th>Height</th>\n",
       "      <th>Weight</th>\n",
       "    </tr>\n",
       "  </thead>\n",
       "  <tbody>\n",
       "    <tr>\n",
       "      <th>count</th>\n",
       "      <td>10000.000000</td>\n",
       "      <td>10000.000000</td>\n",
       "    </tr>\n",
       "    <tr>\n",
       "      <th>mean</th>\n",
       "      <td>66.367560</td>\n",
       "      <td>161.440357</td>\n",
       "    </tr>\n",
       "    <tr>\n",
       "      <th>std</th>\n",
       "      <td>3.847528</td>\n",
       "      <td>32.108439</td>\n",
       "    </tr>\n",
       "    <tr>\n",
       "      <th>min</th>\n",
       "      <td>54.263133</td>\n",
       "      <td>64.700127</td>\n",
       "    </tr>\n",
       "    <tr>\n",
       "      <th>25%</th>\n",
       "      <td>63.505620</td>\n",
       "      <td>135.818051</td>\n",
       "    </tr>\n",
       "    <tr>\n",
       "      <th>50%</th>\n",
       "      <td>66.318070</td>\n",
       "      <td>161.212928</td>\n",
       "    </tr>\n",
       "    <tr>\n",
       "      <th>75%</th>\n",
       "      <td>69.174262</td>\n",
       "      <td>187.169525</td>\n",
       "    </tr>\n",
       "    <tr>\n",
       "      <th>max</th>\n",
       "      <td>78.998742</td>\n",
       "      <td>269.989699</td>\n",
       "    </tr>\n",
       "  </tbody>\n",
       "</table>\n",
       "</div>"
      ],
      "text/plain": [
       "             Height        Weight\n",
       "count  10000.000000  10000.000000\n",
       "mean      66.367560    161.440357\n",
       "std        3.847528     32.108439\n",
       "min       54.263133     64.700127\n",
       "25%       63.505620    135.818051\n",
       "50%       66.318070    161.212928\n",
       "75%       69.174262    187.169525\n",
       "max       78.998742    269.989699"
      ]
     },
     "execution_count": 10,
     "metadata": {},
     "output_type": "execute_result"
    }
   ],
   "source": [
    "df.describe()"
   ]
  },
  {
   "cell_type": "code",
   "execution_count": 11,
   "id": "5c954390",
   "metadata": {
    "execution": {
     "iopub.execute_input": "2025-03-25T11:35:42.957802Z",
     "iopub.status.busy": "2025-03-25T11:35:42.957380Z",
     "iopub.status.idle": "2025-03-25T11:35:43.264108Z",
     "shell.execute_reply": "2025-03-25T11:35:43.262900Z"
    },
    "papermill": {
     "duration": 0.315515,
     "end_time": "2025-03-25T11:35:43.266149",
     "exception": false,
     "start_time": "2025-03-25T11:35:42.950634",
     "status": "completed"
    },
    "tags": []
   },
   "outputs": [
    {
     "name": "stderr",
     "output_type": "stream",
     "text": [
      "<ipython-input-11-26dbcd94f059>:1: UserWarning: \n",
      "\n",
      "`distplot` is a deprecated function and will be removed in seaborn v0.14.0.\n",
      "\n",
      "Please adapt your code to use either `displot` (a figure-level function with\n",
      "similar flexibility) or `histplot` (an axes-level function for histograms).\n",
      "\n",
      "For a guide to updating your code to use the new functions, please see\n",
      "https://gist.github.com/mwaskom/de44147ed2974457ad6372750bbe5751\n",
      "\n",
      "  sns.distplot(df['Height'])\n",
      "/usr/local/lib/python3.10/dist-packages/seaborn/_oldcore.py:1119: FutureWarning: use_inf_as_na option is deprecated and will be removed in a future version. Convert inf values to NaN before operating instead.\n",
      "  with pd.option_context('mode.use_inf_as_na', True):\n"
     ]
    },
    {
     "data": {
      "text/plain": [
       "<Axes: xlabel='Height', ylabel='Density'>"
      ]
     },
     "execution_count": 11,
     "metadata": {},
     "output_type": "execute_result"
    },
    {
     "data": {
      "image/png": "[encoded data removed]",
      "text/plain": [
       "<Figure size 640x480 with 1 Axes>"
      ]
     },
     "metadata": {},
     "output_type": "display_data"
    }
   ],
   "source": [
    "sns.distplot(df['Height'])"
   ]
  },
  {
   "cell_type": "code",
   "execution_count": 12,
   "id": "2cbb43ea",
   "metadata": {
    "execution": {
     "iopub.execute_input": "2025-03-25T11:35:43.281388Z",
     "iopub.status.busy": "2025-03-25T11:35:43.280960Z",
     "iopub.status.idle": "2025-03-25T11:35:43.426212Z",
     "shell.execute_reply": "2025-03-25T11:35:43.424965Z"
    },
    "papermill": {
     "duration": 0.155223,
     "end_time": "2025-03-25T11:35:43.428342",
     "exception": false,
     "start_time": "2025-03-25T11:35:43.273119",
     "status": "completed"
    },
    "tags": []
   },
   "outputs": [
    {
     "data": {
      "text/plain": [
       "<Axes: xlabel='Height'>"
      ]
     },
     "execution_count": 12,
     "metadata": {},
     "output_type": "execute_result"
    },
    {
     "data": {
      "image/png": "[encoded data removed]",
      "text/plain": [
       "<Figure size 640x480 with 1 Axes>"
      ]
     },
     "metadata": {},
     "output_type": "display_data"
    }
   ],
   "source": [
    "sns.boxplot(x=new_df['Height'])"
   ]
  },
  {
   "cell_type": "markdown",
   "id": "9fadfadf",
   "metadata": {
    "papermill": {
     "duration": 0.006525,
     "end_time": "2025-03-25T11:35:43.443378",
     "exception": false,
     "start_time": "2025-03-25T11:35:43.436853",
     "status": "completed"
    },
    "tags": []
   },
   "source": [
    "### Capping - Winsorization"
   ]
  },
  {
   "cell_type": "code",
   "execution_count": 13,
   "id": "937ff74a",
   "metadata": {
    "execution": {
     "iopub.execute_input": "2025-03-25T11:35:43.458908Z",
     "iopub.status.busy": "2025-03-25T11:35:43.458537Z",
     "iopub.status.idle": "2025-03-25T11:35:43.464421Z",
     "shell.execute_reply": "2025-03-25T11:35:43.463391Z"
    },
    "papermill": {
     "duration": 0.016204,
     "end_time": "2025-03-25T11:35:43.466393",
     "exception": false,
     "start_time": "2025-03-25T11:35:43.450189",
     "status": "completed"
    },
    "tags": []
   },
   "outputs": [],
   "source": [
    "df['Height'] = np.where(df['Height'] > upper_limit, upper_limit, np.where(df['Height'] < lower_limit, lower_limit, df['Height']))"
   ]
  },
  {
   "cell_type": "code",
   "execution_count": 14,
   "id": "dd37c56a",
   "metadata": {
    "execution": {
     "iopub.execute_input": "2025-03-25T11:35:43.482047Z",
     "iopub.status.busy": "2025-03-25T11:35:43.481586Z",
     "iopub.status.idle": "2025-03-25T11:35:43.492596Z",
     "shell.execute_reply": "2025-03-25T11:35:43.491427Z"
    },
    "papermill": {
     "duration": 0.021186,
     "end_time": "2025-03-25T11:35:43.494702",
     "exception": false,
     "start_time": "2025-03-25T11:35:43.473516",
     "status": "completed"
    },
    "tags": []
   },
   "outputs": [
    {
     "data": {
      "text/plain": [
       "count    10000.000000\n",
       "mean        66.366281\n",
       "std          3.795717\n",
       "min         58.134412\n",
       "25%         63.505620\n",
       "50%         66.318070\n",
       "75%         69.174262\n",
       "max         74.785790\n",
       "Name: Height, dtype: float64"
      ]
     },
     "execution_count": 14,
     "metadata": {},
     "output_type": "execute_result"
    }
   ],
   "source": [
    "df['Height'].describe()"
   ]
  },
  {
   "cell_type": "code",
   "execution_count": 15,
   "id": "f2a12207",
   "metadata": {
    "execution": {
     "iopub.execute_input": "2025-03-25T11:35:43.510733Z",
     "iopub.status.busy": "2025-03-25T11:35:43.510249Z",
     "iopub.status.idle": "2025-03-25T11:35:43.811784Z",
     "shell.execute_reply": "2025-03-25T11:35:43.810655Z"
    },
    "papermill": {
     "duration": 0.311576,
     "end_time": "2025-03-25T11:35:43.813735",
     "exception": false,
     "start_time": "2025-03-25T11:35:43.502159",
     "status": "completed"
    },
    "tags": []
   },
   "outputs": [
    {
     "name": "stderr",
     "output_type": "stream",
     "text": [
      "<ipython-input-15-26dbcd94f059>:1: UserWarning: \n",
      "\n",
      "`distplot` is a deprecated function and will be removed in seaborn v0.14.0.\n",
      "\n",
      "Please adapt your code to use either `displot` (a figure-level function with\n",
      "similar flexibility) or `histplot` (an axes-level function for histograms).\n",
      "\n",
      "For a guide to updating your code to use the new functions, please see\n",
      "https://gist.github.com/mwaskom/de44147ed2974457ad6372750bbe5751\n",
      "\n",
      "  sns.distplot(df['Height'])\n",
      "/usr/local/lib/python3.10/dist-packages/seaborn/_oldcore.py:1119: FutureWarning: use_inf_as_na option is deprecated and will be removed in a future version. Convert inf values to NaN before operating instead.\n",
      "  with pd.option_context('mode.use_inf_as_na', True):\n"
     ]
    },
    {
     "data": {
      "text/plain": [
       "<Axes: xlabel='Height', ylabel='Density'>"
      ]
     },
     "execution_count": 15,
     "metadata": {},
     "output_type": "execute_result"
    },
    {
     "data": {
      "image/png": "[encoded data removed]",
      "text/plain": [
       "<Figure size 640x480 with 1 Axes>"
      ]
     },
     "metadata": {},
     "output_type": "display_data"
    }
   ],
   "source": [
    "sns.distplot(df['Height'])"
   ]
  },
  {
   "cell_type": "code",
   "execution_count": 16,
   "id": "221c6294",
   "metadata": {
    "execution": {
     "iopub.execute_input": "2025-03-25T11:35:43.833795Z",
     "iopub.status.busy": "2025-03-25T11:35:43.833279Z",
     "iopub.status.idle": "2025-03-25T11:35:43.995038Z",
     "shell.execute_reply": "2025-03-25T11:35:43.993682Z"
    },
    "papermill": {
     "duration": 0.175201,
     "end_time": "2025-03-25T11:35:43.996892",
     "exception": false,
     "start_time": "2025-03-25T11:35:43.821691",
     "status": "completed"
    },
    "tags": []
   },
   "outputs": [
    {
     "data": {
      "text/plain": [
       "<Axes: xlabel='Height'>"
      ]
     },
     "execution_count": 16,
     "metadata": {},
     "output_type": "execute_result"
    },
    {
     "data": {
      "image/png": "[encoded data removed]",
      "text/plain": [
       "<Figure size 640x480 with 1 Axes>"
      ]
     },
     "metadata": {},
     "output_type": "display_data"
    }
   ],
   "source": [
    "sns.boxplot(x=df['Height'])"
   ]
  },
  {
   "cell_type": "code",
   "execution_count": null,
   "id": "5117bcec",
   "metadata": {
    "papermill": {
     "duration": 0.012401,
     "end_time": "2025-03-25T11:35:44.022558",
     "exception": false,
     "start_time": "2025-03-25T11:35:44.010157",
     "status": "completed"
    },
    "tags": []
   },
   "outputs": [],
   "source": []
  }
 ],
 "metadata": {
  "kaggle": {
   "accelerator": "none",
   "dataSources": [
    {
     "datasetId": 6963874,
     "sourceId": 11160485,
     "sourceType": "datasetVersion"
    }
   ],
   "dockerImageVersionId": 30918,
   "isGpuEnabled": false,
   "isInternetEnabled": false,
   "language": "python",
   "sourceType": "notebook"
  },
  "kernelspec": {
   "display_name": "Python 3",
   "language": "python",
   "name": "python3"
  },
  "language_info": {
   "codemirror_mode": {
    "name": "ipython",
    "version": 3
   },
   "file_extension": ".py",
   "mimetype": "text/x-python",
   "name": "python",
   "nbconvert_exporter": "python",
   "pygments_lexer": "ipython3",
   "version": "3.10.12"
  },
  "papermill": {
   "default_parameters": {},
   "duration": 8.434924,
   "end_time": "2025-03-25T11:35:44.859964",
   "environment_variables": {},
   "exception": null,
   "input_path": "__notebook__.ipynb",
   "output_path": "__notebook__.ipynb",
   "parameters": {},
   "start_time": "2025-03-25T11:35:36.425040",
   "version": "2.6.0"
  }
 },
 "nbformat": 4,
 "nbformat_minor": 5
}
