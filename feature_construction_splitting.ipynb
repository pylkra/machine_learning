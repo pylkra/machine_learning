{
 "cells": [
  {
   "cell_type": "code",
   "execution_count": 1,
   "id": "2c0e1932",
   "metadata": {
    "_cell_guid": "b1076dfc-b9ad-4769-8c92-a6c4dae69d19",
    "_uuid": "8f2839f25d086af736a60e9eeb907d3b93b6e0e5",
    "execution": {
     "iopub.execute_input": "2025-03-27T08:41:25.766578Z",
     "iopub.status.busy": "2025-03-27T08:41:25.766134Z",
     "iopub.status.idle": "2025-03-27T08:41:26.887778Z",
     "shell.execute_reply": "2025-03-27T08:41:26.886664Z"
    },
    "papermill": {
     "duration": 1.130885,
     "end_time": "2025-03-27T08:41:26.889601",
     "exception": false,
     "start_time": "2025-03-27T08:41:25.758716",
     "status": "completed"
    },
    "tags": []
   },
   "outputs": [
    {
     "name": "stdout",
     "output_type": "stream",
     "text": [
      "/kaggle/input/titanic-dataset/train (2).csv\n"
     ]
    }
   ],
   "source": [
    "# This Python 3 environment comes with many helpful analytics libraries installed\n",
    "# It is defined by the kaggle/python Docker image: https://github.com/kaggle/docker-python\n",
    "# For example, here's several helpful packages to load\n",
    "\n",
    "import numpy as np # linear algebra\n",
    "import pandas as pd # data processing, CSV file I/O (e.g. pd.read_csv)\n",
    "\n",
    "# Input data files are available in the read-only \"../input/\" directory\n",
    "# For example, running this (by clicking run or pressing Shift+Enter) will list all files under the input directory\n",
    "\n",
    "import os\n",
    "for dirname, _, filenames in os.walk('/kaggle/input'):\n",
    "    for filename in filenames:\n",
    "        print(os.path.join(dirname, filename))\n",
    "\n",
    "# You can write up to 20GB to the current directory (/kaggle/working/) that gets preserved as output when you create a version using \"Save & Run All\" \n",
    "# You can also write temporary files to /kaggle/temp/, but they won't be saved outside of the current session"
   ]
  },
  {
   "cell_type": "code",
   "execution_count": 2,
   "id": "e3ea12cd",
   "metadata": {
    "execution": {
     "iopub.execute_input": "2025-03-27T08:41:26.902679Z",
     "iopub.status.busy": "2025-03-27T08:41:26.902188Z",
     "iopub.status.idle": "2025-03-27T08:41:26.937930Z",
     "shell.execute_reply": "2025-03-27T08:41:26.936963Z"
    },
    "papermill": {
     "duration": 0.044108,
     "end_time": "2025-03-27T08:41:26.939731",
     "exception": false,
     "start_time": "2025-03-27T08:41:26.895623",
     "status": "completed"
    },
    "tags": []
   },
   "outputs": [],
   "source": [
    "df = pd.read_csv('/kaggle/input/titanic-dataset/train (2).csv')[['Age','Pclass','SibSp','Parch','Survived']]"
   ]
  },
  {
   "cell_type": "code",
   "execution_count": 3,
   "id": "90323c3e",
   "metadata": {
    "execution": {
     "iopub.execute_input": "2025-03-27T08:41:26.952516Z",
     "iopub.status.busy": "2025-03-27T08:41:26.952198Z",
     "iopub.status.idle": "2025-03-27T08:41:26.962383Z",
     "shell.execute_reply": "2025-03-27T08:41:26.961189Z"
    },
    "papermill": {
     "duration": 0.018629,
     "end_time": "2025-03-27T08:41:26.964048",
     "exception": false,
     "start_time": "2025-03-27T08:41:26.945419",
     "status": "completed"
    },
    "tags": []
   },
   "outputs": [
    {
     "data": {
      "text/plain": [
       "Age         177\n",
       "Pclass        0\n",
       "SibSp         0\n",
       "Parch         0\n",
       "Survived      0\n",
       "dtype: int64"
      ]
     },
     "execution_count": 3,
     "metadata": {},
     "output_type": "execute_result"
    }
   ],
   "source": [
    "df.isnull().sum()"
   ]
  },
  {
   "cell_type": "code",
   "execution_count": 4,
   "id": "4da254c7",
   "metadata": {
    "execution": {
     "iopub.execute_input": "2025-03-27T08:41:26.976294Z",
     "iopub.status.busy": "2025-03-27T08:41:26.975983Z",
     "iopub.status.idle": "2025-03-27T08:41:26.981502Z",
     "shell.execute_reply": "2025-03-27T08:41:26.980454Z"
    },
    "papermill": {
     "duration": 0.013443,
     "end_time": "2025-03-27T08:41:26.983142",
     "exception": false,
     "start_time": "2025-03-27T08:41:26.969699",
     "status": "completed"
    },
    "tags": []
   },
   "outputs": [],
   "source": [
    "df.dropna(inplace=True)"
   ]
  },
  {
   "cell_type": "code",
   "execution_count": 5,
   "id": "846f8c94",
   "metadata": {
    "execution": {
     "iopub.execute_input": "2025-03-27T08:41:26.995534Z",
     "iopub.status.busy": "2025-03-27T08:41:26.995197Z",
     "iopub.status.idle": "2025-03-27T08:41:27.018433Z",
     "shell.execute_reply": "2025-03-27T08:41:27.017238Z"
    },
    "papermill": {
     "duration": 0.031516,
     "end_time": "2025-03-27T08:41:27.020355",
     "exception": false,
     "start_time": "2025-03-27T08:41:26.988839",
     "status": "completed"
    },
    "tags": []
   },
   "outputs": [
    {
     "data": {
      "text/html": [
       "<div>\n",
       "<style scoped>\n",
       "    .dataframe tbody tr th:only-of-type {\n",
       "        vertical-align: middle;\n",
       "    }\n",
       "\n",
       "    .dataframe tbody tr th {\n",
       "        vertical-align: top;\n",
       "    }\n",
       "\n",
       "    .dataframe thead th {\n",
       "        text-align: right;\n",
       "    }\n",
       "</style>\n",
       "<table border=\"1\" class=\"dataframe\">\n",
       "  <thead>\n",
       "    <tr style=\"text-align: right;\">\n",
       "      <th></th>\n",
       "      <th>Age</th>\n",
       "      <th>Pclass</th>\n",
       "      <th>SibSp</th>\n",
       "      <th>Parch</th>\n",
       "      <th>Survived</th>\n",
       "    </tr>\n",
       "  </thead>\n",
       "  <tbody>\n",
       "    <tr>\n",
       "      <th>0</th>\n",
       "      <td>22.0</td>\n",
       "      <td>3</td>\n",
       "      <td>1</td>\n",
       "      <td>0</td>\n",
       "      <td>0</td>\n",
       "    </tr>\n",
       "    <tr>\n",
       "      <th>1</th>\n",
       "      <td>38.0</td>\n",
       "      <td>1</td>\n",
       "      <td>1</td>\n",
       "      <td>0</td>\n",
       "      <td>1</td>\n",
       "    </tr>\n",
       "    <tr>\n",
       "      <th>2</th>\n",
       "      <td>26.0</td>\n",
       "      <td>3</td>\n",
       "      <td>0</td>\n",
       "      <td>0</td>\n",
       "      <td>1</td>\n",
       "    </tr>\n",
       "    <tr>\n",
       "      <th>3</th>\n",
       "      <td>35.0</td>\n",
       "      <td>1</td>\n",
       "      <td>1</td>\n",
       "      <td>0</td>\n",
       "      <td>1</td>\n",
       "    </tr>\n",
       "    <tr>\n",
       "      <th>4</th>\n",
       "      <td>35.0</td>\n",
       "      <td>3</td>\n",
       "      <td>0</td>\n",
       "      <td>0</td>\n",
       "      <td>0</td>\n",
       "    </tr>\n",
       "  </tbody>\n",
       "</table>\n",
       "</div>"
      ],
      "text/plain": [
       "    Age  Pclass  SibSp  Parch  Survived\n",
       "0  22.0       3      1      0         0\n",
       "1  38.0       1      1      0         1\n",
       "2  26.0       3      0      0         1\n",
       "3  35.0       1      1      0         1\n",
       "4  35.0       3      0      0         0"
      ]
     },
     "execution_count": 5,
     "metadata": {},
     "output_type": "execute_result"
    }
   ],
   "source": [
    "df.head()"
   ]
  },
  {
   "cell_type": "code",
   "execution_count": 6,
   "id": "e8f9ae0d",
   "metadata": {
    "execution": {
     "iopub.execute_input": "2025-03-27T08:41:27.033158Z",
     "iopub.status.busy": "2025-03-27T08:41:27.032830Z",
     "iopub.status.idle": "2025-03-27T08:41:27.037729Z",
     "shell.execute_reply": "2025-03-27T08:41:27.036675Z"
    },
    "papermill": {
     "duration": 0.013239,
     "end_time": "2025-03-27T08:41:27.039567",
     "exception": false,
     "start_time": "2025-03-27T08:41:27.026328",
     "status": "completed"
    },
    "tags": []
   },
   "outputs": [],
   "source": [
    "X = df.iloc[:,:3]\n",
    "y = df.iloc[:,-1]"
   ]
  },
  {
   "cell_type": "code",
   "execution_count": 7,
   "id": "3e169d0e",
   "metadata": {
    "execution": {
     "iopub.execute_input": "2025-03-27T08:41:27.052240Z",
     "iopub.status.busy": "2025-03-27T08:41:27.051807Z",
     "iopub.status.idle": "2025-03-27T08:41:29.092527Z",
     "shell.execute_reply": "2025-03-27T08:41:29.091400Z"
    },
    "papermill": {
     "duration": 2.049077,
     "end_time": "2025-03-27T08:41:29.094493",
     "exception": false,
     "start_time": "2025-03-27T08:41:27.045416",
     "status": "completed"
    },
    "tags": []
   },
   "outputs": [],
   "source": [
    "from sklearn.model_selection import cross_val_score\n",
    "from sklearn.linear_model import LogisticRegression"
   ]
  },
  {
   "cell_type": "code",
   "execution_count": 8,
   "id": "14ea90a9",
   "metadata": {
    "execution": {
     "iopub.execute_input": "2025-03-27T08:41:29.107856Z",
     "iopub.status.busy": "2025-03-27T08:41:29.107335Z",
     "iopub.status.idle": "2025-03-27T08:41:29.359106Z",
     "shell.execute_reply": "2025-03-27T08:41:29.357899Z"
    },
    "papermill": {
     "duration": 0.260376,
     "end_time": "2025-03-27T08:41:29.361160",
     "exception": false,
     "start_time": "2025-03-27T08:41:29.100784",
     "status": "completed"
    },
    "tags": []
   },
   "outputs": [
    {
     "data": {
      "text/plain": [
       "0.6836507936507935"
      ]
     },
     "execution_count": 8,
     "metadata": {},
     "output_type": "execute_result"
    }
   ],
   "source": [
    "np.mean(cross_val_score(LogisticRegression(),X,y,scoring='accuracy',cv=20))"
   ]
  },
  {
   "cell_type": "markdown",
   "id": "ef27a93a",
   "metadata": {
    "papermill": {
     "duration": 0.005325,
     "end_time": "2025-03-27T08:41:29.372526",
     "exception": false,
     "start_time": "2025-03-27T08:41:29.367201",
     "status": "completed"
    },
    "tags": []
   },
   "source": [
    "## Applying Feature Construction"
   ]
  },
  {
   "cell_type": "code",
   "execution_count": 9,
   "id": "c1400e05",
   "metadata": {
    "execution": {
     "iopub.execute_input": "2025-03-27T08:41:29.385350Z",
     "iopub.status.busy": "2025-03-27T08:41:29.385001Z",
     "iopub.status.idle": "2025-03-27T08:41:29.393638Z",
     "shell.execute_reply": "2025-03-27T08:41:29.392471Z"
    },
    "papermill": {
     "duration": 0.017252,
     "end_time": "2025-03-27T08:41:29.395550",
     "exception": false,
     "start_time": "2025-03-27T08:41:29.378298",
     "status": "completed"
    },
    "tags": []
   },
   "outputs": [
    {
     "data": {
      "text/plain": [
       "0      1\n",
       "1      1\n",
       "2      0\n",
       "3      1\n",
       "4      0\n",
       "      ..\n",
       "885    5\n",
       "886    0\n",
       "887    0\n",
       "889    0\n",
       "890    0\n",
       "Name: Family_type, Length: 714, dtype: int64"
      ]
     },
     "execution_count": 9,
     "metadata": {},
     "output_type": "execute_result"
    }
   ],
   "source": [
    "X['Family_type'] = df['SibSp'] + df['Parch'] \n",
    "X['Family_type'] "
   ]
  },
  {
   "cell_type": "code",
   "execution_count": 10,
   "id": "a84ca0a8",
   "metadata": {
    "execution": {
     "iopub.execute_input": "2025-03-27T08:41:29.408843Z",
     "iopub.status.busy": "2025-03-27T08:41:29.408469Z",
     "iopub.status.idle": "2025-03-27T08:41:29.412963Z",
     "shell.execute_reply": "2025-03-27T08:41:29.411891Z"
    },
    "papermill": {
     "duration": 0.012992,
     "end_time": "2025-03-27T08:41:29.414675",
     "exception": false,
     "start_time": "2025-03-27T08:41:29.401683",
     "status": "completed"
    },
    "tags": []
   },
   "outputs": [],
   "source": [
    "def myfunc(num):\n",
    "    if num ==1:\n",
    "        return 0\n",
    "    elif num>1 and  num<=4:\n",
    "        return 1\n",
    "    else:\n",
    "        return 2\n",
    "       \n",
    "        "
   ]
  },
  {
   "cell_type": "code",
   "execution_count": 11,
   "id": "9f55063d",
   "metadata": {
    "execution": {
     "iopub.execute_input": "2025-03-27T08:41:29.428310Z",
     "iopub.status.busy": "2025-03-27T08:41:29.427961Z",
     "iopub.status.idle": "2025-03-27T08:41:29.437748Z",
     "shell.execute_reply": "2025-03-27T08:41:29.436872Z"
    },
    "papermill": {
     "duration": 0.018376,
     "end_time": "2025-03-27T08:41:29.439432",
     "exception": false,
     "start_time": "2025-03-27T08:41:29.421056",
     "status": "completed"
    },
    "tags": []
   },
   "outputs": [
    {
     "data": {
      "text/html": [
       "<div>\n",
       "<style scoped>\n",
       "    .dataframe tbody tr th:only-of-type {\n",
       "        vertical-align: middle;\n",
       "    }\n",
       "\n",
       "    .dataframe tbody tr th {\n",
       "        vertical-align: top;\n",
       "    }\n",
       "\n",
       "    .dataframe thead th {\n",
       "        text-align: right;\n",
       "    }\n",
       "</style>\n",
       "<table border=\"1\" class=\"dataframe\">\n",
       "  <thead>\n",
       "    <tr style=\"text-align: right;\">\n",
       "      <th></th>\n",
       "      <th>Age</th>\n",
       "      <th>Pclass</th>\n",
       "      <th>SibSp</th>\n",
       "      <th>Family_type</th>\n",
       "    </tr>\n",
       "  </thead>\n",
       "  <tbody>\n",
       "    <tr>\n",
       "      <th>0</th>\n",
       "      <td>22.0</td>\n",
       "      <td>3</td>\n",
       "      <td>1</td>\n",
       "      <td>1</td>\n",
       "    </tr>\n",
       "    <tr>\n",
       "      <th>1</th>\n",
       "      <td>38.0</td>\n",
       "      <td>1</td>\n",
       "      <td>1</td>\n",
       "      <td>1</td>\n",
       "    </tr>\n",
       "    <tr>\n",
       "      <th>2</th>\n",
       "      <td>26.0</td>\n",
       "      <td>3</td>\n",
       "      <td>0</td>\n",
       "      <td>0</td>\n",
       "    </tr>\n",
       "    <tr>\n",
       "      <th>3</th>\n",
       "      <td>35.0</td>\n",
       "      <td>1</td>\n",
       "      <td>1</td>\n",
       "      <td>1</td>\n",
       "    </tr>\n",
       "    <tr>\n",
       "      <th>4</th>\n",
       "      <td>35.0</td>\n",
       "      <td>3</td>\n",
       "      <td>0</td>\n",
       "      <td>0</td>\n",
       "    </tr>\n",
       "  </tbody>\n",
       "</table>\n",
       "</div>"
      ],
      "text/plain": [
       "    Age  Pclass  SibSp  Family_type\n",
       "0  22.0       3      1            1\n",
       "1  38.0       1      1            1\n",
       "2  26.0       3      0            0\n",
       "3  35.0       1      1            1\n",
       "4  35.0       3      0            0"
      ]
     },
     "execution_count": 11,
     "metadata": {},
     "output_type": "execute_result"
    }
   ],
   "source": [
    "X.head()"
   ]
  },
  {
   "cell_type": "code",
   "execution_count": 12,
   "id": "2bbf246f",
   "metadata": {
    "execution": {
     "iopub.execute_input": "2025-03-27T08:41:29.453446Z",
     "iopub.status.busy": "2025-03-27T08:41:29.453067Z",
     "iopub.status.idle": "2025-03-27T08:41:29.458681Z",
     "shell.execute_reply": "2025-03-27T08:41:29.457533Z"
    },
    "papermill": {
     "duration": 0.014689,
     "end_time": "2025-03-27T08:41:29.460623",
     "exception": false,
     "start_time": "2025-03-27T08:41:29.445934",
     "status": "completed"
    },
    "tags": []
   },
   "outputs": [],
   "source": [
    "X['FamilySize'] = X['Family_type'].apply(myfunc)"
   ]
  },
  {
   "cell_type": "code",
   "execution_count": 13,
   "id": "92a59cb8",
   "metadata": {
    "execution": {
     "iopub.execute_input": "2025-03-27T08:41:29.474151Z",
     "iopub.status.busy": "2025-03-27T08:41:29.473718Z",
     "iopub.status.idle": "2025-03-27T08:41:29.485787Z",
     "shell.execute_reply": "2025-03-27T08:41:29.484582Z"
    },
    "papermill": {
     "duration": 0.020653,
     "end_time": "2025-03-27T08:41:29.487471",
     "exception": false,
     "start_time": "2025-03-27T08:41:29.466818",
     "status": "completed"
    },
    "tags": []
   },
   "outputs": [
    {
     "data": {
      "text/html": [
       "<div>\n",
       "<style scoped>\n",
       "    .dataframe tbody tr th:only-of-type {\n",
       "        vertical-align: middle;\n",
       "    }\n",
       "\n",
       "    .dataframe tbody tr th {\n",
       "        vertical-align: top;\n",
       "    }\n",
       "\n",
       "    .dataframe thead th {\n",
       "        text-align: right;\n",
       "    }\n",
       "</style>\n",
       "<table border=\"1\" class=\"dataframe\">\n",
       "  <thead>\n",
       "    <tr style=\"text-align: right;\">\n",
       "      <th></th>\n",
       "      <th>Age</th>\n",
       "      <th>Pclass</th>\n",
       "      <th>SibSp</th>\n",
       "      <th>Family_type</th>\n",
       "      <th>FamilySize</th>\n",
       "    </tr>\n",
       "  </thead>\n",
       "  <tbody>\n",
       "    <tr>\n",
       "      <th>0</th>\n",
       "      <td>22.0</td>\n",
       "      <td>3</td>\n",
       "      <td>1</td>\n",
       "      <td>1</td>\n",
       "      <td>0</td>\n",
       "    </tr>\n",
       "    <tr>\n",
       "      <th>1</th>\n",
       "      <td>38.0</td>\n",
       "      <td>1</td>\n",
       "      <td>1</td>\n",
       "      <td>1</td>\n",
       "      <td>0</td>\n",
       "    </tr>\n",
       "    <tr>\n",
       "      <th>2</th>\n",
       "      <td>26.0</td>\n",
       "      <td>3</td>\n",
       "      <td>0</td>\n",
       "      <td>0</td>\n",
       "      <td>2</td>\n",
       "    </tr>\n",
       "    <tr>\n",
       "      <th>3</th>\n",
       "      <td>35.0</td>\n",
       "      <td>1</td>\n",
       "      <td>1</td>\n",
       "      <td>1</td>\n",
       "      <td>0</td>\n",
       "    </tr>\n",
       "    <tr>\n",
       "      <th>4</th>\n",
       "      <td>35.0</td>\n",
       "      <td>3</td>\n",
       "      <td>0</td>\n",
       "      <td>0</td>\n",
       "      <td>2</td>\n",
       "    </tr>\n",
       "    <tr>\n",
       "      <th>...</th>\n",
       "      <td>...</td>\n",
       "      <td>...</td>\n",
       "      <td>...</td>\n",
       "      <td>...</td>\n",
       "      <td>...</td>\n",
       "    </tr>\n",
       "    <tr>\n",
       "      <th>885</th>\n",
       "      <td>39.0</td>\n",
       "      <td>3</td>\n",
       "      <td>0</td>\n",
       "      <td>5</td>\n",
       "      <td>2</td>\n",
       "    </tr>\n",
       "    <tr>\n",
       "      <th>886</th>\n",
       "      <td>27.0</td>\n",
       "      <td>2</td>\n",
       "      <td>0</td>\n",
       "      <td>0</td>\n",
       "      <td>2</td>\n",
       "    </tr>\n",
       "    <tr>\n",
       "      <th>887</th>\n",
       "      <td>19.0</td>\n",
       "      <td>1</td>\n",
       "      <td>0</td>\n",
       "      <td>0</td>\n",
       "      <td>2</td>\n",
       "    </tr>\n",
       "    <tr>\n",
       "      <th>889</th>\n",
       "      <td>26.0</td>\n",
       "      <td>1</td>\n",
       "      <td>0</td>\n",
       "      <td>0</td>\n",
       "      <td>2</td>\n",
       "    </tr>\n",
       "    <tr>\n",
       "      <th>890</th>\n",
       "      <td>32.0</td>\n",
       "      <td>3</td>\n",
       "      <td>0</td>\n",
       "      <td>0</td>\n",
       "      <td>2</td>\n",
       "    </tr>\n",
       "  </tbody>\n",
       "</table>\n",
       "<p>714 rows × 5 columns</p>\n",
       "</div>"
      ],
      "text/plain": [
       "      Age  Pclass  SibSp  Family_type  FamilySize\n",
       "0    22.0       3      1            1           0\n",
       "1    38.0       1      1            1           0\n",
       "2    26.0       3      0            0           2\n",
       "3    35.0       1      1            1           0\n",
       "4    35.0       3      0            0           2\n",
       "..    ...     ...    ...          ...         ...\n",
       "885  39.0       3      0            5           2\n",
       "886  27.0       2      0            0           2\n",
       "887  19.0       1      0            0           2\n",
       "889  26.0       1      0            0           2\n",
       "890  32.0       3      0            0           2\n",
       "\n",
       "[714 rows x 5 columns]"
      ]
     },
     "execution_count": 13,
     "metadata": {},
     "output_type": "execute_result"
    }
   ],
   "source": [
    "X"
   ]
  },
  {
   "cell_type": "code",
   "execution_count": 14,
   "id": "6f808e30",
   "metadata": {
    "execution": {
     "iopub.execute_input": "2025-03-27T08:41:29.502652Z",
     "iopub.status.busy": "2025-03-27T08:41:29.502254Z",
     "iopub.status.idle": "2025-03-27T08:41:29.507894Z",
     "shell.execute_reply": "2025-03-27T08:41:29.506712Z"
    },
    "papermill": {
     "duration": 0.014966,
     "end_time": "2025-03-27T08:41:29.509607",
     "exception": false,
     "start_time": "2025-03-27T08:41:29.494641",
     "status": "completed"
    },
    "tags": []
   },
   "outputs": [],
   "source": [
    "X.drop(columns=['Pclass','SibSp','Family_type'], inplace=True)"
   ]
  },
  {
   "cell_type": "code",
   "execution_count": 15,
   "id": "485ffef7",
   "metadata": {
    "execution": {
     "iopub.execute_input": "2025-03-27T08:41:29.523673Z",
     "iopub.status.busy": "2025-03-27T08:41:29.523279Z",
     "iopub.status.idle": "2025-03-27T08:41:29.533949Z",
     "shell.execute_reply": "2025-03-27T08:41:29.533068Z"
    },
    "papermill": {
     "duration": 0.019536,
     "end_time": "2025-03-27T08:41:29.535574",
     "exception": false,
     "start_time": "2025-03-27T08:41:29.516038",
     "status": "completed"
    },
    "tags": []
   },
   "outputs": [
    {
     "data": {
      "text/html": [
       "<div>\n",
       "<style scoped>\n",
       "    .dataframe tbody tr th:only-of-type {\n",
       "        vertical-align: middle;\n",
       "    }\n",
       "\n",
       "    .dataframe tbody tr th {\n",
       "        vertical-align: top;\n",
       "    }\n",
       "\n",
       "    .dataframe thead th {\n",
       "        text-align: right;\n",
       "    }\n",
       "</style>\n",
       "<table border=\"1\" class=\"dataframe\">\n",
       "  <thead>\n",
       "    <tr style=\"text-align: right;\">\n",
       "      <th></th>\n",
       "      <th>Age</th>\n",
       "      <th>FamilySize</th>\n",
       "    </tr>\n",
       "  </thead>\n",
       "  <tbody>\n",
       "    <tr>\n",
       "      <th>0</th>\n",
       "      <td>22.0</td>\n",
       "      <td>0</td>\n",
       "    </tr>\n",
       "    <tr>\n",
       "      <th>1</th>\n",
       "      <td>38.0</td>\n",
       "      <td>0</td>\n",
       "    </tr>\n",
       "    <tr>\n",
       "      <th>2</th>\n",
       "      <td>26.0</td>\n",
       "      <td>2</td>\n",
       "    </tr>\n",
       "    <tr>\n",
       "      <th>3</th>\n",
       "      <td>35.0</td>\n",
       "      <td>0</td>\n",
       "    </tr>\n",
       "    <tr>\n",
       "      <th>4</th>\n",
       "      <td>35.0</td>\n",
       "      <td>2</td>\n",
       "    </tr>\n",
       "    <tr>\n",
       "      <th>...</th>\n",
       "      <td>...</td>\n",
       "      <td>...</td>\n",
       "    </tr>\n",
       "    <tr>\n",
       "      <th>885</th>\n",
       "      <td>39.0</td>\n",
       "      <td>2</td>\n",
       "    </tr>\n",
       "    <tr>\n",
       "      <th>886</th>\n",
       "      <td>27.0</td>\n",
       "      <td>2</td>\n",
       "    </tr>\n",
       "    <tr>\n",
       "      <th>887</th>\n",
       "      <td>19.0</td>\n",
       "      <td>2</td>\n",
       "    </tr>\n",
       "    <tr>\n",
       "      <th>889</th>\n",
       "      <td>26.0</td>\n",
       "      <td>2</td>\n",
       "    </tr>\n",
       "    <tr>\n",
       "      <th>890</th>\n",
       "      <td>32.0</td>\n",
       "      <td>2</td>\n",
       "    </tr>\n",
       "  </tbody>\n",
       "</table>\n",
       "<p>714 rows × 2 columns</p>\n",
       "</div>"
      ],
      "text/plain": [
       "      Age  FamilySize\n",
       "0    22.0           0\n",
       "1    38.0           0\n",
       "2    26.0           2\n",
       "3    35.0           0\n",
       "4    35.0           2\n",
       "..    ...         ...\n",
       "885  39.0           2\n",
       "886  27.0           2\n",
       "887  19.0           2\n",
       "889  26.0           2\n",
       "890  32.0           2\n",
       "\n",
       "[714 rows x 2 columns]"
      ]
     },
     "execution_count": 15,
     "metadata": {},
     "output_type": "execute_result"
    }
   ],
   "source": [
    "X"
   ]
  },
  {
   "cell_type": "code",
   "execution_count": 16,
   "id": "ee663960",
   "metadata": {
    "execution": {
     "iopub.execute_input": "2025-03-27T08:41:29.550043Z",
     "iopub.status.busy": "2025-03-27T08:41:29.549634Z",
     "iopub.status.idle": "2025-03-27T08:41:29.739548Z",
     "shell.execute_reply": "2025-03-27T08:41:29.738500Z"
    },
    "papermill": {
     "duration": 0.199214,
     "end_time": "2025-03-27T08:41:29.741355",
     "exception": false,
     "start_time": "2025-03-27T08:41:29.542141",
     "status": "completed"
    },
    "tags": []
   },
   "outputs": [
    {
     "data": {
      "text/plain": [
       "0.6446825396825397"
      ]
     },
     "execution_count": 16,
     "metadata": {},
     "output_type": "execute_result"
    }
   ],
   "source": [
    "np.mean(cross_val_score(LogisticRegression(),X,y,scoring='accuracy',cv=20))"
   ]
  },
  {
   "cell_type": "markdown",
   "id": "d68a2c7f",
   "metadata": {
    "papermill": {
     "duration": 0.00627,
     "end_time": "2025-03-27T08:41:29.754252",
     "exception": false,
     "start_time": "2025-03-27T08:41:29.747982",
     "status": "completed"
    },
    "tags": []
   },
   "source": [
    "## Feature Splitting"
   ]
  },
  {
   "cell_type": "code",
   "execution_count": 17,
   "id": "7c834d28",
   "metadata": {
    "execution": {
     "iopub.execute_input": "2025-03-27T08:41:29.769108Z",
     "iopub.status.busy": "2025-03-27T08:41:29.768721Z",
     "iopub.status.idle": "2025-03-27T08:41:29.778048Z",
     "shell.execute_reply": "2025-03-27T08:41:29.777150Z"
    },
    "papermill": {
     "duration": 0.018626,
     "end_time": "2025-03-27T08:41:29.779715",
     "exception": false,
     "start_time": "2025-03-27T08:41:29.761089",
     "status": "completed"
    },
    "tags": []
   },
   "outputs": [],
   "source": [
    "df = pd.read_csv('/kaggle/input/titanic-dataset/train (2).csv')"
   ]
  },
  {
   "cell_type": "code",
   "execution_count": 18,
   "id": "4b2ccbb1",
   "metadata": {
    "execution": {
     "iopub.execute_input": "2025-03-27T08:41:29.794215Z",
     "iopub.status.busy": "2025-03-27T08:41:29.793755Z",
     "iopub.status.idle": "2025-03-27T08:41:29.807332Z",
     "shell.execute_reply": "2025-03-27T08:41:29.806324Z"
    },
    "papermill": {
     "duration": 0.022559,
     "end_time": "2025-03-27T08:41:29.809084",
     "exception": false,
     "start_time": "2025-03-27T08:41:29.786525",
     "status": "completed"
    },
    "tags": []
   },
   "outputs": [
    {
     "data": {
      "text/html": [
       "<div>\n",
       "<style scoped>\n",
       "    .dataframe tbody tr th:only-of-type {\n",
       "        vertical-align: middle;\n",
       "    }\n",
       "\n",
       "    .dataframe tbody tr th {\n",
       "        vertical-align: top;\n",
       "    }\n",
       "\n",
       "    .dataframe thead th {\n",
       "        text-align: right;\n",
       "    }\n",
       "</style>\n",
       "<table border=\"1\" class=\"dataframe\">\n",
       "  <thead>\n",
       "    <tr style=\"text-align: right;\">\n",
       "      <th></th>\n",
       "      <th>PassengerId</th>\n",
       "      <th>Survived</th>\n",
       "      <th>Pclass</th>\n",
       "      <th>Name</th>\n",
       "      <th>Sex</th>\n",
       "      <th>Age</th>\n",
       "      <th>SibSp</th>\n",
       "      <th>Parch</th>\n",
       "      <th>Ticket</th>\n",
       "      <th>Fare</th>\n",
       "      <th>Cabin</th>\n",
       "      <th>Embarked</th>\n",
       "    </tr>\n",
       "  </thead>\n",
       "  <tbody>\n",
       "    <tr>\n",
       "      <th>0</th>\n",
       "      <td>1</td>\n",
       "      <td>0</td>\n",
       "      <td>3</td>\n",
       "      <td>Braund, Mr. Owen Harris</td>\n",
       "      <td>male</td>\n",
       "      <td>22.0</td>\n",
       "      <td>1</td>\n",
       "      <td>0</td>\n",
       "      <td>A/5 21171</td>\n",
       "      <td>7.2500</td>\n",
       "      <td>NaN</td>\n",
       "      <td>S</td>\n",
       "    </tr>\n",
       "    <tr>\n",
       "      <th>1</th>\n",
       "      <td>2</td>\n",
       "      <td>1</td>\n",
       "      <td>1</td>\n",
       "      <td>Cumings, Mrs. John Bradley (Florence Briggs Th...</td>\n",
       "      <td>female</td>\n",
       "      <td>38.0</td>\n",
       "      <td>1</td>\n",
       "      <td>0</td>\n",
       "      <td>PC 17599</td>\n",
       "      <td>71.2833</td>\n",
       "      <td>C85</td>\n",
       "      <td>C</td>\n",
       "    </tr>\n",
       "    <tr>\n",
       "      <th>2</th>\n",
       "      <td>3</td>\n",
       "      <td>1</td>\n",
       "      <td>3</td>\n",
       "      <td>Heikkinen, Miss. Laina</td>\n",
       "      <td>female</td>\n",
       "      <td>26.0</td>\n",
       "      <td>0</td>\n",
       "      <td>0</td>\n",
       "      <td>STON/O2. 3101282</td>\n",
       "      <td>7.9250</td>\n",
       "      <td>NaN</td>\n",
       "      <td>S</td>\n",
       "    </tr>\n",
       "    <tr>\n",
       "      <th>3</th>\n",
       "      <td>4</td>\n",
       "      <td>1</td>\n",
       "      <td>1</td>\n",
       "      <td>Futrelle, Mrs. Jacques Heath (Lily May Peel)</td>\n",
       "      <td>female</td>\n",
       "      <td>35.0</td>\n",
       "      <td>1</td>\n",
       "      <td>0</td>\n",
       "      <td>113803</td>\n",
       "      <td>53.1000</td>\n",
       "      <td>C123</td>\n",
       "      <td>S</td>\n",
       "    </tr>\n",
       "    <tr>\n",
       "      <th>4</th>\n",
       "      <td>5</td>\n",
       "      <td>0</td>\n",
       "      <td>3</td>\n",
       "      <td>Allen, Mr. William Henry</td>\n",
       "      <td>male</td>\n",
       "      <td>35.0</td>\n",
       "      <td>0</td>\n",
       "      <td>0</td>\n",
       "      <td>373450</td>\n",
       "      <td>8.0500</td>\n",
       "      <td>NaN</td>\n",
       "      <td>S</td>\n",
       "    </tr>\n",
       "  </tbody>\n",
       "</table>\n",
       "</div>"
      ],
      "text/plain": [
       "   PassengerId  Survived  Pclass  \\\n",
       "0            1         0       3   \n",
       "1            2         1       1   \n",
       "2            3         1       3   \n",
       "3            4         1       1   \n",
       "4            5         0       3   \n",
       "\n",
       "                                                Name     Sex   Age  SibSp  \\\n",
       "0                            Braund, Mr. Owen Harris    male  22.0      1   \n",
       "1  Cumings, Mrs. John Bradley (Florence Briggs Th...  female  38.0      1   \n",
       "2                             Heikkinen, Miss. Laina  female  26.0      0   \n",
       "3       Futrelle, Mrs. Jacques Heath (Lily May Peel)  female  35.0      1   \n",
       "4                           Allen, Mr. William Henry    male  35.0      0   \n",
       "\n",
       "   Parch            Ticket     Fare Cabin Embarked  \n",
       "0      0         A/5 21171   7.2500   NaN        S  \n",
       "1      0          PC 17599  71.2833   C85        C  \n",
       "2      0  STON/O2. 3101282   7.9250   NaN        S  \n",
       "3      0            113803  53.1000  C123        S  \n",
       "4      0            373450   8.0500   NaN        S  "
      ]
     },
     "execution_count": 18,
     "metadata": {},
     "output_type": "execute_result"
    }
   ],
   "source": [
    "df.head()"
   ]
  },
  {
   "cell_type": "code",
   "execution_count": 19,
   "id": "be27e577",
   "metadata": {
    "execution": {
     "iopub.execute_input": "2025-03-27T08:41:29.823880Z",
     "iopub.status.busy": "2025-03-27T08:41:29.823506Z",
     "iopub.status.idle": "2025-03-27T08:41:29.830750Z",
     "shell.execute_reply": "2025-03-27T08:41:29.829558Z"
    },
    "papermill": {
     "duration": 0.016431,
     "end_time": "2025-03-27T08:41:29.832313",
     "exception": false,
     "start_time": "2025-03-27T08:41:29.815882",
     "status": "completed"
    },
    "tags": []
   },
   "outputs": [
    {
     "data": {
      "text/plain": [
       "0                                Braund, Mr. Owen Harris\n",
       "1      Cumings, Mrs. John Bradley (Florence Briggs Th...\n",
       "2                                 Heikkinen, Miss. Laina\n",
       "3           Futrelle, Mrs. Jacques Heath (Lily May Peel)\n",
       "4                               Allen, Mr. William Henry\n",
       "                             ...                        \n",
       "886                                Montvila, Rev. Juozas\n",
       "887                         Graham, Miss. Margaret Edith\n",
       "888             Johnston, Miss. Catherine Helen \"Carrie\"\n",
       "889                                Behr, Mr. Karl Howell\n",
       "890                                  Dooley, Mr. Patrick\n",
       "Name: Name, Length: 891, dtype: object"
      ]
     },
     "execution_count": 19,
     "metadata": {},
     "output_type": "execute_result"
    }
   ],
   "source": [
    "df['Name']"
   ]
  },
  {
   "cell_type": "code",
   "execution_count": 20,
   "id": "f8a8d265",
   "metadata": {
    "execution": {
     "iopub.execute_input": "2025-03-27T08:41:29.847085Z",
     "iopub.status.busy": "2025-03-27T08:41:29.846690Z",
     "iopub.status.idle": "2025-03-27T08:41:29.858956Z",
     "shell.execute_reply": "2025-03-27T08:41:29.857936Z"
    },
    "papermill": {
     "duration": 0.021387,
     "end_time": "2025-03-27T08:41:29.860566",
     "exception": false,
     "start_time": "2025-03-27T08:41:29.839179",
     "status": "completed"
    },
    "tags": []
   },
   "outputs": [
    {
     "data": {
      "text/plain": [
       "0         Mr\n",
       "1        Mrs\n",
       "2       Miss\n",
       "3        Mrs\n",
       "4         Mr\n",
       "       ...  \n",
       "886      Rev\n",
       "887     Miss\n",
       "888     Miss\n",
       "889       Mr\n",
       "890       Mr\n",
       "Name: Title, Length: 891, dtype: object"
      ]
     },
     "execution_count": 20,
     "metadata": {},
     "output_type": "execute_result"
    }
   ],
   "source": [
    "df['Title'] = df['Name'].str.split(',',expand=True)[1].str.split('.',expand=True)[0]\n",
    "df['Title']"
   ]
  },
  {
   "cell_type": "code",
   "execution_count": 21,
   "id": "3beb7154",
   "metadata": {
    "execution": {
     "iopub.execute_input": "2025-03-27T08:41:29.875608Z",
     "iopub.status.busy": "2025-03-27T08:41:29.875252Z",
     "iopub.status.idle": "2025-03-27T08:41:29.887120Z",
     "shell.execute_reply": "2025-03-27T08:41:29.886096Z"
    },
    "papermill": {
     "duration": 0.021053,
     "end_time": "2025-03-27T08:41:29.888609",
     "exception": false,
     "start_time": "2025-03-27T08:41:29.867556",
     "status": "completed"
    },
    "tags": []
   },
   "outputs": [
    {
     "data": {
      "text/html": [
       "<div>\n",
       "<style scoped>\n",
       "    .dataframe tbody tr th:only-of-type {\n",
       "        vertical-align: middle;\n",
       "    }\n",
       "\n",
       "    .dataframe tbody tr th {\n",
       "        vertical-align: top;\n",
       "    }\n",
       "\n",
       "    .dataframe thead th {\n",
       "        text-align: right;\n",
       "    }\n",
       "</style>\n",
       "<table border=\"1\" class=\"dataframe\">\n",
       "  <thead>\n",
       "    <tr style=\"text-align: right;\">\n",
       "      <th></th>\n",
       "      <th>Title</th>\n",
       "      <th>Name</th>\n",
       "    </tr>\n",
       "  </thead>\n",
       "  <tbody>\n",
       "    <tr>\n",
       "      <th>0</th>\n",
       "      <td>Mr</td>\n",
       "      <td>Braund, Mr. Owen Harris</td>\n",
       "    </tr>\n",
       "    <tr>\n",
       "      <th>1</th>\n",
       "      <td>Mrs</td>\n",
       "      <td>Cumings, Mrs. John Bradley (Florence Briggs Th...</td>\n",
       "    </tr>\n",
       "    <tr>\n",
       "      <th>2</th>\n",
       "      <td>Miss</td>\n",
       "      <td>Heikkinen, Miss. Laina</td>\n",
       "    </tr>\n",
       "    <tr>\n",
       "      <th>3</th>\n",
       "      <td>Mrs</td>\n",
       "      <td>Futrelle, Mrs. Jacques Heath (Lily May Peel)</td>\n",
       "    </tr>\n",
       "    <tr>\n",
       "      <th>4</th>\n",
       "      <td>Mr</td>\n",
       "      <td>Allen, Mr. William Henry</td>\n",
       "    </tr>\n",
       "    <tr>\n",
       "      <th>...</th>\n",
       "      <td>...</td>\n",
       "      <td>...</td>\n",
       "    </tr>\n",
       "    <tr>\n",
       "      <th>886</th>\n",
       "      <td>Rev</td>\n",
       "      <td>Montvila, Rev. Juozas</td>\n",
       "    </tr>\n",
       "    <tr>\n",
       "      <th>887</th>\n",
       "      <td>Miss</td>\n",
       "      <td>Graham, Miss. Margaret Edith</td>\n",
       "    </tr>\n",
       "    <tr>\n",
       "      <th>888</th>\n",
       "      <td>Miss</td>\n",
       "      <td>Johnston, Miss. Catherine Helen \"Carrie\"</td>\n",
       "    </tr>\n",
       "    <tr>\n",
       "      <th>889</th>\n",
       "      <td>Mr</td>\n",
       "      <td>Behr, Mr. Karl Howell</td>\n",
       "    </tr>\n",
       "    <tr>\n",
       "      <th>890</th>\n",
       "      <td>Mr</td>\n",
       "      <td>Dooley, Mr. Patrick</td>\n",
       "    </tr>\n",
       "  </tbody>\n",
       "</table>\n",
       "<p>891 rows × 2 columns</p>\n",
       "</div>"
      ],
      "text/plain": [
       "     Title                                               Name\n",
       "0       Mr                            Braund, Mr. Owen Harris\n",
       "1      Mrs  Cumings, Mrs. John Bradley (Florence Briggs Th...\n",
       "2     Miss                             Heikkinen, Miss. Laina\n",
       "3      Mrs       Futrelle, Mrs. Jacques Heath (Lily May Peel)\n",
       "4       Mr                           Allen, Mr. William Henry\n",
       "..     ...                                                ...\n",
       "886    Rev                              Montvila, Rev. Juozas\n",
       "887   Miss                       Graham, Miss. Margaret Edith\n",
       "888   Miss           Johnston, Miss. Catherine Helen \"Carrie\"\n",
       "889     Mr                              Behr, Mr. Karl Howell\n",
       "890     Mr                                Dooley, Mr. Patrick\n",
       "\n",
       "[891 rows x 2 columns]"
      ]
     },
     "execution_count": 21,
     "metadata": {},
     "output_type": "execute_result"
    }
   ],
   "source": [
    "df[['Title','Name']]"
   ]
  },
  {
   "cell_type": "code",
   "execution_count": 22,
   "id": "68c95e95",
   "metadata": {
    "execution": {
     "iopub.execute_input": "2025-03-27T08:41:29.904356Z",
     "iopub.status.busy": "2025-03-27T08:41:29.903922Z",
     "iopub.status.idle": "2025-03-27T08:41:29.922897Z",
     "shell.execute_reply": "2025-03-27T08:41:29.921821Z"
    },
    "papermill": {
     "duration": 0.028878,
     "end_time": "2025-03-27T08:41:29.924738",
     "exception": false,
     "start_time": "2025-03-27T08:41:29.895860",
     "status": "completed"
    },
    "tags": []
   },
   "outputs": [
    {
     "data": {
      "text/plain": [
       "Title\n",
       "the Countess    1.000000\n",
       "Mlle            1.000000\n",
       "Sir             1.000000\n",
       "Ms              1.000000\n",
       "Lady            1.000000\n",
       "Mme             1.000000\n",
       "Mrs             0.792000\n",
       "Miss            0.697802\n",
       "Master          0.575000\n",
       "Col             0.500000\n",
       "Major           0.500000\n",
       "Dr              0.428571\n",
       "Mr              0.156673\n",
       "Jonkheer        0.000000\n",
       "Rev             0.000000\n",
       "Don             0.000000\n",
       "Capt            0.000000\n",
       "Name: Survived, dtype: float64"
      ]
     },
     "execution_count": 22,
     "metadata": {},
     "output_type": "execute_result"
    }
   ],
   "source": [
    "(df.groupby('Title')['Survived']).mean().sort_values(ascending=False)"
   ]
  },
  {
   "cell_type": "code",
   "execution_count": 23,
   "id": "4d9cba19",
   "metadata": {
    "execution": {
     "iopub.execute_input": "2025-03-27T08:41:29.940566Z",
     "iopub.status.busy": "2025-03-27T08:41:29.940230Z",
     "iopub.status.idle": "2025-03-27T08:41:29.945863Z",
     "shell.execute_reply": "2025-03-27T08:41:29.944681Z"
    },
    "papermill": {
     "duration": 0.015315,
     "end_time": "2025-03-27T08:41:29.947451",
     "exception": false,
     "start_time": "2025-03-27T08:41:29.932136",
     "status": "completed"
    },
    "tags": []
   },
   "outputs": [],
   "source": [
    "df['Title'] = df['Title'].str.strip()"
   ]
  },
  {
   "cell_type": "code",
   "execution_count": 24,
   "id": "3252d9f8",
   "metadata": {
    "execution": {
     "iopub.execute_input": "2025-03-27T08:41:29.963832Z",
     "iopub.status.busy": "2025-03-27T08:41:29.963484Z",
     "iopub.status.idle": "2025-03-27T08:41:29.969214Z",
     "shell.execute_reply": "2025-03-27T08:41:29.968273Z"
    },
    "papermill": {
     "duration": 0.015453,
     "end_time": "2025-03-27T08:41:29.970948",
     "exception": false,
     "start_time": "2025-03-27T08:41:29.955495",
     "status": "completed"
    },
    "tags": []
   },
   "outputs": [],
   "source": [
    "df['IsMarried'] = 0\n",
    "df.loc[df['Title']=='Mrs','IsMarried'] = 1"
   ]
  },
  {
   "cell_type": "code",
   "execution_count": 25,
   "id": "731d51f5",
   "metadata": {
    "execution": {
     "iopub.execute_input": "2025-03-27T08:41:29.987359Z",
     "iopub.status.busy": "2025-03-27T08:41:29.986973Z",
     "iopub.status.idle": "2025-03-27T08:41:29.996797Z",
     "shell.execute_reply": "2025-03-27T08:41:29.995798Z"
    },
    "papermill": {
     "duration": 0.020068,
     "end_time": "2025-03-27T08:41:29.998383",
     "exception": false,
     "start_time": "2025-03-27T08:41:29.978315",
     "status": "completed"
    },
    "tags": []
   },
   "outputs": [
    {
     "data": {
      "text/html": [
       "<div>\n",
       "<style scoped>\n",
       "    .dataframe tbody tr th:only-of-type {\n",
       "        vertical-align: middle;\n",
       "    }\n",
       "\n",
       "    .dataframe tbody tr th {\n",
       "        vertical-align: top;\n",
       "    }\n",
       "\n",
       "    .dataframe thead th {\n",
       "        text-align: right;\n",
       "    }\n",
       "</style>\n",
       "<table border=\"1\" class=\"dataframe\">\n",
       "  <thead>\n",
       "    <tr style=\"text-align: right;\">\n",
       "      <th></th>\n",
       "      <th>IsMarried</th>\n",
       "      <th>Title</th>\n",
       "    </tr>\n",
       "  </thead>\n",
       "  <tbody>\n",
       "    <tr>\n",
       "      <th>0</th>\n",
       "      <td>0</td>\n",
       "      <td>Mr</td>\n",
       "    </tr>\n",
       "    <tr>\n",
       "      <th>1</th>\n",
       "      <td>1</td>\n",
       "      <td>Mrs</td>\n",
       "    </tr>\n",
       "    <tr>\n",
       "      <th>2</th>\n",
       "      <td>0</td>\n",
       "      <td>Miss</td>\n",
       "    </tr>\n",
       "    <tr>\n",
       "      <th>3</th>\n",
       "      <td>1</td>\n",
       "      <td>Mrs</td>\n",
       "    </tr>\n",
       "    <tr>\n",
       "      <th>4</th>\n",
       "      <td>0</td>\n",
       "      <td>Mr</td>\n",
       "    </tr>\n",
       "    <tr>\n",
       "      <th>...</th>\n",
       "      <td>...</td>\n",
       "      <td>...</td>\n",
       "    </tr>\n",
       "    <tr>\n",
       "      <th>886</th>\n",
       "      <td>0</td>\n",
       "      <td>Rev</td>\n",
       "    </tr>\n",
       "    <tr>\n",
       "      <th>887</th>\n",
       "      <td>0</td>\n",
       "      <td>Miss</td>\n",
       "    </tr>\n",
       "    <tr>\n",
       "      <th>888</th>\n",
       "      <td>0</td>\n",
       "      <td>Miss</td>\n",
       "    </tr>\n",
       "    <tr>\n",
       "      <th>889</th>\n",
       "      <td>0</td>\n",
       "      <td>Mr</td>\n",
       "    </tr>\n",
       "    <tr>\n",
       "      <th>890</th>\n",
       "      <td>0</td>\n",
       "      <td>Mr</td>\n",
       "    </tr>\n",
       "  </tbody>\n",
       "</table>\n",
       "<p>891 rows × 2 columns</p>\n",
       "</div>"
      ],
      "text/plain": [
       "     IsMarried Title\n",
       "0            0    Mr\n",
       "1            1   Mrs\n",
       "2            0  Miss\n",
       "3            1   Mrs\n",
       "4            0    Mr\n",
       "..         ...   ...\n",
       "886          0   Rev\n",
       "887          0  Miss\n",
       "888          0  Miss\n",
       "889          0    Mr\n",
       "890          0    Mr\n",
       "\n",
       "[891 rows x 2 columns]"
      ]
     },
     "execution_count": 25,
     "metadata": {},
     "output_type": "execute_result"
    }
   ],
   "source": [
    "df[['IsMarried','Title']]"
   ]
  },
  {
   "cell_type": "code",
   "execution_count": null,
   "id": "6d4f4017",
   "metadata": {
    "papermill": {
     "duration": 0.007076,
     "end_time": "2025-03-27T08:41:30.012967",
     "exception": false,
     "start_time": "2025-03-27T08:41:30.005891",
     "status": "completed"
    },
    "tags": []
   },
   "outputs": [],
   "source": []
  }
 ],
 "metadata": {
  "kaggle": {
   "accelerator": "none",
   "dataSources": [
    {
     "datasetId": 6979040,
     "sourceId": 11181165,
     "sourceType": "datasetVersion"
    }
   ],
   "dockerImageVersionId": 30918,
   "isGpuEnabled": false,
   "isInternetEnabled": false,
   "language": "python",
   "sourceType": "notebook"
  },
  "kernelspec": {
   "display_name": "Python 3",
   "language": "python",
   "name": "python3"
  },
  "language_info": {
   "codemirror_mode": {
    "name": "ipython",
    "version": 3
   },
   "file_extension": ".py",
   "mimetype": "text/x-python",
   "name": "python",
   "nbconvert_exporter": "python",
   "pygments_lexer": "ipython3",
   "version": "3.10.12"
  },
  "papermill": {
   "default_parameters": {},
   "duration": 7.924334,
   "end_time": "2025-03-27T08:41:30.742034",
   "environment_variables": {},
   "exception": null,
   "input_path": "__notebook__.ipynb",
   "output_path": "__notebook__.ipynb",
   "parameters": {},
   "start_time": "2025-03-27T08:41:22.817700",
   "version": "2.6.0"
  }
 },
 "nbformat": 4,
 "nbformat_minor": 5
}
