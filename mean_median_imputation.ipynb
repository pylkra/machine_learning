{
 "cells": [
  {
   "cell_type": "code",
   "execution_count": 1,
   "id": "e9710cd4",
   "metadata": {
    "_cell_guid": "b1076dfc-b9ad-4769-8c92-a6c4dae69d19",
    "_uuid": "8f2839f25d086af736a60e9eeb907d3b93b6e0e5",
    "execution": {
     "iopub.execute_input": "2025-03-19T11:39:43.673934Z",
     "iopub.status.busy": "2025-03-19T11:39:43.673572Z",
     "iopub.status.idle": "2025-03-19T11:39:44.614065Z",
     "shell.execute_reply": "2025-03-19T11:39:44.612722Z"
    },
    "papermill": {
     "duration": 0.95013,
     "end_time": "2025-03-19T11:39:44.615892",
     "exception": false,
     "start_time": "2025-03-19T11:39:43.665762",
     "status": "completed"
    },
    "tags": []
   },
   "outputs": [
    {
     "name": "stdout",
     "output_type": "stream",
     "text": [
      "/kaggle/input/titanic-toy/titanic_toy.csv\n"
     ]
    }
   ],
   "source": [
    "# This Python 3 environment comes with many helpful analytics libraries installed\n",
    "# It is defined by the kaggle/python Docker image: https://github.com/kaggle/docker-python\n",
    "# For example, here's several helpful packages to load\n",
    "\n",
    "import numpy as np # linear algebra\n",
    "import pandas as pd # data processing, CSV file I/O (e.g. pd.read_csv)\n",
    "\n",
    "# Input data files are available in the read-only \"../input/\" directory\n",
    "# For example, running this (by clicking run or pressing Shift+Enter) will list all files under the input directory\n",
    "\n",
    "import os\n",
    "for dirname, _, filenames in os.walk('/kaggle/input'):\n",
    "    for filename in filenames:\n",
    "        print(os.path.join(dirname, filename))\n",
    "\n",
    "# You can write up to 20GB to the current directory (/kaggle/working/) that gets preserved as output when you create a version using \"Save & Run All\" \n",
    "# You can also write temporary files to /kaggle/temp/, but they won't be saved outside of the current session"
   ]
  },
  {
   "cell_type": "code",
   "execution_count": 2,
   "id": "ed242856",
   "metadata": {
    "execution": {
     "iopub.execute_input": "2025-03-19T11:39:44.628985Z",
     "iopub.status.busy": "2025-03-19T11:39:44.628500Z",
     "iopub.status.idle": "2025-03-19T11:39:44.645488Z",
     "shell.execute_reply": "2025-03-19T11:39:44.644211Z"
    },
    "papermill": {
     "duration": 0.025676,
     "end_time": "2025-03-19T11:39:44.647643",
     "exception": false,
     "start_time": "2025-03-19T11:39:44.621967",
     "status": "completed"
    },
    "tags": []
   },
   "outputs": [],
   "source": [
    "df = pd.read_csv('/kaggle/input/titanic-toy/titanic_toy.csv')"
   ]
  },
  {
   "cell_type": "code",
   "execution_count": 3,
   "id": "5c3394c8",
   "metadata": {
    "execution": {
     "iopub.execute_input": "2025-03-19T11:39:44.660510Z",
     "iopub.status.busy": "2025-03-19T11:39:44.660092Z",
     "iopub.status.idle": "2025-03-19T11:39:44.687469Z",
     "shell.execute_reply": "2025-03-19T11:39:44.686247Z"
    },
    "papermill": {
     "duration": 0.03539,
     "end_time": "2025-03-19T11:39:44.689109",
     "exception": false,
     "start_time": "2025-03-19T11:39:44.653719",
     "status": "completed"
    },
    "tags": []
   },
   "outputs": [
    {
     "data": {
      "text/html": [
       "<div>\n",
       "<style scoped>\n",
       "    .dataframe tbody tr th:only-of-type {\n",
       "        vertical-align: middle;\n",
       "    }\n",
       "\n",
       "    .dataframe tbody tr th {\n",
       "        vertical-align: top;\n",
       "    }\n",
       "\n",
       "    .dataframe thead th {\n",
       "        text-align: right;\n",
       "    }\n",
       "</style>\n",
       "<table border=\"1\" class=\"dataframe\">\n",
       "  <thead>\n",
       "    <tr style=\"text-align: right;\">\n",
       "      <th></th>\n",
       "      <th>Age</th>\n",
       "      <th>Fare</th>\n",
       "      <th>Family</th>\n",
       "      <th>Survived</th>\n",
       "    </tr>\n",
       "  </thead>\n",
       "  <tbody>\n",
       "    <tr>\n",
       "      <th>0</th>\n",
       "      <td>22.0</td>\n",
       "      <td>7.2500</td>\n",
       "      <td>1</td>\n",
       "      <td>0</td>\n",
       "    </tr>\n",
       "    <tr>\n",
       "      <th>1</th>\n",
       "      <td>38.0</td>\n",
       "      <td>71.2833</td>\n",
       "      <td>1</td>\n",
       "      <td>1</td>\n",
       "    </tr>\n",
       "    <tr>\n",
       "      <th>2</th>\n",
       "      <td>26.0</td>\n",
       "      <td>7.9250</td>\n",
       "      <td>0</td>\n",
       "      <td>1</td>\n",
       "    </tr>\n",
       "    <tr>\n",
       "      <th>3</th>\n",
       "      <td>35.0</td>\n",
       "      <td>53.1000</td>\n",
       "      <td>1</td>\n",
       "      <td>1</td>\n",
       "    </tr>\n",
       "    <tr>\n",
       "      <th>4</th>\n",
       "      <td>35.0</td>\n",
       "      <td>8.0500</td>\n",
       "      <td>0</td>\n",
       "      <td>0</td>\n",
       "    </tr>\n",
       "  </tbody>\n",
       "</table>\n",
       "</div>"
      ],
      "text/plain": [
       "    Age     Fare  Family  Survived\n",
       "0  22.0   7.2500       1         0\n",
       "1  38.0  71.2833       1         1\n",
       "2  26.0   7.9250       0         1\n",
       "3  35.0  53.1000       1         1\n",
       "4  35.0   8.0500       0         0"
      ]
     },
     "execution_count": 3,
     "metadata": {},
     "output_type": "execute_result"
    }
   ],
   "source": [
    "df.head()"
   ]
  },
  {
   "cell_type": "code",
   "execution_count": 4,
   "id": "6a33c1a7",
   "metadata": {
    "execution": {
     "iopub.execute_input": "2025-03-19T11:39:44.702906Z",
     "iopub.status.busy": "2025-03-19T11:39:44.702583Z",
     "iopub.status.idle": "2025-03-19T11:39:44.711751Z",
     "shell.execute_reply": "2025-03-19T11:39:44.710684Z"
    },
    "papermill": {
     "duration": 0.018068,
     "end_time": "2025-03-19T11:39:44.713477",
     "exception": false,
     "start_time": "2025-03-19T11:39:44.695409",
     "status": "completed"
    },
    "tags": []
   },
   "outputs": [
    {
     "data": {
      "text/plain": [
       "Age         19.865320\n",
       "Fare         5.050505\n",
       "Family       0.000000\n",
       "Survived     0.000000\n",
       "dtype: float64"
      ]
     },
     "execution_count": 4,
     "metadata": {},
     "output_type": "execute_result"
    }
   ],
   "source": [
    "#find the percentage of null values available in the dataset\n",
    "df.isnull().mean()*100"
   ]
  },
  {
   "cell_type": "code",
   "execution_count": 5,
   "id": "a1c80bdc",
   "metadata": {
    "execution": {
     "iopub.execute_input": "2025-03-19T11:39:44.726571Z",
     "iopub.status.busy": "2025-03-19T11:39:44.726188Z",
     "iopub.status.idle": "2025-03-19T11:39:46.205893Z",
     "shell.execute_reply": "2025-03-19T11:39:46.204475Z"
    },
    "papermill": {
     "duration": 1.488212,
     "end_time": "2025-03-19T11:39:46.207709",
     "exception": false,
     "start_time": "2025-03-19T11:39:44.719497",
     "status": "completed"
    },
    "tags": []
   },
   "outputs": [],
   "source": [
    "from sklearn.model_selection import train_test_split\n",
    "\n",
    "X = df.drop(columns=['Survived'], axis = 1)\n",
    "y = df['Survived']"
   ]
  },
  {
   "cell_type": "code",
   "execution_count": 6,
   "id": "7597b73a",
   "metadata": {
    "execution": {
     "iopub.execute_input": "2025-03-19T11:39:46.221324Z",
     "iopub.status.busy": "2025-03-19T11:39:46.220819Z",
     "iopub.status.idle": "2025-03-19T11:39:46.227298Z",
     "shell.execute_reply": "2025-03-19T11:39:46.226459Z"
    },
    "papermill": {
     "duration": 0.014943,
     "end_time": "2025-03-19T11:39:46.228870",
     "exception": false,
     "start_time": "2025-03-19T11:39:46.213927",
     "status": "completed"
    },
    "tags": []
   },
   "outputs": [],
   "source": [
    "X_train, X_test, y_train, y_test = train_test_split(X,y,test_size=0.2,random_state=0)"
   ]
  },
  {
   "cell_type": "code",
   "execution_count": 7,
   "id": "b18eb850",
   "metadata": {
    "execution": {
     "iopub.execute_input": "2025-03-19T11:39:46.242040Z",
     "iopub.status.busy": "2025-03-19T11:39:46.241697Z",
     "iopub.status.idle": "2025-03-19T11:39:46.247461Z",
     "shell.execute_reply": "2025-03-19T11:39:46.246459Z"
    },
    "papermill": {
     "duration": 0.014048,
     "end_time": "2025-03-19T11:39:46.248963",
     "exception": false,
     "start_time": "2025-03-19T11:39:46.234915",
     "status": "completed"
    },
    "tags": []
   },
   "outputs": [
    {
     "data": {
      "text/plain": [
       "((712, 3), (179, 3))"
      ]
     },
     "execution_count": 7,
     "metadata": {},
     "output_type": "execute_result"
    }
   ],
   "source": [
    "X_train.shape, X_test.shape"
   ]
  },
  {
   "cell_type": "code",
   "execution_count": 8,
   "id": "49d3ad25",
   "metadata": {
    "execution": {
     "iopub.execute_input": "2025-03-19T11:39:46.262191Z",
     "iopub.status.busy": "2025-03-19T11:39:46.261837Z",
     "iopub.status.idle": "2025-03-19T11:39:46.267203Z",
     "shell.execute_reply": "2025-03-19T11:39:46.266372Z"
    },
    "papermill": {
     "duration": 0.013674,
     "end_time": "2025-03-19T11:39:46.268697",
     "exception": false,
     "start_time": "2025-03-19T11:39:46.255023",
     "status": "completed"
    },
    "tags": []
   },
   "outputs": [],
   "source": [
    "mean_age = X_train['Age'].mean()\n",
    "median_age = X_train['Age'].median()\n",
    "\n",
    "mean_age = X_train['Fare'].mean()\n",
    "median_age = X_train['Fare'].median()"
   ]
  },
  {
   "cell_type": "code",
   "execution_count": 9,
   "id": "f3ad898e",
   "metadata": {
    "execution": {
     "iopub.execute_input": "2025-03-19T11:39:46.281932Z",
     "iopub.status.busy": "2025-03-19T11:39:46.281599Z",
     "iopub.status.idle": "2025-03-19T11:39:46.302847Z",
     "shell.execute_reply": "2025-03-19T11:39:46.301699Z"
    },
    "papermill": {
     "duration": 0.029896,
     "end_time": "2025-03-19T11:39:46.304595",
     "exception": false,
     "start_time": "2025-03-19T11:39:46.274699",
     "status": "completed"
    },
    "tags": []
   },
   "outputs": [
    {
     "name": "stderr",
     "output_type": "stream",
     "text": [
      "/usr/local/lib/python3.10/dist-packages/pandas/io/formats/format.py:1458: RuntimeWarning: invalid value encountered in greater\n",
      "  has_large_values = (abs_vals > 1e6).any()\n",
      "/usr/local/lib/python3.10/dist-packages/pandas/io/formats/format.py:1459: RuntimeWarning: invalid value encountered in less\n",
      "  has_small_values = ((abs_vals < 10 ** (-self.digits)) & (abs_vals > 0)).any()\n",
      "/usr/local/lib/python3.10/dist-packages/pandas/io/formats/format.py:1459: RuntimeWarning: invalid value encountered in greater\n",
      "  has_small_values = ((abs_vals < 10 ** (-self.digits)) & (abs_vals > 0)).any()\n"
     ]
    },
    {
     "data": {
      "text/html": [
       "<div>\n",
       "<style scoped>\n",
       "    .dataframe tbody tr th:only-of-type {\n",
       "        vertical-align: middle;\n",
       "    }\n",
       "\n",
       "    .dataframe tbody tr th {\n",
       "        vertical-align: top;\n",
       "    }\n",
       "\n",
       "    .dataframe thead th {\n",
       "        text-align: right;\n",
       "    }\n",
       "</style>\n",
       "<table border=\"1\" class=\"dataframe\">\n",
       "  <thead>\n",
       "    <tr style=\"text-align: right;\">\n",
       "      <th></th>\n",
       "      <th>Age</th>\n",
       "      <th>Fare</th>\n",
       "      <th>Family</th>\n",
       "      <th>Age_mean</th>\n",
       "      <th>Age_median</th>\n",
       "      <th>Fare_mean</th>\n",
       "      <th>Fare_median</th>\n",
       "    </tr>\n",
       "  </thead>\n",
       "  <tbody>\n",
       "    <tr>\n",
       "      <th>140</th>\n",
       "      <td>NaN</td>\n",
       "      <td>15.2458</td>\n",
       "      <td>2</td>\n",
       "      <td>31.885314</td>\n",
       "      <td>14.4542</td>\n",
       "      <td>15.245800</td>\n",
       "      <td>15.2458</td>\n",
       "    </tr>\n",
       "    <tr>\n",
       "      <th>439</th>\n",
       "      <td>31.0</td>\n",
       "      <td>10.5000</td>\n",
       "      <td>0</td>\n",
       "      <td>31.000000</td>\n",
       "      <td>31.0000</td>\n",
       "      <td>10.500000</td>\n",
       "      <td>10.5000</td>\n",
       "    </tr>\n",
       "    <tr>\n",
       "      <th>817</th>\n",
       "      <td>31.0</td>\n",
       "      <td>37.0042</td>\n",
       "      <td>2</td>\n",
       "      <td>31.000000</td>\n",
       "      <td>31.0000</td>\n",
       "      <td>37.004200</td>\n",
       "      <td>37.0042</td>\n",
       "    </tr>\n",
       "    <tr>\n",
       "      <th>378</th>\n",
       "      <td>20.0</td>\n",
       "      <td>NaN</td>\n",
       "      <td>0</td>\n",
       "      <td>20.000000</td>\n",
       "      <td>20.0000</td>\n",
       "      <td>31.885314</td>\n",
       "      <td>14.4542</td>\n",
       "    </tr>\n",
       "    <tr>\n",
       "      <th>491</th>\n",
       "      <td>21.0</td>\n",
       "      <td>7.2500</td>\n",
       "      <td>0</td>\n",
       "      <td>21.000000</td>\n",
       "      <td>21.0000</td>\n",
       "      <td>7.250000</td>\n",
       "      <td>7.2500</td>\n",
       "    </tr>\n",
       "    <tr>\n",
       "      <th>...</th>\n",
       "      <td>...</td>\n",
       "      <td>...</td>\n",
       "      <td>...</td>\n",
       "      <td>...</td>\n",
       "      <td>...</td>\n",
       "      <td>...</td>\n",
       "      <td>...</td>\n",
       "    </tr>\n",
       "    <tr>\n",
       "      <th>835</th>\n",
       "      <td>39.0</td>\n",
       "      <td>83.1583</td>\n",
       "      <td>2</td>\n",
       "      <td>39.000000</td>\n",
       "      <td>39.0000</td>\n",
       "      <td>83.158300</td>\n",
       "      <td>83.1583</td>\n",
       "    </tr>\n",
       "    <tr>\n",
       "      <th>192</th>\n",
       "      <td>19.0</td>\n",
       "      <td>7.8542</td>\n",
       "      <td>1</td>\n",
       "      <td>19.000000</td>\n",
       "      <td>19.0000</td>\n",
       "      <td>7.854200</td>\n",
       "      <td>7.8542</td>\n",
       "    </tr>\n",
       "    <tr>\n",
       "      <th>629</th>\n",
       "      <td>NaN</td>\n",
       "      <td>7.7333</td>\n",
       "      <td>0</td>\n",
       "      <td>31.885314</td>\n",
       "      <td>14.4542</td>\n",
       "      <td>7.733300</td>\n",
       "      <td>7.7333</td>\n",
       "    </tr>\n",
       "    <tr>\n",
       "      <th>559</th>\n",
       "      <td>36.0</td>\n",
       "      <td>17.4000</td>\n",
       "      <td>1</td>\n",
       "      <td>36.000000</td>\n",
       "      <td>36.0000</td>\n",
       "      <td>17.400000</td>\n",
       "      <td>17.4000</td>\n",
       "    </tr>\n",
       "    <tr>\n",
       "      <th>684</th>\n",
       "      <td>60.0</td>\n",
       "      <td>39.0000</td>\n",
       "      <td>2</td>\n",
       "      <td>60.000000</td>\n",
       "      <td>60.0000</td>\n",
       "      <td>39.000000</td>\n",
       "      <td>39.0000</td>\n",
       "    </tr>\n",
       "  </tbody>\n",
       "</table>\n",
       "<p>712 rows × 7 columns</p>\n",
       "</div>"
      ],
      "text/plain": [
       "      Age     Fare  Family   Age_mean  Age_median  Fare_mean  Fare_median\n",
       "140   NaN  15.2458       2  31.885314     14.4542  15.245800      15.2458\n",
       "439  31.0  10.5000       0  31.000000     31.0000  10.500000      10.5000\n",
       "817  31.0  37.0042       2  31.000000     31.0000  37.004200      37.0042\n",
       "378  20.0      NaN       0  20.000000     20.0000  31.885314      14.4542\n",
       "491  21.0   7.2500       0  21.000000     21.0000   7.250000       7.2500\n",
       "..    ...      ...     ...        ...         ...        ...          ...\n",
       "835  39.0  83.1583       2  39.000000     39.0000  83.158300      83.1583\n",
       "192  19.0   7.8542       1  19.000000     19.0000   7.854200       7.8542\n",
       "629   NaN   7.7333       0  31.885314     14.4542   7.733300       7.7333\n",
       "559  36.0  17.4000       1  36.000000     36.0000  17.400000      17.4000\n",
       "684  60.0  39.0000       2  60.000000     60.0000  39.000000      39.0000\n",
       "\n",
       "[712 rows x 7 columns]"
      ]
     },
     "execution_count": 9,
     "metadata": {},
     "output_type": "execute_result"
    }
   ],
   "source": [
    "X_train['Age_mean'] = X_train['Age'].fillna(mean_age)\n",
    "X_train['Age_median'] = X_train['Age'].fillna(median_age)\n",
    "\n",
    "X_train['Fare_mean'] = X_train['Fare'].fillna(mean_age)\n",
    "X_train['Fare_median'] = X_train['Fare'].fillna(median_age)\n",
    "\n",
    "X_train"
   ]
  },
  {
   "cell_type": "code",
   "execution_count": 10,
   "id": "6ce5ca6d",
   "metadata": {
    "execution": {
     "iopub.execute_input": "2025-03-19T11:39:46.318776Z",
     "iopub.status.busy": "2025-03-19T11:39:46.318390Z",
     "iopub.status.idle": "2025-03-19T11:39:46.327167Z",
     "shell.execute_reply": "2025-03-19T11:39:46.326135Z"
    },
    "papermill": {
     "duration": 0.017449,
     "end_time": "2025-03-19T11:39:46.328687",
     "exception": false,
     "start_time": "2025-03-19T11:39:46.311238",
     "status": "completed"
    },
    "tags": []
   },
   "outputs": [
    {
     "name": "stdout",
     "output_type": "stream",
     "text": [
      "Original Age Variance  213.7165085187578\n",
      "After Mean Age Variance  172.06233657036535\n",
      "After Median Age Variance  208.51965487818606\n",
      "\n",
      "Original Fare Variance  2574.3526206637193\n",
      "After Mean Fare Variance  2433.143405184275\n",
      "After Median Fare Variance  2448.897024777755\n"
     ]
    }
   ],
   "source": [
    "print('Original Age Variance ',X_train['Age'].var())\n",
    "print('After Mean Age Variance ',X_train['Age_mean'].var())\n",
    "print('After Median Age Variance ',X_train['Age_median'].var())\n",
    "print('')\n",
    "print('Original Fare Variance ',X_train['Fare'].var())\n",
    "print('After Mean Fare Variance ',X_train['Fare_mean'].var())\n",
    "print('After Median Fare Variance ',X_train['Fare_median'].var())"
   ]
  },
  {
   "cell_type": "code",
   "execution_count": 11,
   "id": "8394e9ef",
   "metadata": {
    "execution": {
     "iopub.execute_input": "2025-03-19T11:39:46.342914Z",
     "iopub.status.busy": "2025-03-19T11:39:46.342515Z",
     "iopub.status.idle": "2025-03-19T11:39:46.346883Z",
     "shell.execute_reply": "2025-03-19T11:39:46.345617Z"
    },
    "papermill": {
     "duration": 0.013261,
     "end_time": "2025-03-19T11:39:46.348530",
     "exception": false,
     "start_time": "2025-03-19T11:39:46.335269",
     "status": "completed"
    },
    "tags": []
   },
   "outputs": [],
   "source": [
    "import matplotlib.pyplot as plt"
   ]
  },
  {
   "cell_type": "code",
   "execution_count": 12,
   "id": "c92ce28f",
   "metadata": {
    "execution": {
     "iopub.execute_input": "2025-03-19T11:39:46.362842Z",
     "iopub.status.busy": "2025-03-19T11:39:46.362476Z",
     "iopub.status.idle": "2025-03-19T11:39:47.007971Z",
     "shell.execute_reply": "2025-03-19T11:39:47.006775Z"
    },
    "papermill": {
     "duration": 0.654651,
     "end_time": "2025-03-19T11:39:47.009812",
     "exception": false,
     "start_time": "2025-03-19T11:39:46.355161",
     "status": "completed"
    },
    "tags": []
   },
   "outputs": [
    {
     "data": {
      "text/plain": [
       "<matplotlib.legend.Legend at 0x79ca4a8682e0>"
      ]
     },
     "execution_count": 12,
     "metadata": {},
     "output_type": "execute_result"
    },
    {
     "data": {
      "image/png": "[encoded data removed]",
      "text/plain": [
       "<Figure size 1200x500 with 3 Axes>"
      ]
     },
     "metadata": {},
     "output_type": "display_data"
    }
   ],
   "source": [
    "fig,(ax1,ax2,ax3) = plt.subplots(1,3,figsize=(12,5))\n",
    "\n",
    "X_train['Age'].plot(kind='kde',ax=ax1)\n",
    "X_train['Age_mean'].plot(kind='kde',ax=ax2)\n",
    "X_train['Age_median'].plot(kind='kde',ax=ax3)\n",
    "\n",
    "lines,labels = ax1.get_legend_handles_labels()\n",
    "ax1.legend(lines,labels,loc='best')"
   ]
  },
  {
   "cell_type": "code",
   "execution_count": 13,
   "id": "61c8ae69",
   "metadata": {
    "execution": {
     "iopub.execute_input": "2025-03-19T11:39:47.025997Z",
     "iopub.status.busy": "2025-03-19T11:39:47.025679Z",
     "iopub.status.idle": "2025-03-19T11:39:47.318042Z",
     "shell.execute_reply": "2025-03-19T11:39:47.316812Z"
    },
    "papermill": {
     "duration": 0.302669,
     "end_time": "2025-03-19T11:39:47.320106",
     "exception": false,
     "start_time": "2025-03-19T11:39:47.017437",
     "status": "completed"
    },
    "tags": []
   },
   "outputs": [
    {
     "data": {
      "text/plain": [
       "<matplotlib.legend.Legend at 0x79ca4ae12d10>"
      ]
     },
     "execution_count": 13,
     "metadata": {},
     "output_type": "execute_result"
    },
    {
     "data": {
      "image/png": "[encoded data removed]",
      "text/plain": [
       "<Figure size 1200x500 with 1 Axes>"
      ]
     },
     "metadata": {},
     "output_type": "display_data"
    }
   ],
   "source": [
    "fig,ax = plt.subplots(1,figsize=(12,5))\n",
    "\n",
    "X_train['Age'].plot(kind='kde',ax=ax)\n",
    "X_train['Age_mean'].plot(kind='kde',ax=ax,color='red')\n",
    "X_train['Age_median'].plot(kind='kde',ax=ax,color='green')\n",
    "\n",
    "lines,labels = ax.get_legend_handles_labels()\n",
    "ax.legend(lines,labels,loc='best')"
   ]
  },
  {
   "cell_type": "code",
   "execution_count": 14,
   "id": "fd9f00fb",
   "metadata": {
    "execution": {
     "iopub.execute_input": "2025-03-19T11:39:47.338904Z",
     "iopub.status.busy": "2025-03-19T11:39:47.338557Z",
     "iopub.status.idle": "2025-03-19T11:39:47.621810Z",
     "shell.execute_reply": "2025-03-19T11:39:47.620812Z"
    },
    "papermill": {
     "duration": 0.294704,
     "end_time": "2025-03-19T11:39:47.623730",
     "exception": false,
     "start_time": "2025-03-19T11:39:47.329026",
     "status": "completed"
    },
    "tags": []
   },
   "outputs": [
    {
     "data": {
      "text/plain": [
       "<matplotlib.legend.Legend at 0x79ca4a7b2380>"
      ]
     },
     "execution_count": 14,
     "metadata": {},
     "output_type": "execute_result"
    },
    {
     "data": {
      "image/png": "[encoded data removed]",
      "text/plain": [
       "<Figure size 1200x500 with 1 Axes>"
      ]
     },
     "metadata": {},
     "output_type": "display_data"
    }
   ],
   "source": [
    "fig,ax = plt.subplots(1,figsize=(12,5))\n",
    "\n",
    "X_train['Fare'].plot(kind='kde',ax=ax)\n",
    "X_train['Fare_mean'].plot(kind='kde',ax=ax,color='red')\n",
    "X_train['Fare_median'].plot(kind='kde',ax=ax,color='green')\n",
    "\n",
    "lines,labels = ax.get_legend_handles_labels()\n",
    "ax.legend(lines,labels,loc='best')"
   ]
  },
  {
   "cell_type": "code",
   "execution_count": 15,
   "id": "31e09ca3",
   "metadata": {
    "execution": {
     "iopub.execute_input": "2025-03-19T11:39:47.644276Z",
     "iopub.status.busy": "2025-03-19T11:39:47.643929Z",
     "iopub.status.idle": "2025-03-19T11:39:47.658406Z",
     "shell.execute_reply": "2025-03-19T11:39:47.657444Z"
    },
    "papermill": {
     "duration": 0.026585,
     "end_time": "2025-03-19T11:39:47.660100",
     "exception": false,
     "start_time": "2025-03-19T11:39:47.633515",
     "status": "completed"
    },
    "tags": []
   },
   "outputs": [
    {
     "data": {
      "text/html": [
       "<div>\n",
       "<style scoped>\n",
       "    .dataframe tbody tr th:only-of-type {\n",
       "        vertical-align: middle;\n",
       "    }\n",
       "\n",
       "    .dataframe tbody tr th {\n",
       "        vertical-align: top;\n",
       "    }\n",
       "\n",
       "    .dataframe thead th {\n",
       "        text-align: right;\n",
       "    }\n",
       "</style>\n",
       "<table border=\"1\" class=\"dataframe\">\n",
       "  <thead>\n",
       "    <tr style=\"text-align: right;\">\n",
       "      <th></th>\n",
       "      <th>Age</th>\n",
       "      <th>Fare</th>\n",
       "      <th>Family</th>\n",
       "      <th>Age_mean</th>\n",
       "      <th>Age_median</th>\n",
       "      <th>Fare_mean</th>\n",
       "      <th>Fare_median</th>\n",
       "    </tr>\n",
       "  </thead>\n",
       "  <tbody>\n",
       "    <tr>\n",
       "      <th>Age</th>\n",
       "      <td>213.716509</td>\n",
       "      <td>84.480223</td>\n",
       "      <td>-6.393469</td>\n",
       "      <td>213.716509</td>\n",
       "      <td>213.716509</td>\n",
       "      <td>79.571049</td>\n",
       "      <td>79.420930</td>\n",
       "    </tr>\n",
       "    <tr>\n",
       "      <th>Fare</th>\n",
       "      <td>84.480223</td>\n",
       "      <td>2574.352621</td>\n",
       "      <td>17.050423</td>\n",
       "      <td>63.869819</td>\n",
       "      <td>93.382660</td>\n",
       "      <td>2574.352621</td>\n",
       "      <td>2574.352621</td>\n",
       "    </tr>\n",
       "    <tr>\n",
       "      <th>Family</th>\n",
       "      <td>-6.393469</td>\n",
       "      <td>17.050423</td>\n",
       "      <td>2.770177</td>\n",
       "      <td>-5.137336</td>\n",
       "      <td>-5.041474</td>\n",
       "      <td>16.115167</td>\n",
       "      <td>16.285129</td>\n",
       "    </tr>\n",
       "    <tr>\n",
       "      <th>Age_mean</th>\n",
       "      <td>213.716509</td>\n",
       "      <td>63.869819</td>\n",
       "      <td>-5.137336</td>\n",
       "      <td>172.062337</td>\n",
       "      <td>166.129384</td>\n",
       "      <td>60.366412</td>\n",
       "      <td>60.336482</td>\n",
       "    </tr>\n",
       "    <tr>\n",
       "      <th>Age_median</th>\n",
       "      <td>213.716509</td>\n",
       "      <td>93.382660</td>\n",
       "      <td>-5.041474</td>\n",
       "      <td>166.129384</td>\n",
       "      <td>208.519655</td>\n",
       "      <td>88.260405</td>\n",
       "      <td>87.494022</td>\n",
       "    </tr>\n",
       "    <tr>\n",
       "      <th>Fare_mean</th>\n",
       "      <td>79.571049</td>\n",
       "      <td>2574.352621</td>\n",
       "      <td>16.115167</td>\n",
       "      <td>60.366412</td>\n",
       "      <td>88.260405</td>\n",
       "      <td>2433.143405</td>\n",
       "      <td>2433.143405</td>\n",
       "    </tr>\n",
       "    <tr>\n",
       "      <th>Fare_median</th>\n",
       "      <td>79.420930</td>\n",
       "      <td>2574.352621</td>\n",
       "      <td>16.285129</td>\n",
       "      <td>60.336482</td>\n",
       "      <td>87.494022</td>\n",
       "      <td>2433.143405</td>\n",
       "      <td>2448.897025</td>\n",
       "    </tr>\n",
       "  </tbody>\n",
       "</table>\n",
       "</div>"
      ],
      "text/plain": [
       "                    Age         Fare     Family    Age_mean  Age_median  \\\n",
       "Age          213.716509    84.480223  -6.393469  213.716509  213.716509   \n",
       "Fare          84.480223  2574.352621  17.050423   63.869819   93.382660   \n",
       "Family        -6.393469    17.050423   2.770177   -5.137336   -5.041474   \n",
       "Age_mean     213.716509    63.869819  -5.137336  172.062337  166.129384   \n",
       "Age_median   213.716509    93.382660  -5.041474  166.129384  208.519655   \n",
       "Fare_mean     79.571049  2574.352621  16.115167   60.366412   88.260405   \n",
       "Fare_median   79.420930  2574.352621  16.285129   60.336482   87.494022   \n",
       "\n",
       "               Fare_mean  Fare_median  \n",
       "Age            79.571049    79.420930  \n",
       "Fare         2574.352621  2574.352621  \n",
       "Family         16.115167    16.285129  \n",
       "Age_mean       60.366412    60.336482  \n",
       "Age_median     88.260405    87.494022  \n",
       "Fare_mean    2433.143405  2433.143405  \n",
       "Fare_median  2433.143405  2448.897025  "
      ]
     },
     "execution_count": 15,
     "metadata": {},
     "output_type": "execute_result"
    }
   ],
   "source": [
    "X_train.cov()"
   ]
  },
  {
   "cell_type": "code",
   "execution_count": 16,
   "id": "6a9fb883",
   "metadata": {
    "execution": {
     "iopub.execute_input": "2025-03-19T11:39:47.680573Z",
     "iopub.status.busy": "2025-03-19T11:39:47.680190Z",
     "iopub.status.idle": "2025-03-19T11:39:47.693422Z",
     "shell.execute_reply": "2025-03-19T11:39:47.692529Z"
    },
    "papermill": {
     "duration": 0.025244,
     "end_time": "2025-03-19T11:39:47.694985",
     "exception": false,
     "start_time": "2025-03-19T11:39:47.669741",
     "status": "completed"
    },
    "tags": []
   },
   "outputs": [
    {
     "data": {
      "text/html": [
       "<div>\n",
       "<style scoped>\n",
       "    .dataframe tbody tr th:only-of-type {\n",
       "        vertical-align: middle;\n",
       "    }\n",
       "\n",
       "    .dataframe tbody tr th {\n",
       "        vertical-align: top;\n",
       "    }\n",
       "\n",
       "    .dataframe thead th {\n",
       "        text-align: right;\n",
       "    }\n",
       "</style>\n",
       "<table border=\"1\" class=\"dataframe\">\n",
       "  <thead>\n",
       "    <tr style=\"text-align: right;\">\n",
       "      <th></th>\n",
       "      <th>Age</th>\n",
       "      <th>Fare</th>\n",
       "      <th>Family</th>\n",
       "      <th>Age_mean</th>\n",
       "      <th>Age_median</th>\n",
       "      <th>Fare_mean</th>\n",
       "      <th>Fare_median</th>\n",
       "    </tr>\n",
       "  </thead>\n",
       "  <tbody>\n",
       "    <tr>\n",
       "      <th>Age</th>\n",
       "      <td>1.000000</td>\n",
       "      <td>0.106334</td>\n",
       "      <td>-0.295318</td>\n",
       "      <td>1.000000</td>\n",
       "      <td>1.000000</td>\n",
       "      <td>0.103929</td>\n",
       "      <td>0.103346</td>\n",
       "    </tr>\n",
       "    <tr>\n",
       "      <th>Fare</th>\n",
       "      <td>0.106334</td>\n",
       "      <td>1.000000</td>\n",
       "      <td>0.198661</td>\n",
       "      <td>0.095429</td>\n",
       "      <td>0.126774</td>\n",
       "      <td>1.000000</td>\n",
       "      <td>1.000000</td>\n",
       "    </tr>\n",
       "    <tr>\n",
       "      <th>Family</th>\n",
       "      <td>-0.295318</td>\n",
       "      <td>0.198661</td>\n",
       "      <td>1.000000</td>\n",
       "      <td>-0.235311</td>\n",
       "      <td>-0.209764</td>\n",
       "      <td>0.196290</td>\n",
       "      <td>0.197721</td>\n",
       "    </tr>\n",
       "    <tr>\n",
       "      <th>Age_mean</th>\n",
       "      <td>1.000000</td>\n",
       "      <td>0.095429</td>\n",
       "      <td>-0.235311</td>\n",
       "      <td>1.000000</td>\n",
       "      <td>0.877061</td>\n",
       "      <td>0.093297</td>\n",
       "      <td>0.092951</td>\n",
       "    </tr>\n",
       "    <tr>\n",
       "      <th>Age_median</th>\n",
       "      <td>1.000000</td>\n",
       "      <td>0.126774</td>\n",
       "      <td>-0.209764</td>\n",
       "      <td>0.877061</td>\n",
       "      <td>1.000000</td>\n",
       "      <td>0.123911</td>\n",
       "      <td>0.122439</td>\n",
       "    </tr>\n",
       "    <tr>\n",
       "      <th>Fare_mean</th>\n",
       "      <td>0.103929</td>\n",
       "      <td>1.000000</td>\n",
       "      <td>0.196290</td>\n",
       "      <td>0.093297</td>\n",
       "      <td>0.123911</td>\n",
       "      <td>1.000000</td>\n",
       "      <td>0.996778</td>\n",
       "    </tr>\n",
       "    <tr>\n",
       "      <th>Fare_median</th>\n",
       "      <td>0.103346</td>\n",
       "      <td>1.000000</td>\n",
       "      <td>0.197721</td>\n",
       "      <td>0.092951</td>\n",
       "      <td>0.122439</td>\n",
       "      <td>0.996778</td>\n",
       "      <td>1.000000</td>\n",
       "    </tr>\n",
       "  </tbody>\n",
       "</table>\n",
       "</div>"
      ],
      "text/plain": [
       "                  Age      Fare    Family  Age_mean  Age_median  Fare_mean  \\\n",
       "Age          1.000000  0.106334 -0.295318  1.000000    1.000000   0.103929   \n",
       "Fare         0.106334  1.000000  0.198661  0.095429    0.126774   1.000000   \n",
       "Family      -0.295318  0.198661  1.000000 -0.235311   -0.209764   0.196290   \n",
       "Age_mean     1.000000  0.095429 -0.235311  1.000000    0.877061   0.093297   \n",
       "Age_median   1.000000  0.126774 -0.209764  0.877061    1.000000   0.123911   \n",
       "Fare_mean    0.103929  1.000000  0.196290  0.093297    0.123911   1.000000   \n",
       "Fare_median  0.103346  1.000000  0.197721  0.092951    0.122439   0.996778   \n",
       "\n",
       "             Fare_median  \n",
       "Age             0.103346  \n",
       "Fare            1.000000  \n",
       "Family          0.197721  \n",
       "Age_mean        0.092951  \n",
       "Age_median      0.122439  \n",
       "Fare_mean       0.996778  \n",
       "Fare_median     1.000000  "
      ]
     },
     "execution_count": 16,
     "metadata": {},
     "output_type": "execute_result"
    }
   ],
   "source": [
    "X_train.corr()"
   ]
  },
  {
   "cell_type": "code",
   "execution_count": 17,
   "id": "cbba500e",
   "metadata": {
    "execution": {
     "iopub.execute_input": "2025-03-19T11:39:47.716447Z",
     "iopub.status.busy": "2025-03-19T11:39:47.715998Z",
     "iopub.status.idle": "2025-03-19T11:39:47.896992Z",
     "shell.execute_reply": "2025-03-19T11:39:47.895954Z"
    },
    "papermill": {
     "duration": 0.19355,
     "end_time": "2025-03-19T11:39:47.898703",
     "exception": false,
     "start_time": "2025-03-19T11:39:47.705153",
     "status": "completed"
    },
    "tags": []
   },
   "outputs": [
    {
     "data": {
      "text/plain": [
       "<Axes: >"
      ]
     },
     "execution_count": 17,
     "metadata": {},
     "output_type": "execute_result"
    },
    {
     "data": {
      "image/png": "[encoded data removed]",
      "text/plain": [
       "<Figure size 640x480 with 1 Axes>"
      ]
     },
     "metadata": {},
     "output_type": "display_data"
    }
   ],
   "source": [
    "X_train[['Age','Age_mean','Age_median']].boxplot()"
   ]
  },
  {
   "cell_type": "code",
   "execution_count": 18,
   "id": "ae9f061c",
   "metadata": {
    "execution": {
     "iopub.execute_input": "2025-03-19T11:39:47.920529Z",
     "iopub.status.busy": "2025-03-19T11:39:47.920094Z",
     "iopub.status.idle": "2025-03-19T11:39:48.081205Z",
     "shell.execute_reply": "2025-03-19T11:39:48.080205Z"
    },
    "papermill": {
     "duration": 0.173677,
     "end_time": "2025-03-19T11:39:48.082777",
     "exception": false,
     "start_time": "2025-03-19T11:39:47.909100",
     "status": "completed"
    },
    "tags": []
   },
   "outputs": [
    {
     "data": {
      "text/plain": [
       "<Axes: >"
      ]
     },
     "execution_count": 18,
     "metadata": {},
     "output_type": "execute_result"
    },
    {
     "data": {
      "image/png": "[encoded data removed]",
      "text/plain": [
       "<Figure size 640x480 with 1 Axes>"
      ]
     },
     "metadata": {},
     "output_type": "display_data"
    }
   ],
   "source": [
    "X_train[['Fare','Fare_mean','Fare_median']].boxplot()"
   ]
  },
  {
   "cell_type": "markdown",
   "id": "34351190",
   "metadata": {
    "papermill": {
     "duration": 0.010335,
     "end_time": "2025-03-19T11:39:48.103868",
     "exception": false,
     "start_time": "2025-03-19T11:39:48.093533",
     "status": "completed"
    },
    "tags": []
   },
   "source": [
    "# Using Sklearn"
   ]
  },
  {
   "cell_type": "code",
   "execution_count": 19,
   "id": "d7eddec5",
   "metadata": {
    "execution": {
     "iopub.execute_input": "2025-03-19T11:39:48.126768Z",
     "iopub.status.busy": "2025-03-19T11:39:48.126379Z",
     "iopub.status.idle": "2025-03-19T11:39:48.384906Z",
     "shell.execute_reply": "2025-03-19T11:39:48.383851Z"
    },
    "papermill": {
     "duration": 0.272029,
     "end_time": "2025-03-19T11:39:48.386717",
     "exception": false,
     "start_time": "2025-03-19T11:39:48.114688",
     "status": "completed"
    },
    "tags": []
   },
   "outputs": [],
   "source": [
    "from sklearn.impute import SimpleImputer\n",
    "from sklearn.compose import ColumnTransformer"
   ]
  },
  {
   "cell_type": "code",
   "execution_count": 20,
   "id": "77147abd",
   "metadata": {
    "execution": {
     "iopub.execute_input": "2025-03-19T11:39:48.410183Z",
     "iopub.status.busy": "2025-03-19T11:39:48.409798Z",
     "iopub.status.idle": "2025-03-19T11:39:48.416528Z",
     "shell.execute_reply": "2025-03-19T11:39:48.415446Z"
    },
    "papermill": {
     "duration": 0.020395,
     "end_time": "2025-03-19T11:39:48.418255",
     "exception": false,
     "start_time": "2025-03-19T11:39:48.397860",
     "status": "completed"
    },
    "tags": []
   },
   "outputs": [],
   "source": [
    "X_train, X_test, y_train, y_test = train_test_split(X,y,test_size=0.2,random_state=0)"
   ]
  },
  {
   "cell_type": "code",
   "execution_count": 21,
   "id": "87b94e78",
   "metadata": {
    "execution": {
     "iopub.execute_input": "2025-03-19T11:39:48.440847Z",
     "iopub.status.busy": "2025-03-19T11:39:48.440508Z",
     "iopub.status.idle": "2025-03-19T11:39:48.444636Z",
     "shell.execute_reply": "2025-03-19T11:39:48.443622Z"
    },
    "papermill": {
     "duration": 0.017293,
     "end_time": "2025-03-19T11:39:48.446339",
     "exception": false,
     "start_time": "2025-03-19T11:39:48.429046",
     "status": "completed"
    },
    "tags": []
   },
   "outputs": [],
   "source": [
    "imputer1 = SimpleImputer(strategy='median')\n",
    "imputer2 = SimpleImputer(strategy='mean')"
   ]
  },
  {
   "cell_type": "code",
   "execution_count": 22,
   "id": "a0668d7d",
   "metadata": {
    "execution": {
     "iopub.execute_input": "2025-03-19T11:39:48.469817Z",
     "iopub.status.busy": "2025-03-19T11:39:48.469464Z",
     "iopub.status.idle": "2025-03-19T11:39:48.473756Z",
     "shell.execute_reply": "2025-03-19T11:39:48.472789Z"
    },
    "papermill": {
     "duration": 0.017942,
     "end_time": "2025-03-19T11:39:48.475403",
     "exception": false,
     "start_time": "2025-03-19T11:39:48.457461",
     "status": "completed"
    },
    "tags": []
   },
   "outputs": [],
   "source": [
    "trf = ColumnTransformer([\n",
    "    ['imputer1',imputer1,['Age']],\n",
    "    ['imputer2',imputer2,['Fare']]\n",
    "],remainder='passthrough')"
   ]
  },
  {
   "cell_type": "code",
   "execution_count": 23,
   "id": "2b5928ed",
   "metadata": {
    "execution": {
     "iopub.execute_input": "2025-03-19T11:39:48.498727Z",
     "iopub.status.busy": "2025-03-19T11:39:48.498323Z",
     "iopub.status.idle": "2025-03-19T11:39:48.527752Z",
     "shell.execute_reply": "2025-03-19T11:39:48.526571Z"
    },
    "papermill": {
     "duration": 0.042872,
     "end_time": "2025-03-19T11:39:48.529508",
     "exception": false,
     "start_time": "2025-03-19T11:39:48.486636",
     "status": "completed"
    },
    "tags": []
   },
   "outputs": [
    {
     "data": {
      "text/html": [
       "<style>#sk-container-id-1 {color: black;background-color: white;}#sk-container-id-1 pre{padding: 0;}#sk-container-id-1 div.sk-toggleable {background-color: white;}#sk-container-id-1 label.sk-toggleable__label {cursor: pointer;display: block;width: 100%;margin-bottom: 0;padding: 0.3em;box-sizing: border-box;text-align: center;}#sk-container-id-1 label.sk-toggleable__label-arrow:before {content: \"▸\";float: left;margin-right: 0.25em;color: #696969;}#sk-container-id-1 label.sk-toggleable__label-arrow:hover:before {color: black;}#sk-container-id-1 div.sk-estimator:hover label.sk-toggleable__label-arrow:before {color: black;}#sk-container-id-1 div.sk-toggleable__content {max-height: 0;max-width: 0;overflow: hidden;text-align: left;background-color: #f0f8ff;}#sk-container-id-1 div.sk-toggleable__content pre {margin: 0.2em;color: black;border-radius: 0.25em;background-color: #f0f8ff;}#sk-container-id-1 input.sk-toggleable__control:checked~div.sk-toggleable__content {max-height: 200px;max-width: 100%;overflow: auto;}#sk-container-id-1 input.sk-toggleable__control:checked~label.sk-toggleable__label-arrow:before {content: \"▾\";}#sk-container-id-1 div.sk-estimator input.sk-toggleable__control:checked~label.sk-toggleable__label {background-color: #d4ebff;}#sk-container-id-1 div.sk-label input.sk-toggleable__control:checked~label.sk-toggleable__label {background-color: #d4ebff;}#sk-container-id-1 input.sk-hidden--visually {border: 0;clip: rect(1px 1px 1px 1px);clip: rect(1px, 1px, 1px, 1px);height: 1px;margin: -1px;overflow: hidden;padding: 0;position: absolute;width: 1px;}#sk-container-id-1 div.sk-estimator {font-family: monospace;background-color: #f0f8ff;border: 1px dotted black;border-radius: 0.25em;box-sizing: border-box;margin-bottom: 0.5em;}#sk-container-id-1 div.sk-estimator:hover {background-color: #d4ebff;}#sk-container-id-1 div.sk-parallel-item::after {content: \"\";width: 100%;border-bottom: 1px solid gray;flex-grow: 1;}#sk-container-id-1 div.sk-label:hover label.sk-toggleable__label {background-color: #d4ebff;}#sk-container-id-1 div.sk-serial::before {content: \"\";position: absolute;border-left: 1px solid gray;box-sizing: border-box;top: 0;bottom: 0;left: 50%;z-index: 0;}#sk-container-id-1 div.sk-serial {display: flex;flex-direction: column;align-items: center;background-color: white;padding-right: 0.2em;padding-left: 0.2em;position: relative;}#sk-container-id-1 div.sk-item {position: relative;z-index: 1;}#sk-container-id-1 div.sk-parallel {display: flex;align-items: stretch;justify-content: center;background-color: white;position: relative;}#sk-container-id-1 div.sk-item::before, #sk-container-id-1 div.sk-parallel-item::before {content: \"\";position: absolute;border-left: 1px solid gray;box-sizing: border-box;top: 0;bottom: 0;left: 50%;z-index: -1;}#sk-container-id-1 div.sk-parallel-item {display: flex;flex-direction: column;z-index: 1;position: relative;background-color: white;}#sk-container-id-1 div.sk-parallel-item:first-child::after {align-self: flex-end;width: 50%;}#sk-container-id-1 div.sk-parallel-item:last-child::after {align-self: flex-start;width: 50%;}#sk-container-id-1 div.sk-parallel-item:only-child::after {width: 0;}#sk-container-id-1 div.sk-dashed-wrapped {border: 1px dashed gray;margin: 0 0.4em 0.5em 0.4em;box-sizing: border-box;padding-bottom: 0.4em;background-color: white;}#sk-container-id-1 div.sk-label label {font-family: monospace;font-weight: bold;display: inline-block;line-height: 1.2em;}#sk-container-id-1 div.sk-label-container {text-align: center;}#sk-container-id-1 div.sk-container {/* jupyter's `normalize.less` sets `[hidden] { display: none; }` but bootstrap.min.css set `[hidden] { display: none !important; }` so we also need the `!important` here to be able to override the default hidden behavior on the sphinx rendered scikit-learn.org. See: https://github.com/scikit-learn/scikit-learn/issues/21755 */display: inline-block !important;position: relative;}#sk-container-id-1 div.sk-text-repr-fallback {display: none;}</style><div id=\"sk-container-id-1\" class=\"sk-top-container\"><div class=\"sk-text-repr-fallback\"><pre>ColumnTransformer(remainder=&#x27;passthrough&#x27;,\n",
       "                  transformers=[[&#x27;imputer1&#x27;, SimpleImputer(strategy=&#x27;median&#x27;),\n",
       "                                 [&#x27;Age&#x27;]],\n",
       "                                [&#x27;imputer2&#x27;, SimpleImputer(), [&#x27;Fare&#x27;]]])</pre><b>In a Jupyter environment, please rerun this cell to show the HTML representation or trust the notebook. <br />On GitHub, the HTML representation is unable to render, please try loading this page with nbviewer.org.</b></div><div class=\"sk-container\" hidden><div class=\"sk-item sk-dashed-wrapped\"><div class=\"sk-label-container\"><div class=\"sk-label sk-toggleable\"><input class=\"sk-toggleable__control sk-hidden--visually\" id=\"sk-estimator-id-1\" type=\"checkbox\" ><label for=\"sk-estimator-id-1\" class=\"sk-toggleable__label sk-toggleable__label-arrow\">ColumnTransformer</label><div class=\"sk-toggleable__content\"><pre>ColumnTransformer(remainder=&#x27;passthrough&#x27;,\n",
       "                  transformers=[[&#x27;imputer1&#x27;, SimpleImputer(strategy=&#x27;median&#x27;),\n",
       "                                 [&#x27;Age&#x27;]],\n",
       "                                [&#x27;imputer2&#x27;, SimpleImputer(), [&#x27;Fare&#x27;]]])</pre></div></div></div><div class=\"sk-parallel\"><div class=\"sk-parallel-item\"><div class=\"sk-item\"><div class=\"sk-label-container\"><div class=\"sk-label sk-toggleable\"><input class=\"sk-toggleable__control sk-hidden--visually\" id=\"sk-estimator-id-2\" type=\"checkbox\" ><label for=\"sk-estimator-id-2\" class=\"sk-toggleable__label sk-toggleable__label-arrow\">imputer1</label><div class=\"sk-toggleable__content\"><pre>[&#x27;Age&#x27;]</pre></div></div></div><div class=\"sk-serial\"><div class=\"sk-item\"><div class=\"sk-estimator sk-toggleable\"><input class=\"sk-toggleable__control sk-hidden--visually\" id=\"sk-estimator-id-3\" type=\"checkbox\" ><label for=\"sk-estimator-id-3\" class=\"sk-toggleable__label sk-toggleable__label-arrow\">SimpleImputer</label><div class=\"sk-toggleable__content\"><pre>SimpleImputer(strategy=&#x27;median&#x27;)</pre></div></div></div></div></div></div><div class=\"sk-parallel-item\"><div class=\"sk-item\"><div class=\"sk-label-container\"><div class=\"sk-label sk-toggleable\"><input class=\"sk-toggleable__control sk-hidden--visually\" id=\"sk-estimator-id-4\" type=\"checkbox\" ><label for=\"sk-estimator-id-4\" class=\"sk-toggleable__label sk-toggleable__label-arrow\">imputer2</label><div class=\"sk-toggleable__content\"><pre>[&#x27;Fare&#x27;]</pre></div></div></div><div class=\"sk-serial\"><div class=\"sk-item\"><div class=\"sk-estimator sk-toggleable\"><input class=\"sk-toggleable__control sk-hidden--visually\" id=\"sk-estimator-id-5\" type=\"checkbox\" ><label for=\"sk-estimator-id-5\" class=\"sk-toggleable__label sk-toggleable__label-arrow\">SimpleImputer</label><div class=\"sk-toggleable__content\"><pre>SimpleImputer()</pre></div></div></div></div></div></div><div class=\"sk-parallel-item\"><div class=\"sk-item\"><div class=\"sk-label-container\"><div class=\"sk-label sk-toggleable\"><input class=\"sk-toggleable__control sk-hidden--visually\" id=\"sk-estimator-id-6\" type=\"checkbox\" ><label for=\"sk-estimator-id-6\" class=\"sk-toggleable__label sk-toggleable__label-arrow\">remainder</label><div class=\"sk-toggleable__content\"><pre>[&#x27;Family&#x27;]</pre></div></div></div><div class=\"sk-serial\"><div class=\"sk-item\"><div class=\"sk-estimator sk-toggleable\"><input class=\"sk-toggleable__control sk-hidden--visually\" id=\"sk-estimator-id-7\" type=\"checkbox\" ><label for=\"sk-estimator-id-7\" class=\"sk-toggleable__label sk-toggleable__label-arrow\">passthrough</label><div class=\"sk-toggleable__content\"><pre>passthrough</pre></div></div></div></div></div></div></div></div></div></div>"
      ],
      "text/plain": [
       "ColumnTransformer(remainder='passthrough',\n",
       "                  transformers=[['imputer1', SimpleImputer(strategy='median'),\n",
       "                                 ['Age']],\n",
       "                                ['imputer2', SimpleImputer(), ['Fare']]])"
      ]
     },
     "execution_count": 23,
     "metadata": {},
     "output_type": "execute_result"
    }
   ],
   "source": [
    "trf.fit(X_train)"
   ]
  },
  {
   "cell_type": "code",
   "execution_count": 24,
   "id": "f40853ef",
   "metadata": {
    "execution": {
     "iopub.execute_input": "2025-03-19T11:39:48.559704Z",
     "iopub.status.busy": "2025-03-19T11:39:48.559300Z",
     "iopub.status.idle": "2025-03-19T11:39:48.565920Z",
     "shell.execute_reply": "2025-03-19T11:39:48.564836Z"
    },
    "papermill": {
     "duration": 0.022939,
     "end_time": "2025-03-19T11:39:48.568123",
     "exception": false,
     "start_time": "2025-03-19T11:39:48.545184",
     "status": "completed"
    },
    "tags": []
   },
   "outputs": [
    {
     "data": {
      "text/plain": [
       "array([29.])"
      ]
     },
     "execution_count": 24,
     "metadata": {},
     "output_type": "execute_result"
    }
   ],
   "source": [
    "trf.named_transformers_['imputer1'].statistics_"
   ]
  },
  {
   "cell_type": "code",
   "execution_count": 25,
   "id": "c63e8f78",
   "metadata": {
    "execution": {
     "iopub.execute_input": "2025-03-19T11:39:48.596315Z",
     "iopub.status.busy": "2025-03-19T11:39:48.595982Z",
     "iopub.status.idle": "2025-03-19T11:39:48.601580Z",
     "shell.execute_reply": "2025-03-19T11:39:48.600582Z"
    },
    "papermill": {
     "duration": 0.019399,
     "end_time": "2025-03-19T11:39:48.603109",
     "exception": false,
     "start_time": "2025-03-19T11:39:48.583710",
     "status": "completed"
    },
    "tags": []
   },
   "outputs": [
    {
     "data": {
      "text/plain": [
       "array([31.88531382])"
      ]
     },
     "execution_count": 25,
     "metadata": {},
     "output_type": "execute_result"
    }
   ],
   "source": [
    "trf.named_transformers_['imputer2'].statistics_"
   ]
  },
  {
   "cell_type": "code",
   "execution_count": 26,
   "id": "c5b626fc",
   "metadata": {
    "execution": {
     "iopub.execute_input": "2025-03-19T11:39:48.627912Z",
     "iopub.status.busy": "2025-03-19T11:39:48.627558Z",
     "iopub.status.idle": "2025-03-19T11:39:48.644577Z",
     "shell.execute_reply": "2025-03-19T11:39:48.643258Z"
    },
    "papermill": {
     "duration": 0.031491,
     "end_time": "2025-03-19T11:39:48.646149",
     "exception": false,
     "start_time": "2025-03-19T11:39:48.614658",
     "status": "completed"
    },
    "tags": []
   },
   "outputs": [
    {
     "data": {
      "text/plain": [
       "array([[29.    , 15.2458,  2.    ],\n",
       "       [31.    , 10.5   ,  0.    ],\n",
       "       [31.    , 37.0042,  2.    ],\n",
       "       ...,\n",
       "       [29.    ,  7.7333,  0.    ],\n",
       "       [36.    , 17.4   ,  1.    ],\n",
       "       [60.    , 39.    ,  2.    ]])"
      ]
     },
     "execution_count": 26,
     "metadata": {},
     "output_type": "execute_result"
    }
   ],
   "source": [
    "X_train = trf.transform(X_train)\n",
    "X_test = trf.transform(X_test)\n",
    "X_train"
   ]
  },
  {
   "cell_type": "code",
   "execution_count": null,
   "id": "3804f98a",
   "metadata": {
    "papermill": {
     "duration": 0.014129,
     "end_time": "2025-03-19T11:39:48.674715",
     "exception": false,
     "start_time": "2025-03-19T11:39:48.660586",
     "status": "completed"
    },
    "tags": []
   },
   "outputs": [],
   "source": []
  },
  {
   "cell_type": "code",
   "execution_count": null,
   "id": "30cd85a7",
   "metadata": {
    "papermill": {
     "duration": 0.015195,
     "end_time": "2025-03-19T11:39:48.706124",
     "exception": false,
     "start_time": "2025-03-19T11:39:48.690929",
     "status": "completed"
    },
    "tags": []
   },
   "outputs": [],
   "source": []
  },
  {
   "cell_type": "code",
   "execution_count": null,
   "id": "2fb762b7",
   "metadata": {
    "papermill": {
     "duration": 0.017062,
     "end_time": "2025-03-19T11:39:48.737467",
     "exception": false,
     "start_time": "2025-03-19T11:39:48.720405",
     "status": "completed"
    },
    "tags": []
   },
   "outputs": [],
   "source": []
  }
 ],
 "metadata": {
  "kaggle": {
   "accelerator": "none",
   "dataSources": [
    {
     "datasetId": 6909027,
     "sourceId": 11085056,
     "sourceType": "datasetVersion"
    }
   ],
   "dockerImageVersionId": 30918,
   "isGpuEnabled": false,
   "isInternetEnabled": false,
   "language": "python",
   "sourceType": "notebook"
  },
  "kernelspec": {
   "display_name": "Python 3",
   "language": "python",
   "name": "python3"
  },
  "language_info": {
   "codemirror_mode": {
    "name": "ipython",
    "version": 3
   },
   "file_extension": ".py",
   "mimetype": "text/x-python",
   "name": "python",
   "nbconvert_exporter": "python",
   "pygments_lexer": "ipython3",
   "version": "3.10.12"
  },
  "papermill": {
   "default_parameters": {},
   "duration": 8.558676,
   "end_time": "2025-03-19T11:39:49.473546",
   "environment_variables": {},
   "exception": null,
   "input_path": "__notebook__.ipynb",
   "output_path": "__notebook__.ipynb",
   "parameters": {},
   "start_time": "2025-03-19T11:39:40.914870",
   "version": "2.6.0"
  }
 },
 "nbformat": 4,
 "nbformat_minor": 5
}
