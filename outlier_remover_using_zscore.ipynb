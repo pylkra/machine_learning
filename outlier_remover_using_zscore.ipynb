{
 "cells": [
  {
   "cell_type": "code",
   "execution_count": 1,
   "id": "86196bb0",
   "metadata": {
    "_cell_guid": "b1076dfc-b9ad-4769-8c92-a6c4dae69d19",
    "_uuid": "8f2839f25d086af736a60e9eeb907d3b93b6e0e5",
    "execution": {
     "iopub.execute_input": "2025-03-25T05:54:44.894541Z",
     "iopub.status.busy": "2025-03-25T05:54:44.894159Z",
     "iopub.status.idle": "2025-03-25T05:54:45.973258Z",
     "shell.execute_reply": "2025-03-25T05:54:45.971740Z"
    },
    "papermill": {
     "duration": 1.088426,
     "end_time": "2025-03-25T05:54:45.975191",
     "exception": false,
     "start_time": "2025-03-25T05:54:44.886765",
     "status": "completed"
    },
    "tags": []
   },
   "outputs": [
    {
     "name": "stdout",
     "output_type": "stream",
     "text": [
      "/kaggle/input/placement-outliner/placement (1).csv\n"
     ]
    }
   ],
   "source": [
    "# This Python 3 environment comes with many helpful analytics libraries installed\n",
    "# It is defined by the kaggle/python Docker image: https://github.com/kaggle/docker-python\n",
    "# For example, here's several helpful packages to load\n",
    "\n",
    "import numpy as np # linear algebra\n",
    "import pandas as pd # data processing, CSV file I/O (e.g. pd.read_csv)\n",
    "\n",
    "# Input data files are available in the read-only \"../input/\" directory\n",
    "# For example, running this (by clicking run or pressing Shift+Enter) will list all files under the input directory\n",
    "\n",
    "import os\n",
    "for dirname, _, filenames in os.walk('/kaggle/input'):\n",
    "    for filename in filenames:\n",
    "        print(os.path.join(dirname, filename))\n",
    "\n",
    "# You can write up to 20GB to the current directory (/kaggle/working/) that gets preserved as output when you create a version using \"Save & Run All\" \n",
    "# You can also write temporary files to /kaggle/temp/, but they won't be saved outside of the current session"
   ]
  },
  {
   "cell_type": "code",
   "execution_count": 2,
   "id": "9a4db8e2",
   "metadata": {
    "execution": {
     "iopub.execute_input": "2025-03-25T05:54:45.987510Z",
     "iopub.status.busy": "2025-03-25T05:54:45.986966Z",
     "iopub.status.idle": "2025-03-25T05:54:46.003970Z",
     "shell.execute_reply": "2025-03-25T05:54:46.002843Z"
    },
    "papermill": {
     "duration": 0.025378,
     "end_time": "2025-03-25T05:54:46.006173",
     "exception": false,
     "start_time": "2025-03-25T05:54:45.980795",
     "status": "completed"
    },
    "tags": []
   },
   "outputs": [],
   "source": [
    "df= pd. read_csv('/kaggle/input/placement-outliner/placement (1).csv')"
   ]
  },
  {
   "cell_type": "code",
   "execution_count": 3,
   "id": "3225ceec",
   "metadata": {
    "execution": {
     "iopub.execute_input": "2025-03-25T05:54:46.018867Z",
     "iopub.status.busy": "2025-03-25T05:54:46.018393Z",
     "iopub.status.idle": "2025-03-25T05:54:46.025478Z",
     "shell.execute_reply": "2025-03-25T05:54:46.024379Z"
    },
    "papermill": {
     "duration": 0.015299,
     "end_time": "2025-03-25T05:54:46.027237",
     "exception": false,
     "start_time": "2025-03-25T05:54:46.011938",
     "status": "completed"
    },
    "tags": []
   },
   "outputs": [
    {
     "data": {
      "text/plain": [
       "(1000, 3)"
      ]
     },
     "execution_count": 3,
     "metadata": {},
     "output_type": "execute_result"
    }
   ],
   "source": [
    "df.shape"
   ]
  },
  {
   "cell_type": "code",
   "execution_count": 4,
   "id": "dbb58bc0",
   "metadata": {
    "execution": {
     "iopub.execute_input": "2025-03-25T05:54:46.039472Z",
     "iopub.status.busy": "2025-03-25T05:54:46.039074Z",
     "iopub.status.idle": "2025-03-25T05:54:46.075642Z",
     "shell.execute_reply": "2025-03-25T05:54:46.074465Z"
    },
    "papermill": {
     "duration": 0.044741,
     "end_time": "2025-03-25T05:54:46.077651",
     "exception": false,
     "start_time": "2025-03-25T05:54:46.032910",
     "status": "completed"
    },
    "tags": []
   },
   "outputs": [
    {
     "data": {
      "text/html": [
       "<div>\n",
       "<style scoped>\n",
       "    .dataframe tbody tr th:only-of-type {\n",
       "        vertical-align: middle;\n",
       "    }\n",
       "\n",
       "    .dataframe tbody tr th {\n",
       "        vertical-align: top;\n",
       "    }\n",
       "\n",
       "    .dataframe thead th {\n",
       "        text-align: right;\n",
       "    }\n",
       "</style>\n",
       "<table border=\"1\" class=\"dataframe\">\n",
       "  <thead>\n",
       "    <tr style=\"text-align: right;\">\n",
       "      <th></th>\n",
       "      <th>cgpa</th>\n",
       "      <th>placement_exam_marks</th>\n",
       "      <th>placed</th>\n",
       "    </tr>\n",
       "  </thead>\n",
       "  <tbody>\n",
       "    <tr>\n",
       "      <th>932</th>\n",
       "      <td>6.89</td>\n",
       "      <td>71.0</td>\n",
       "      <td>0</td>\n",
       "    </tr>\n",
       "    <tr>\n",
       "      <th>517</th>\n",
       "      <td>6.37</td>\n",
       "      <td>38.0</td>\n",
       "      <td>1</td>\n",
       "    </tr>\n",
       "    <tr>\n",
       "      <th>958</th>\n",
       "      <td>7.43</td>\n",
       "      <td>11.0</td>\n",
       "      <td>0</td>\n",
       "    </tr>\n",
       "    <tr>\n",
       "      <th>221</th>\n",
       "      <td>6.78</td>\n",
       "      <td>24.0</td>\n",
       "      <td>1</td>\n",
       "    </tr>\n",
       "    <tr>\n",
       "      <th>185</th>\n",
       "      <td>7.30</td>\n",
       "      <td>31.0</td>\n",
       "      <td>0</td>\n",
       "    </tr>\n",
       "  </tbody>\n",
       "</table>\n",
       "</div>"
      ],
      "text/plain": [
       "     cgpa  placement_exam_marks  placed\n",
       "932  6.89                  71.0       0\n",
       "517  6.37                  38.0       1\n",
       "958  7.43                  11.0       0\n",
       "221  6.78                  24.0       1\n",
       "185  7.30                  31.0       0"
      ]
     },
     "execution_count": 4,
     "metadata": {},
     "output_type": "execute_result"
    }
   ],
   "source": [
    "df.sample(5)"
   ]
  },
  {
   "cell_type": "code",
   "execution_count": 5,
   "id": "fb65e7ec",
   "metadata": {
    "execution": {
     "iopub.execute_input": "2025-03-25T05:54:46.090571Z",
     "iopub.status.busy": "2025-03-25T05:54:46.090136Z",
     "iopub.status.idle": "2025-03-25T05:54:48.178850Z",
     "shell.execute_reply": "2025-03-25T05:54:48.177517Z"
    },
    "papermill": {
     "duration": 2.097794,
     "end_time": "2025-03-25T05:54:48.181023",
     "exception": false,
     "start_time": "2025-03-25T05:54:46.083229",
     "status": "completed"
    },
    "tags": []
   },
   "outputs": [],
   "source": [
    "import matplotlib.pyplot as plt\n",
    "import seaborn as sns"
   ]
  },
  {
   "cell_type": "code",
   "execution_count": 6,
   "id": "a844cc6c",
   "metadata": {
    "execution": {
     "iopub.execute_input": "2025-03-25T05:54:48.194200Z",
     "iopub.status.busy": "2025-03-25T05:54:48.193645Z",
     "iopub.status.idle": "2025-03-25T05:54:48.910963Z",
     "shell.execute_reply": "2025-03-25T05:54:48.909786Z"
    },
    "papermill": {
     "duration": 0.725682,
     "end_time": "2025-03-25T05:54:48.912839",
     "exception": false,
     "start_time": "2025-03-25T05:54:48.187157",
     "status": "completed"
    },
    "tags": []
   },
   "outputs": [
    {
     "name": "stderr",
     "output_type": "stream",
     "text": [
      "/usr/local/lib/python3.10/dist-packages/seaborn/_oldcore.py:1119: FutureWarning: use_inf_as_na option is deprecated and will be removed in a future version. Convert inf values to NaN before operating instead.\n",
      "  with pd.option_context('mode.use_inf_as_na', True):\n",
      "/usr/local/lib/python3.10/dist-packages/seaborn/_oldcore.py:1119: FutureWarning: use_inf_as_na option is deprecated and will be removed in a future version. Convert inf values to NaN before operating instead.\n",
      "  with pd.option_context('mode.use_inf_as_na', True):\n"
     ]
    },
    {
     "data": {
      "image/png": "[encoded data removed]",
      "text/plain": [
       "<Figure size 640x480 with 2 Axes>"
      ]
     },
     "metadata": {},
     "output_type": "display_data"
    }
   ],
   "source": [
    "# Subplot 1: CGPA Distribution\n",
    "plt.subplot(1, 2, 1)\n",
    "sns.histplot(df['cgpa'], kde=True)\n",
    "plt.title(\"CGPA Distribution\")\n",
    "\n",
    "# Subplot 2: IQ Distribution\n",
    "plt.subplot(1, 2, 2)\n",
    "sns.histplot(df['placement_exam_marks'], kde=True)\n",
    "plt.title(\"placement_exam_marks\")\n",
    "\n",
    "# Show the plot\n",
    "plt.tight_layout()\n",
    "plt.show()"
   ]
  },
  {
   "cell_type": "code",
   "execution_count": 7,
   "id": "9c3dd624",
   "metadata": {
    "execution": {
     "iopub.execute_input": "2025-03-25T05:54:48.927337Z",
     "iopub.status.busy": "2025-03-25T05:54:48.927011Z",
     "iopub.status.idle": "2025-03-25T05:54:48.934966Z",
     "shell.execute_reply": "2025-03-25T05:54:48.933934Z"
    },
    "papermill": {
     "duration": 0.017316,
     "end_time": "2025-03-25T05:54:48.936917",
     "exception": false,
     "start_time": "2025-03-25T05:54:48.919601",
     "status": "completed"
    },
    "tags": []
   },
   "outputs": [
    {
     "name": "stdout",
     "output_type": "stream",
     "text": [
      "Cgpa Mean  6.96124\n",
      "Cgpa Standard Deviation  0.6158978751323894\n",
      "Cgpa Min  4.89\n",
      "Cgpa Mx  9.12\n"
     ]
    }
   ],
   "source": [
    "print('Cgpa Mean ',df['cgpa'].mean())\n",
    "print('Cgpa Standard Deviation ',df['cgpa'].std())\n",
    "print('Cgpa Min ',df['cgpa'].min())\n",
    "print('Cgpa Mx ',df['cgpa'].max())"
   ]
  },
  {
   "cell_type": "code",
   "execution_count": 8,
   "id": "4afa299f",
   "metadata": {
    "execution": {
     "iopub.execute_input": "2025-03-25T05:54:48.953707Z",
     "iopub.status.busy": "2025-03-25T05:54:48.953282Z",
     "iopub.status.idle": "2025-03-25T05:54:48.961064Z",
     "shell.execute_reply": "2025-03-25T05:54:48.959627Z"
    },
    "papermill": {
     "duration": 0.018041,
     "end_time": "2025-03-25T05:54:48.963111",
     "exception": false,
     "start_time": "2025-03-25T05:54:48.945070",
     "status": "completed"
    },
    "tags": []
   },
   "outputs": [
    {
     "data": {
      "text/plain": [
       "8.808933625397168"
      ]
     },
     "execution_count": 8,
     "metadata": {},
     "output_type": "execute_result"
    }
   ],
   "source": [
    "df['cgpa'].mean() + 3 * df['cgpa'].std()"
   ]
  },
  {
   "cell_type": "code",
   "execution_count": 9,
   "id": "8603a41d",
   "metadata": {
    "execution": {
     "iopub.execute_input": "2025-03-25T05:54:48.986524Z",
     "iopub.status.busy": "2025-03-25T05:54:48.985959Z",
     "iopub.status.idle": "2025-03-25T05:54:48.998481Z",
     "shell.execute_reply": "2025-03-25T05:54:48.996767Z"
    },
    "papermill": {
     "duration": 0.030628,
     "end_time": "2025-03-25T05:54:49.000702",
     "exception": false,
     "start_time": "2025-03-25T05:54:48.970074",
     "status": "completed"
    },
    "tags": []
   },
   "outputs": [
    {
     "name": "stdout",
     "output_type": "stream",
     "text": [
      "Maximum Allowed : 8.808933625397168\n",
      "Minimum Allowed : 5.113546374602832\n"
     ]
    }
   ],
   "source": [
    "# Finding the boundary values\n",
    "\n",
    "#max = mean+3sigma\n",
    "#min = mean - 3sigma\n",
    "cgpa_max = df['cgpa'].mean() + (3 * df['cgpa'].std())\n",
    "cgpa_min = df['cgpa'].mean() - (3 * df['cgpa'].std())\n",
    "print('Maximum Allowed :', cgpa_max)\n",
    "print('Minimum Allowed :', cgpa_min) "
   ]
  },
  {
   "cell_type": "code",
   "execution_count": 10,
   "id": "d72b79e4",
   "metadata": {
    "execution": {
     "iopub.execute_input": "2025-03-25T05:54:49.027545Z",
     "iopub.status.busy": "2025-03-25T05:54:49.026994Z",
     "iopub.status.idle": "2025-03-25T05:54:49.046340Z",
     "shell.execute_reply": "2025-03-25T05:54:49.044947Z"
    },
    "papermill": {
     "duration": 0.035708,
     "end_time": "2025-03-25T05:54:49.049035",
     "exception": false,
     "start_time": "2025-03-25T05:54:49.013327",
     "status": "completed"
    },
    "tags": []
   },
   "outputs": [
    {
     "data": {
      "text/html": [
       "<div>\n",
       "<style scoped>\n",
       "    .dataframe tbody tr th:only-of-type {\n",
       "        vertical-align: middle;\n",
       "    }\n",
       "\n",
       "    .dataframe tbody tr th {\n",
       "        vertical-align: top;\n",
       "    }\n",
       "\n",
       "    .dataframe thead th {\n",
       "        text-align: right;\n",
       "    }\n",
       "</style>\n",
       "<table border=\"1\" class=\"dataframe\">\n",
       "  <thead>\n",
       "    <tr style=\"text-align: right;\">\n",
       "      <th></th>\n",
       "      <th>cgpa</th>\n",
       "      <th>placement_exam_marks</th>\n",
       "      <th>placed</th>\n",
       "    </tr>\n",
       "  </thead>\n",
       "  <tbody>\n",
       "    <tr>\n",
       "      <th>485</th>\n",
       "      <td>4.92</td>\n",
       "      <td>44.0</td>\n",
       "      <td>1</td>\n",
       "    </tr>\n",
       "    <tr>\n",
       "      <th>995</th>\n",
       "      <td>8.87</td>\n",
       "      <td>44.0</td>\n",
       "      <td>1</td>\n",
       "    </tr>\n",
       "    <tr>\n",
       "      <th>996</th>\n",
       "      <td>9.12</td>\n",
       "      <td>65.0</td>\n",
       "      <td>1</td>\n",
       "    </tr>\n",
       "    <tr>\n",
       "      <th>997</th>\n",
       "      <td>4.89</td>\n",
       "      <td>34.0</td>\n",
       "      <td>0</td>\n",
       "    </tr>\n",
       "    <tr>\n",
       "      <th>999</th>\n",
       "      <td>4.90</td>\n",
       "      <td>10.0</td>\n",
       "      <td>1</td>\n",
       "    </tr>\n",
       "  </tbody>\n",
       "</table>\n",
       "</div>"
      ],
      "text/plain": [
       "     cgpa  placement_exam_marks  placed\n",
       "485  4.92                  44.0       1\n",
       "995  8.87                  44.0       1\n",
       "996  9.12                  65.0       1\n",
       "997  4.89                  34.0       0\n",
       "999  4.90                  10.0       1"
      ]
     },
     "execution_count": 10,
     "metadata": {},
     "output_type": "execute_result"
    }
   ],
   "source": [
    "# Finding the outliers\n",
    "df[(df['cgpa']>8.8) | (df['cgpa']<5.11)]"
   ]
  },
  {
   "cell_type": "markdown",
   "id": "c0455b08",
   "metadata": {
    "papermill": {
     "duration": 0.010609,
     "end_time": "2025-03-25T05:54:49.072627",
     "exception": false,
     "start_time": "2025-03-25T05:54:49.062018",
     "status": "completed"
    },
    "tags": []
   },
   "source": [
    "## Trimming"
   ]
  },
  {
   "cell_type": "code",
   "execution_count": 11,
   "id": "6376c24e",
   "metadata": {
    "execution": {
     "iopub.execute_input": "2025-03-25T05:54:49.092823Z",
     "iopub.status.busy": "2025-03-25T05:54:49.092024Z",
     "iopub.status.idle": "2025-03-25T05:54:49.112347Z",
     "shell.execute_reply": "2025-03-25T05:54:49.111038Z"
    },
    "papermill": {
     "duration": 0.034913,
     "end_time": "2025-03-25T05:54:49.115682",
     "exception": false,
     "start_time": "2025-03-25T05:54:49.080769",
     "status": "completed"
    },
    "tags": []
   },
   "outputs": [
    {
     "data": {
      "text/html": [
       "<div>\n",
       "<style scoped>\n",
       "    .dataframe tbody tr th:only-of-type {\n",
       "        vertical-align: middle;\n",
       "    }\n",
       "\n",
       "    .dataframe tbody tr th {\n",
       "        vertical-align: top;\n",
       "    }\n",
       "\n",
       "    .dataframe thead th {\n",
       "        text-align: right;\n",
       "    }\n",
       "</style>\n",
       "<table border=\"1\" class=\"dataframe\">\n",
       "  <thead>\n",
       "    <tr style=\"text-align: right;\">\n",
       "      <th></th>\n",
       "      <th>cgpa</th>\n",
       "      <th>placement_exam_marks</th>\n",
       "      <th>placed</th>\n",
       "    </tr>\n",
       "  </thead>\n",
       "  <tbody>\n",
       "    <tr>\n",
       "      <th>0</th>\n",
       "      <td>7.19</td>\n",
       "      <td>26.0</td>\n",
       "      <td>1</td>\n",
       "    </tr>\n",
       "    <tr>\n",
       "      <th>1</th>\n",
       "      <td>7.46</td>\n",
       "      <td>38.0</td>\n",
       "      <td>1</td>\n",
       "    </tr>\n",
       "    <tr>\n",
       "      <th>2</th>\n",
       "      <td>7.54</td>\n",
       "      <td>40.0</td>\n",
       "      <td>1</td>\n",
       "    </tr>\n",
       "    <tr>\n",
       "      <th>3</th>\n",
       "      <td>6.42</td>\n",
       "      <td>8.0</td>\n",
       "      <td>1</td>\n",
       "    </tr>\n",
       "    <tr>\n",
       "      <th>4</th>\n",
       "      <td>7.23</td>\n",
       "      <td>17.0</td>\n",
       "      <td>0</td>\n",
       "    </tr>\n",
       "    <tr>\n",
       "      <th>...</th>\n",
       "      <td>...</td>\n",
       "      <td>...</td>\n",
       "      <td>...</td>\n",
       "    </tr>\n",
       "    <tr>\n",
       "      <th>991</th>\n",
       "      <td>7.04</td>\n",
       "      <td>57.0</td>\n",
       "      <td>0</td>\n",
       "    </tr>\n",
       "    <tr>\n",
       "      <th>992</th>\n",
       "      <td>6.26</td>\n",
       "      <td>12.0</td>\n",
       "      <td>0</td>\n",
       "    </tr>\n",
       "    <tr>\n",
       "      <th>993</th>\n",
       "      <td>6.73</td>\n",
       "      <td>21.0</td>\n",
       "      <td>1</td>\n",
       "    </tr>\n",
       "    <tr>\n",
       "      <th>994</th>\n",
       "      <td>6.48</td>\n",
       "      <td>63.0</td>\n",
       "      <td>0</td>\n",
       "    </tr>\n",
       "    <tr>\n",
       "      <th>998</th>\n",
       "      <td>8.62</td>\n",
       "      <td>46.0</td>\n",
       "      <td>1</td>\n",
       "    </tr>\n",
       "  </tbody>\n",
       "</table>\n",
       "<p>995 rows × 3 columns</p>\n",
       "</div>"
      ],
      "text/plain": [
       "     cgpa  placement_exam_marks  placed\n",
       "0    7.19                  26.0       1\n",
       "1    7.46                  38.0       1\n",
       "2    7.54                  40.0       1\n",
       "3    6.42                   8.0       1\n",
       "4    7.23                  17.0       0\n",
       "..    ...                   ...     ...\n",
       "991  7.04                  57.0       0\n",
       "992  6.26                  12.0       0\n",
       "993  6.73                  21.0       1\n",
       "994  6.48                  63.0       0\n",
       "998  8.62                  46.0       1\n",
       "\n",
       "[995 rows x 3 columns]"
      ]
     },
     "execution_count": 11,
     "metadata": {},
     "output_type": "execute_result"
    }
   ],
   "source": [
    "new_df = df[(df['cgpa'] < 8.8) & (df['cgpa']>5.11)]\n",
    "new_df"
   ]
  },
  {
   "cell_type": "markdown",
   "id": "fdd85219",
   "metadata": {
    "papermill": {
     "duration": 0.013384,
     "end_time": "2025-03-25T05:54:49.141187",
     "exception": false,
     "start_time": "2025-03-25T05:54:49.127803",
     "status": "completed"
    },
    "tags": []
   },
   "source": [
    "## Approach 2 Calculating the ZScore\n",
    "\n",
    "ZScore = (Xi - mean)/std"
   ]
  },
  {
   "cell_type": "code",
   "execution_count": 12,
   "id": "7739c553",
   "metadata": {
    "execution": {
     "iopub.execute_input": "2025-03-25T05:54:49.165172Z",
     "iopub.status.busy": "2025-03-25T05:54:49.164374Z",
     "iopub.status.idle": "2025-03-25T05:54:49.178307Z",
     "shell.execute_reply": "2025-03-25T05:54:49.177110Z"
    },
    "papermill": {
     "duration": 0.027518,
     "end_time": "2025-03-25T05:54:49.180839",
     "exception": false,
     "start_time": "2025-03-25T05:54:49.153321",
     "status": "completed"
    },
    "tags": []
   },
   "outputs": [
    {
     "data": {
      "text/plain": [
       "0      0.371425\n",
       "1      0.809810\n",
       "2      0.939701\n",
       "3     -0.878782\n",
       "4      0.436371\n",
       "         ...   \n",
       "995    3.099150\n",
       "996    3.505062\n",
       "997   -3.362960\n",
       "998    2.693239\n",
       "999   -3.346724\n",
       "Name: cgpa_zscore, Length: 1000, dtype: float64"
      ]
     },
     "execution_count": 12,
     "metadata": {},
     "output_type": "execute_result"
    }
   ],
   "source": [
    "df['cgpa_zscore'] = (df['cgpa'] - df['cgpa'].mean())/(df['cgpa'].std())\n",
    "df['cgpa_zscore']"
   ]
  },
  {
   "cell_type": "code",
   "execution_count": 13,
   "id": "e739a20e",
   "metadata": {
    "execution": {
     "iopub.execute_input": "2025-03-25T05:54:49.198578Z",
     "iopub.status.busy": "2025-03-25T05:54:49.198143Z",
     "iopub.status.idle": "2025-03-25T05:54:49.210686Z",
     "shell.execute_reply": "2025-03-25T05:54:49.209392Z"
    },
    "papermill": {
     "duration": 0.023625,
     "end_time": "2025-03-25T05:54:49.212880",
     "exception": false,
     "start_time": "2025-03-25T05:54:49.189255",
     "status": "completed"
    },
    "tags": []
   },
   "outputs": [
    {
     "data": {
      "text/html": [
       "<div>\n",
       "<style scoped>\n",
       "    .dataframe tbody tr th:only-of-type {\n",
       "        vertical-align: middle;\n",
       "    }\n",
       "\n",
       "    .dataframe tbody tr th {\n",
       "        vertical-align: top;\n",
       "    }\n",
       "\n",
       "    .dataframe thead th {\n",
       "        text-align: right;\n",
       "    }\n",
       "</style>\n",
       "<table border=\"1\" class=\"dataframe\">\n",
       "  <thead>\n",
       "    <tr style=\"text-align: right;\">\n",
       "      <th></th>\n",
       "      <th>cgpa</th>\n",
       "      <th>placement_exam_marks</th>\n",
       "      <th>placed</th>\n",
       "      <th>cgpa_zscore</th>\n",
       "    </tr>\n",
       "  </thead>\n",
       "  <tbody>\n",
       "    <tr>\n",
       "      <th>0</th>\n",
       "      <td>7.19</td>\n",
       "      <td>26.0</td>\n",
       "      <td>1</td>\n",
       "      <td>0.371425</td>\n",
       "    </tr>\n",
       "    <tr>\n",
       "      <th>1</th>\n",
       "      <td>7.46</td>\n",
       "      <td>38.0</td>\n",
       "      <td>1</td>\n",
       "      <td>0.809810</td>\n",
       "    </tr>\n",
       "    <tr>\n",
       "      <th>2</th>\n",
       "      <td>7.54</td>\n",
       "      <td>40.0</td>\n",
       "      <td>1</td>\n",
       "      <td>0.939701</td>\n",
       "    </tr>\n",
       "    <tr>\n",
       "      <th>3</th>\n",
       "      <td>6.42</td>\n",
       "      <td>8.0</td>\n",
       "      <td>1</td>\n",
       "      <td>-0.878782</td>\n",
       "    </tr>\n",
       "    <tr>\n",
       "      <th>4</th>\n",
       "      <td>7.23</td>\n",
       "      <td>17.0</td>\n",
       "      <td>0</td>\n",
       "      <td>0.436371</td>\n",
       "    </tr>\n",
       "  </tbody>\n",
       "</table>\n",
       "</div>"
      ],
      "text/plain": [
       "   cgpa  placement_exam_marks  placed  cgpa_zscore\n",
       "0  7.19                  26.0       1     0.371425\n",
       "1  7.46                  38.0       1     0.809810\n",
       "2  7.54                  40.0       1     0.939701\n",
       "3  6.42                   8.0       1    -0.878782\n",
       "4  7.23                  17.0       0     0.436371"
      ]
     },
     "execution_count": 13,
     "metadata": {},
     "output_type": "execute_result"
    }
   ],
   "source": [
    "df.head()"
   ]
  },
  {
   "cell_type": "code",
   "execution_count": 14,
   "id": "ae790981",
   "metadata": {
    "execution": {
     "iopub.execute_input": "2025-03-25T05:54:49.230768Z",
     "iopub.status.busy": "2025-03-25T05:54:49.230326Z",
     "iopub.status.idle": "2025-03-25T05:54:49.243958Z",
     "shell.execute_reply": "2025-03-25T05:54:49.242382Z"
    },
    "papermill": {
     "duration": 0.026814,
     "end_time": "2025-03-25T05:54:49.247761",
     "exception": false,
     "start_time": "2025-03-25T05:54:49.220947",
     "status": "completed"
    },
    "tags": []
   },
   "outputs": [
    {
     "data": {
      "text/html": [
       "<div>\n",
       "<style scoped>\n",
       "    .dataframe tbody tr th:only-of-type {\n",
       "        vertical-align: middle;\n",
       "    }\n",
       "\n",
       "    .dataframe tbody tr th {\n",
       "        vertical-align: top;\n",
       "    }\n",
       "\n",
       "    .dataframe thead th {\n",
       "        text-align: right;\n",
       "    }\n",
       "</style>\n",
       "<table border=\"1\" class=\"dataframe\">\n",
       "  <thead>\n",
       "    <tr style=\"text-align: right;\">\n",
       "      <th></th>\n",
       "      <th>cgpa</th>\n",
       "      <th>placement_exam_marks</th>\n",
       "      <th>placed</th>\n",
       "      <th>cgpa_zscore</th>\n",
       "    </tr>\n",
       "  </thead>\n",
       "  <tbody>\n",
       "    <tr>\n",
       "      <th>995</th>\n",
       "      <td>8.87</td>\n",
       "      <td>44.0</td>\n",
       "      <td>1</td>\n",
       "      <td>3.099150</td>\n",
       "    </tr>\n",
       "    <tr>\n",
       "      <th>996</th>\n",
       "      <td>9.12</td>\n",
       "      <td>65.0</td>\n",
       "      <td>1</td>\n",
       "      <td>3.505062</td>\n",
       "    </tr>\n",
       "  </tbody>\n",
       "</table>\n",
       "</div>"
      ],
      "text/plain": [
       "     cgpa  placement_exam_marks  placed  cgpa_zscore\n",
       "995  8.87                  44.0       1     3.099150\n",
       "996  9.12                  65.0       1     3.505062"
      ]
     },
     "execution_count": 14,
     "metadata": {},
     "output_type": "execute_result"
    }
   ],
   "source": [
    "df[df['cgpa_zscore']>3]"
   ]
  },
  {
   "cell_type": "code",
   "execution_count": 15,
   "id": "9281e9e7",
   "metadata": {
    "execution": {
     "iopub.execute_input": "2025-03-25T05:54:49.267234Z",
     "iopub.status.busy": "2025-03-25T05:54:49.266886Z",
     "iopub.status.idle": "2025-03-25T05:54:49.281717Z",
     "shell.execute_reply": "2025-03-25T05:54:49.279848Z"
    },
    "papermill": {
     "duration": 0.027361,
     "end_time": "2025-03-25T05:54:49.285143",
     "exception": false,
     "start_time": "2025-03-25T05:54:49.257782",
     "status": "completed"
    },
    "tags": []
   },
   "outputs": [
    {
     "data": {
      "text/html": [
       "<div>\n",
       "<style scoped>\n",
       "    .dataframe tbody tr th:only-of-type {\n",
       "        vertical-align: middle;\n",
       "    }\n",
       "\n",
       "    .dataframe tbody tr th {\n",
       "        vertical-align: top;\n",
       "    }\n",
       "\n",
       "    .dataframe thead th {\n",
       "        text-align: right;\n",
       "    }\n",
       "</style>\n",
       "<table border=\"1\" class=\"dataframe\">\n",
       "  <thead>\n",
       "    <tr style=\"text-align: right;\">\n",
       "      <th></th>\n",
       "      <th>cgpa</th>\n",
       "      <th>placement_exam_marks</th>\n",
       "      <th>placed</th>\n",
       "      <th>cgpa_zscore</th>\n",
       "    </tr>\n",
       "  </thead>\n",
       "  <tbody>\n",
       "    <tr>\n",
       "      <th>485</th>\n",
       "      <td>4.92</td>\n",
       "      <td>44.0</td>\n",
       "      <td>1</td>\n",
       "      <td>-3.314251</td>\n",
       "    </tr>\n",
       "    <tr>\n",
       "      <th>997</th>\n",
       "      <td>4.89</td>\n",
       "      <td>34.0</td>\n",
       "      <td>0</td>\n",
       "      <td>-3.362960</td>\n",
       "    </tr>\n",
       "    <tr>\n",
       "      <th>999</th>\n",
       "      <td>4.90</td>\n",
       "      <td>10.0</td>\n",
       "      <td>1</td>\n",
       "      <td>-3.346724</td>\n",
       "    </tr>\n",
       "  </tbody>\n",
       "</table>\n",
       "</div>"
      ],
      "text/plain": [
       "     cgpa  placement_exam_marks  placed  cgpa_zscore\n",
       "485  4.92                  44.0       1    -3.314251\n",
       "997  4.89                  34.0       0    -3.362960\n",
       "999  4.90                  10.0       1    -3.346724"
      ]
     },
     "execution_count": 15,
     "metadata": {},
     "output_type": "execute_result"
    }
   ],
   "source": [
    "df[df['cgpa_zscore'] < -3]"
   ]
  },
  {
   "cell_type": "code",
   "execution_count": 16,
   "id": "7b9428f7",
   "metadata": {
    "execution": {
     "iopub.execute_input": "2025-03-25T05:54:49.305185Z",
     "iopub.status.busy": "2025-03-25T05:54:49.304804Z",
     "iopub.status.idle": "2025-03-25T05:54:49.321022Z",
     "shell.execute_reply": "2025-03-25T05:54:49.319144Z"
    },
    "papermill": {
     "duration": 0.027398,
     "end_time": "2025-03-25T05:54:49.323124",
     "exception": false,
     "start_time": "2025-03-25T05:54:49.295726",
     "status": "completed"
    },
    "tags": []
   },
   "outputs": [
    {
     "data": {
      "text/html": [
       "<div>\n",
       "<style scoped>\n",
       "    .dataframe tbody tr th:only-of-type {\n",
       "        vertical-align: middle;\n",
       "    }\n",
       "\n",
       "    .dataframe tbody tr th {\n",
       "        vertical-align: top;\n",
       "    }\n",
       "\n",
       "    .dataframe thead th {\n",
       "        text-align: right;\n",
       "    }\n",
       "</style>\n",
       "<table border=\"1\" class=\"dataframe\">\n",
       "  <thead>\n",
       "    <tr style=\"text-align: right;\">\n",
       "      <th></th>\n",
       "      <th>cgpa</th>\n",
       "      <th>placement_exam_marks</th>\n",
       "      <th>placed</th>\n",
       "      <th>cgpa_zscore</th>\n",
       "    </tr>\n",
       "  </thead>\n",
       "  <tbody>\n",
       "    <tr>\n",
       "      <th>485</th>\n",
       "      <td>4.92</td>\n",
       "      <td>44.0</td>\n",
       "      <td>1</td>\n",
       "      <td>-3.314251</td>\n",
       "    </tr>\n",
       "    <tr>\n",
       "      <th>995</th>\n",
       "      <td>8.87</td>\n",
       "      <td>44.0</td>\n",
       "      <td>1</td>\n",
       "      <td>3.099150</td>\n",
       "    </tr>\n",
       "    <tr>\n",
       "      <th>996</th>\n",
       "      <td>9.12</td>\n",
       "      <td>65.0</td>\n",
       "      <td>1</td>\n",
       "      <td>3.505062</td>\n",
       "    </tr>\n",
       "    <tr>\n",
       "      <th>997</th>\n",
       "      <td>4.89</td>\n",
       "      <td>34.0</td>\n",
       "      <td>0</td>\n",
       "      <td>-3.362960</td>\n",
       "    </tr>\n",
       "    <tr>\n",
       "      <th>999</th>\n",
       "      <td>4.90</td>\n",
       "      <td>10.0</td>\n",
       "      <td>1</td>\n",
       "      <td>-3.346724</td>\n",
       "    </tr>\n",
       "  </tbody>\n",
       "</table>\n",
       "</div>"
      ],
      "text/plain": [
       "     cgpa  placement_exam_marks  placed  cgpa_zscore\n",
       "485  4.92                  44.0       1    -3.314251\n",
       "995  8.87                  44.0       1     3.099150\n",
       "996  9.12                  65.0       1     3.505062\n",
       "997  4.89                  34.0       0    -3.362960\n",
       "999  4.90                  10.0       1    -3.346724"
      ]
     },
     "execution_count": 16,
     "metadata": {},
     "output_type": "execute_result"
    }
   ],
   "source": [
    "df[(df['cgpa_zscore']>3) | (df['cgpa_zscore'] < -3)]"
   ]
  },
  {
   "cell_type": "code",
   "execution_count": 17,
   "id": "53f2cf3a",
   "metadata": {
    "execution": {
     "iopub.execute_input": "2025-03-25T05:54:49.344051Z",
     "iopub.status.busy": "2025-03-25T05:54:49.343478Z",
     "iopub.status.idle": "2025-03-25T05:54:49.360040Z",
     "shell.execute_reply": "2025-03-25T05:54:49.358664Z"
    },
    "papermill": {
     "duration": 0.030116,
     "end_time": "2025-03-25T05:54:49.362088",
     "exception": false,
     "start_time": "2025-03-25T05:54:49.331972",
     "status": "completed"
    },
    "tags": []
   },
   "outputs": [
    {
     "data": {
      "text/html": [
       "<div>\n",
       "<style scoped>\n",
       "    .dataframe tbody tr th:only-of-type {\n",
       "        vertical-align: middle;\n",
       "    }\n",
       "\n",
       "    .dataframe tbody tr th {\n",
       "        vertical-align: top;\n",
       "    }\n",
       "\n",
       "    .dataframe thead th {\n",
       "        text-align: right;\n",
       "    }\n",
       "</style>\n",
       "<table border=\"1\" class=\"dataframe\">\n",
       "  <thead>\n",
       "    <tr style=\"text-align: right;\">\n",
       "      <th></th>\n",
       "      <th>cgpa</th>\n",
       "      <th>placement_exam_marks</th>\n",
       "      <th>placed</th>\n",
       "      <th>cgpa_zscore</th>\n",
       "    </tr>\n",
       "  </thead>\n",
       "  <tbody>\n",
       "    <tr>\n",
       "      <th>0</th>\n",
       "      <td>7.19</td>\n",
       "      <td>26.0</td>\n",
       "      <td>1</td>\n",
       "      <td>0.371425</td>\n",
       "    </tr>\n",
       "    <tr>\n",
       "      <th>1</th>\n",
       "      <td>7.46</td>\n",
       "      <td>38.0</td>\n",
       "      <td>1</td>\n",
       "      <td>0.809810</td>\n",
       "    </tr>\n",
       "    <tr>\n",
       "      <th>2</th>\n",
       "      <td>7.54</td>\n",
       "      <td>40.0</td>\n",
       "      <td>1</td>\n",
       "      <td>0.939701</td>\n",
       "    </tr>\n",
       "    <tr>\n",
       "      <th>3</th>\n",
       "      <td>6.42</td>\n",
       "      <td>8.0</td>\n",
       "      <td>1</td>\n",
       "      <td>-0.878782</td>\n",
       "    </tr>\n",
       "    <tr>\n",
       "      <th>4</th>\n",
       "      <td>7.23</td>\n",
       "      <td>17.0</td>\n",
       "      <td>0</td>\n",
       "      <td>0.436371</td>\n",
       "    </tr>\n",
       "    <tr>\n",
       "      <th>...</th>\n",
       "      <td>...</td>\n",
       "      <td>...</td>\n",
       "      <td>...</td>\n",
       "      <td>...</td>\n",
       "    </tr>\n",
       "    <tr>\n",
       "      <th>991</th>\n",
       "      <td>7.04</td>\n",
       "      <td>57.0</td>\n",
       "      <td>0</td>\n",
       "      <td>0.127878</td>\n",
       "    </tr>\n",
       "    <tr>\n",
       "      <th>992</th>\n",
       "      <td>6.26</td>\n",
       "      <td>12.0</td>\n",
       "      <td>0</td>\n",
       "      <td>-1.138565</td>\n",
       "    </tr>\n",
       "    <tr>\n",
       "      <th>993</th>\n",
       "      <td>6.73</td>\n",
       "      <td>21.0</td>\n",
       "      <td>1</td>\n",
       "      <td>-0.375452</td>\n",
       "    </tr>\n",
       "    <tr>\n",
       "      <th>994</th>\n",
       "      <td>6.48</td>\n",
       "      <td>63.0</td>\n",
       "      <td>0</td>\n",
       "      <td>-0.781363</td>\n",
       "    </tr>\n",
       "    <tr>\n",
       "      <th>998</th>\n",
       "      <td>8.62</td>\n",
       "      <td>46.0</td>\n",
       "      <td>1</td>\n",
       "      <td>2.693239</td>\n",
       "    </tr>\n",
       "  </tbody>\n",
       "</table>\n",
       "<p>995 rows × 4 columns</p>\n",
       "</div>"
      ],
      "text/plain": [
       "     cgpa  placement_exam_marks  placed  cgpa_zscore\n",
       "0    7.19                  26.0       1     0.371425\n",
       "1    7.46                  38.0       1     0.809810\n",
       "2    7.54                  40.0       1     0.939701\n",
       "3    6.42                   8.0       1    -0.878782\n",
       "4    7.23                  17.0       0     0.436371\n",
       "..    ...                   ...     ...          ...\n",
       "991  7.04                  57.0       0     0.127878\n",
       "992  6.26                  12.0       0    -1.138565\n",
       "993  6.73                  21.0       1    -0.375452\n",
       "994  6.48                  63.0       0    -0.781363\n",
       "998  8.62                  46.0       1     2.693239\n",
       "\n",
       "[995 rows x 4 columns]"
      ]
     },
     "execution_count": 17,
     "metadata": {},
     "output_type": "execute_result"
    }
   ],
   "source": [
    "new_df_trim = df[(df['cgpa_zscore']<3) & (df['cgpa_zscore'] > -3)]\n",
    "new_df_trim"
   ]
  },
  {
   "cell_type": "markdown",
   "id": "46975851",
   "metadata": {
    "execution": {
     "iopub.execute_input": "2025-03-25T05:49:06.988972Z",
     "iopub.status.busy": "2025-03-25T05:49:06.988581Z",
     "iopub.status.idle": "2025-03-25T05:49:06.993044Z",
     "shell.execute_reply": "2025-03-25T05:49:06.992043Z",
     "shell.execute_reply.started": "2025-03-25T05:49:06.988941Z"
    },
    "papermill": {
     "duration": 0.009368,
     "end_time": "2025-03-25T05:54:49.380048",
     "exception": false,
     "start_time": "2025-03-25T05:54:49.370680",
     "status": "completed"
    },
    "tags": []
   },
   "source": [
    "## Capping"
   ]
  },
  {
   "cell_type": "code",
   "execution_count": 18,
   "id": "768a320e",
   "metadata": {
    "execution": {
     "iopub.execute_input": "2025-03-25T05:54:49.400327Z",
     "iopub.status.busy": "2025-03-25T05:54:49.399666Z",
     "iopub.status.idle": "2025-03-25T05:54:49.409928Z",
     "shell.execute_reply": "2025-03-25T05:54:49.408823Z"
    },
    "papermill": {
     "duration": 0.02272,
     "end_time": "2025-03-25T05:54:49.411881",
     "exception": false,
     "start_time": "2025-03-25T05:54:49.389161",
     "status": "completed"
    },
    "tags": []
   },
   "outputs": [
    {
     "data": {
      "text/plain": [
       "0      7.190000\n",
       "1      7.460000\n",
       "2      7.540000\n",
       "3      6.420000\n",
       "4      7.230000\n",
       "         ...   \n",
       "995    8.808934\n",
       "996    8.808934\n",
       "997    5.113546\n",
       "998    8.620000\n",
       "999    5.113546\n",
       "Name: cgpa, Length: 1000, dtype: float64"
      ]
     },
     "execution_count": 18,
     "metadata": {},
     "output_type": "execute_result"
    }
   ],
   "source": [
    "df['cgpa'] = np.where(df['cgpa']> cgpa_max, cgpa_max,np.where(df['cgpa'] < cgpa_min,cgpa_min, df['cgpa']))\n",
    "df['cgpa']"
   ]
  },
  {
   "cell_type": "code",
   "execution_count": 19,
   "id": "ed5d2fec",
   "metadata": {
    "execution": {
     "iopub.execute_input": "2025-03-25T05:54:49.430097Z",
     "iopub.status.busy": "2025-03-25T05:54:49.429682Z",
     "iopub.status.idle": "2025-03-25T05:54:49.442304Z",
     "shell.execute_reply": "2025-03-25T05:54:49.440374Z"
    },
    "papermill": {
     "duration": 0.024105,
     "end_time": "2025-03-25T05:54:49.444569",
     "exception": false,
     "start_time": "2025-03-25T05:54:49.420464",
     "status": "completed"
    },
    "tags": []
   },
   "outputs": [
    {
     "data": {
      "text/plain": [
       "count    1000.000000\n",
       "mean        6.961499\n",
       "std         0.612688\n",
       "min         5.113546\n",
       "25%         6.550000\n",
       "50%         6.960000\n",
       "75%         7.370000\n",
       "max         8.808934\n",
       "Name: cgpa, dtype: float64"
      ]
     },
     "execution_count": 19,
     "metadata": {},
     "output_type": "execute_result"
    }
   ],
   "source": [
    "df['cgpa'].describe()"
   ]
  },
  {
   "cell_type": "code",
   "execution_count": null,
   "id": "d7a9b370",
   "metadata": {
    "papermill": {
     "duration": 0.008444,
     "end_time": "2025-03-25T05:54:49.461936",
     "exception": false,
     "start_time": "2025-03-25T05:54:49.453492",
     "status": "completed"
    },
    "tags": []
   },
   "outputs": [],
   "source": []
  },
  {
   "cell_type": "code",
   "execution_count": null,
   "id": "6c4aa924",
   "metadata": {
    "papermill": {
     "duration": 0.008144,
     "end_time": "2025-03-25T05:54:49.478938",
     "exception": false,
     "start_time": "2025-03-25T05:54:49.470794",
     "status": "completed"
    },
    "tags": []
   },
   "outputs": [],
   "source": []
  },
  {
   "cell_type": "code",
   "execution_count": null,
   "id": "7f39882e",
   "metadata": {
    "papermill": {
     "duration": 0.010037,
     "end_time": "2025-03-25T05:54:49.498306",
     "exception": false,
     "start_time": "2025-03-25T05:54:49.488269",
     "status": "completed"
    },
    "tags": []
   },
   "outputs": [],
   "source": []
  }
 ],
 "metadata": {
  "kaggle": {
   "accelerator": "none",
   "dataSources": [
    {
     "datasetId": 6960963,
     "sourceId": 11156624,
     "sourceType": "datasetVersion"
    }
   ],
   "dockerImageVersionId": 30918,
   "isGpuEnabled": false,
   "isInternetEnabled": false,
   "language": "python",
   "sourceType": "notebook"
  },
  "kernelspec": {
   "display_name": "Python 3",
   "language": "python",
   "name": "python3"
  },
  "language_info": {
   "codemirror_mode": {
    "name": "ipython",
    "version": 3
   },
   "file_extension": ".py",
   "mimetype": "text/x-python",
   "name": "python",
   "nbconvert_exporter": "python",
   "pygments_lexer": "ipython3",
   "version": "3.10.12"
  },
  "papermill": {
   "default_parameters": {},
   "duration": 8.485143,
   "end_time": "2025-03-25T05:54:50.328789",
   "environment_variables": {},
   "exception": null,
   "input_path": "__notebook__.ipynb",
   "output_path": "__notebook__.ipynb",
   "parameters": {},
   "start_time": "2025-03-25T05:54:41.843646",
   "version": "2.6.0"
  }
 },
 "nbformat": 4,
 "nbformat_minor": 5
}
