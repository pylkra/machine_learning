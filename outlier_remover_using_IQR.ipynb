{
 "cells": [
  {
   "cell_type": "code",
   "execution_count": 1,
   "id": "cc544dcb",
   "metadata": {
    "_cell_guid": "b1076dfc-b9ad-4769-8c92-a6c4dae69d19",
    "_uuid": "8f2839f25d086af736a60e9eeb907d3b93b6e0e5",
    "execution": {
     "iopub.execute_input": "2025-03-25T10:59:27.350691Z",
     "iopub.status.busy": "2025-03-25T10:59:27.350170Z",
     "iopub.status.idle": "2025-03-25T10:59:28.403067Z",
     "shell.execute_reply": "2025-03-25T10:59:28.401796Z"
    },
    "papermill": {
     "duration": 1.060812,
     "end_time": "2025-03-25T10:59:28.405133",
     "exception": false,
     "start_time": "2025-03-25T10:59:27.344321",
     "status": "completed"
    },
    "tags": []
   },
   "outputs": [
    {
     "name": "stdout",
     "output_type": "stream",
     "text": [
      "/kaggle/input/placement-outliner/placement (1).csv\n"
     ]
    }
   ],
   "source": [
    "# This Python 3 environment comes with many helpful analytics libraries installed\n",
    "# It is defined by the kaggle/python Docker image: https://github.com/kaggle/docker-python\n",
    "# For example, here's several helpful packages to load\n",
    "\n",
    "import numpy as np # linear algebra\n",
    "import pandas as pd # data processing, CSV file I/O (e.g. pd.read_csv)\n",
    "\n",
    "# Input data files are available in the read-only \"../input/\" directory\n",
    "# For example, running this (by clicking run or pressing Shift+Enter) will list all files under the input directory\n",
    "\n",
    "import os\n",
    "for dirname, _, filenames in os.walk('/kaggle/input'):\n",
    "    for filename in filenames:\n",
    "        print(os.path.join(dirname, filename))\n",
    "\n",
    "# You can write up to 20GB to the current directory (/kaggle/working/) that gets preserved as output when you create a version using \"Save & Run All\" \n",
    "# You can also write temporary files to /kaggle/temp/, but they won't be saved outside of the current session"
   ]
  },
  {
   "cell_type": "code",
   "execution_count": 2,
   "id": "01d27f70",
   "metadata": {
    "execution": {
     "iopub.execute_input": "2025-03-25T10:59:28.415100Z",
     "iopub.status.busy": "2025-03-25T10:59:28.414585Z",
     "iopub.status.idle": "2025-03-25T10:59:28.431177Z",
     "shell.execute_reply": "2025-03-25T10:59:28.430203Z"
    },
    "papermill": {
     "duration": 0.023567,
     "end_time": "2025-03-25T10:59:28.433121",
     "exception": false,
     "start_time": "2025-03-25T10:59:28.409554",
     "status": "completed"
    },
    "tags": []
   },
   "outputs": [],
   "source": [
    "df = pd.read_csv('/kaggle/input/placement-outliner/placement (1).csv')"
   ]
  },
  {
   "cell_type": "code",
   "execution_count": 3,
   "id": "893f870c",
   "metadata": {
    "execution": {
     "iopub.execute_input": "2025-03-25T10:59:28.442552Z",
     "iopub.status.busy": "2025-03-25T10:59:28.442165Z",
     "iopub.status.idle": "2025-03-25T10:59:28.470150Z",
     "shell.execute_reply": "2025-03-25T10:59:28.468978Z"
    },
    "papermill": {
     "duration": 0.034695,
     "end_time": "2025-03-25T10:59:28.472133",
     "exception": false,
     "start_time": "2025-03-25T10:59:28.437438",
     "status": "completed"
    },
    "tags": []
   },
   "outputs": [
    {
     "data": {
      "text/html": [
       "<div>\n",
       "<style scoped>\n",
       "    .dataframe tbody tr th:only-of-type {\n",
       "        vertical-align: middle;\n",
       "    }\n",
       "\n",
       "    .dataframe tbody tr th {\n",
       "        vertical-align: top;\n",
       "    }\n",
       "\n",
       "    .dataframe thead th {\n",
       "        text-align: right;\n",
       "    }\n",
       "</style>\n",
       "<table border=\"1\" class=\"dataframe\">\n",
       "  <thead>\n",
       "    <tr style=\"text-align: right;\">\n",
       "      <th></th>\n",
       "      <th>cgpa</th>\n",
       "      <th>placement_exam_marks</th>\n",
       "      <th>placed</th>\n",
       "    </tr>\n",
       "  </thead>\n",
       "  <tbody>\n",
       "    <tr>\n",
       "      <th>0</th>\n",
       "      <td>7.19</td>\n",
       "      <td>26.0</td>\n",
       "      <td>1</td>\n",
       "    </tr>\n",
       "    <tr>\n",
       "      <th>1</th>\n",
       "      <td>7.46</td>\n",
       "      <td>38.0</td>\n",
       "      <td>1</td>\n",
       "    </tr>\n",
       "    <tr>\n",
       "      <th>2</th>\n",
       "      <td>7.54</td>\n",
       "      <td>40.0</td>\n",
       "      <td>1</td>\n",
       "    </tr>\n",
       "    <tr>\n",
       "      <th>3</th>\n",
       "      <td>6.42</td>\n",
       "      <td>8.0</td>\n",
       "      <td>1</td>\n",
       "    </tr>\n",
       "    <tr>\n",
       "      <th>4</th>\n",
       "      <td>7.23</td>\n",
       "      <td>17.0</td>\n",
       "      <td>0</td>\n",
       "    </tr>\n",
       "  </tbody>\n",
       "</table>\n",
       "</div>"
      ],
      "text/plain": [
       "   cgpa  placement_exam_marks  placed\n",
       "0  7.19                  26.0       1\n",
       "1  7.46                  38.0       1\n",
       "2  7.54                  40.0       1\n",
       "3  6.42                   8.0       1\n",
       "4  7.23                  17.0       0"
      ]
     },
     "execution_count": 3,
     "metadata": {},
     "output_type": "execute_result"
    }
   ],
   "source": [
    "df.head()"
   ]
  },
  {
   "cell_type": "code",
   "execution_count": 4,
   "id": "391fe449",
   "metadata": {
    "execution": {
     "iopub.execute_input": "2025-03-25T10:59:28.481914Z",
     "iopub.status.busy": "2025-03-25T10:59:28.481531Z",
     "iopub.status.idle": "2025-03-25T10:59:28.491509Z",
     "shell.execute_reply": "2025-03-25T10:59:28.490385Z"
    },
    "papermill": {
     "duration": 0.016995,
     "end_time": "2025-03-25T10:59:28.493342",
     "exception": false,
     "start_time": "2025-03-25T10:59:28.476347",
     "status": "completed"
    },
    "tags": []
   },
   "outputs": [
    {
     "data": {
      "text/plain": [
       "cgpa                   -0.014530\n",
       "placement_exam_marks    0.835642\n",
       "placed                  0.044077\n",
       "dtype: float64"
      ]
     },
     "execution_count": 4,
     "metadata": {},
     "output_type": "execute_result"
    }
   ],
   "source": [
    "df.skew()"
   ]
  },
  {
   "cell_type": "code",
   "execution_count": 5,
   "id": "125f825c",
   "metadata": {
    "execution": {
     "iopub.execute_input": "2025-03-25T10:59:28.503157Z",
     "iopub.status.busy": "2025-03-25T10:59:28.502773Z",
     "iopub.status.idle": "2025-03-25T10:59:28.518931Z",
     "shell.execute_reply": "2025-03-25T10:59:28.517838Z"
    },
    "papermill": {
     "duration": 0.023154,
     "end_time": "2025-03-25T10:59:28.520821",
     "exception": false,
     "start_time": "2025-03-25T10:59:28.497667",
     "status": "completed"
    },
    "tags": []
   },
   "outputs": [
    {
     "data": {
      "text/plain": [
       "count    1000.000000\n",
       "mean       32.225000\n",
       "std        19.130822\n",
       "min         0.000000\n",
       "25%        17.000000\n",
       "50%        28.000000\n",
       "75%        44.000000\n",
       "max       100.000000\n",
       "Name: placement_exam_marks, dtype: float64"
      ]
     },
     "execution_count": 5,
     "metadata": {},
     "output_type": "execute_result"
    }
   ],
   "source": [
    "df['placement_exam_marks'].describe()"
   ]
  },
  {
   "cell_type": "code",
   "execution_count": 6,
   "id": "7e248401",
   "metadata": {
    "execution": {
     "iopub.execute_input": "2025-03-25T10:59:28.532477Z",
     "iopub.status.busy": "2025-03-25T10:59:28.532010Z",
     "iopub.status.idle": "2025-03-25T10:59:30.406894Z",
     "shell.execute_reply": "2025-03-25T10:59:30.405529Z"
    },
    "papermill": {
     "duration": 1.883104,
     "end_time": "2025-03-25T10:59:30.408938",
     "exception": false,
     "start_time": "2025-03-25T10:59:28.525834",
     "status": "completed"
    },
    "tags": []
   },
   "outputs": [],
   "source": [
    "import matplotlib.pyplot as plt\n",
    "import seaborn as sns"
   ]
  },
  {
   "cell_type": "code",
   "execution_count": 7,
   "id": "da733fa4",
   "metadata": {
    "execution": {
     "iopub.execute_input": "2025-03-25T10:59:30.419096Z",
     "iopub.status.busy": "2025-03-25T10:59:30.418547Z",
     "iopub.status.idle": "2025-03-25T10:59:30.658908Z",
     "shell.execute_reply": "2025-03-25T10:59:30.657730Z"
    },
    "papermill": {
     "duration": 0.247597,
     "end_time": "2025-03-25T10:59:30.661045",
     "exception": false,
     "start_time": "2025-03-25T10:59:30.413448",
     "status": "completed"
    },
    "tags": []
   },
   "outputs": [
    {
     "data": {
      "text/plain": [
       "<Axes: xlabel='placement_exam_marks'>"
      ]
     },
     "execution_count": 7,
     "metadata": {},
     "output_type": "execute_result"
    },
    {
     "data": {
      "image/png": "[encoded data removed]",
      "text/plain": [
       "<Figure size 1200x500 with 1 Axes>"
      ]
     },
     "metadata": {},
     "output_type": "display_data"
    }
   ],
   "source": [
    "plt.figure(figsize=(12,5))\n",
    "sns.boxplot(x = df['placement_exam_marks'])"
   ]
  },
  {
   "cell_type": "code",
   "execution_count": 8,
   "id": "8fa088fe",
   "metadata": {
    "execution": {
     "iopub.execute_input": "2025-03-25T10:59:30.671979Z",
     "iopub.status.busy": "2025-03-25T10:59:30.671613Z",
     "iopub.status.idle": "2025-03-25T10:59:30.681249Z",
     "shell.execute_reply": "2025-03-25T10:59:30.679851Z"
    },
    "papermill": {
     "duration": 0.017221,
     "end_time": "2025-03-25T10:59:30.683271",
     "exception": false,
     "start_time": "2025-03-25T10:59:30.666050",
     "status": "completed"
    },
    "tags": []
   },
   "outputs": [
    {
     "name": "stdout",
     "output_type": "stream",
     "text": [
      "25th Percentile  17.0\n",
      "75th Percentile  44.0\n"
     ]
    }
   ],
   "source": [
    "#Find the Q1: 25th and Q3: 75th percentile\n",
    "percentile_25 = df['placement_exam_marks'].quantile(0.25)\n",
    "percentile_75 = df['placement_exam_marks'].quantile(0.75)\n",
    "print('25th Percentile ',percentile_25)\n",
    "print('75th Percentile ',percentile_75)"
   ]
  },
  {
   "cell_type": "code",
   "execution_count": 9,
   "id": "e9fcb38a",
   "metadata": {
    "execution": {
     "iopub.execute_input": "2025-03-25T10:59:30.694197Z",
     "iopub.status.busy": "2025-03-25T10:59:30.693792Z",
     "iopub.status.idle": "2025-03-25T10:59:30.699592Z",
     "shell.execute_reply": "2025-03-25T10:59:30.698410Z"
    },
    "papermill": {
     "duration": 0.013196,
     "end_time": "2025-03-25T10:59:30.701425",
     "exception": false,
     "start_time": "2025-03-25T10:59:30.688229",
     "status": "completed"
    },
    "tags": []
   },
   "outputs": [
    {
     "name": "stdout",
     "output_type": "stream",
     "text": [
      "IQR:  44.0\n"
     ]
    }
   ],
   "source": [
    "#find IQR = Q3-Q1\n",
    "iqr = percentile_75 - percentile_25\n",
    "print('IQR: ', percentile_75)\n"
   ]
  },
  {
   "cell_type": "markdown",
   "id": "3857ea65",
   "metadata": {
    "papermill": {
     "duration": 0.004528,
     "end_time": "2025-03-25T10:59:30.710982",
     "exception": false,
     "start_time": "2025-03-25T10:59:30.706454",
     "status": "completed"
    },
    "tags": []
   },
   "source": [
    "upper limit = Q3+1.5IQR\n",
    "lower limit = Q1 - 1.5IQR"
   ]
  },
  {
   "cell_type": "code",
   "execution_count": 10,
   "id": "ad7a026f",
   "metadata": {
    "execution": {
     "iopub.execute_input": "2025-03-25T10:59:30.721743Z",
     "iopub.status.busy": "2025-03-25T10:59:30.721331Z",
     "iopub.status.idle": "2025-03-25T10:59:30.727675Z",
     "shell.execute_reply": "2025-03-25T10:59:30.726624Z"
    },
    "papermill": {
     "duration": 0.013662,
     "end_time": "2025-03-25T10:59:30.729425",
     "exception": false,
     "start_time": "2025-03-25T10:59:30.715763",
     "status": "completed"
    },
    "tags": []
   },
   "outputs": [
    {
     "name": "stdout",
     "output_type": "stream",
     "text": [
      "upper limit:  84.5\n",
      "lower limit:  -23.5\n"
     ]
    }
   ],
   "source": [
    "upper_limit = percentile_75 + 1.5 * iqr\n",
    "lower_limit = percentile_25 - 1.5 * iqr\n",
    "print('upper limit: ',upper_limit)\n",
    "print('lower limit: ',lower_limit)"
   ]
  },
  {
   "cell_type": "code",
   "execution_count": 11,
   "id": "0cc9dd47",
   "metadata": {
    "execution": {
     "iopub.execute_input": "2025-03-25T10:59:30.740215Z",
     "iopub.status.busy": "2025-03-25T10:59:30.739875Z",
     "iopub.status.idle": "2025-03-25T10:59:30.749565Z",
     "shell.execute_reply": "2025-03-25T10:59:30.748444Z"
    },
    "papermill": {
     "duration": 0.016957,
     "end_time": "2025-03-25T10:59:30.751277",
     "exception": false,
     "start_time": "2025-03-25T10:59:30.734320",
     "status": "completed"
    },
    "tags": []
   },
   "outputs": [],
   "source": [
    "#Get the outliners\n",
    "df_new = df[(df['placement_exam_marks'] < 84) ]"
   ]
  },
  {
   "cell_type": "code",
   "execution_count": 12,
   "id": "97a0bb1f",
   "metadata": {
    "execution": {
     "iopub.execute_input": "2025-03-25T10:59:30.762268Z",
     "iopub.status.busy": "2025-03-25T10:59:30.761925Z",
     "iopub.status.idle": "2025-03-25T10:59:31.431332Z",
     "shell.execute_reply": "2025-03-25T10:59:31.429952Z"
    },
    "papermill": {
     "duration": 0.6769,
     "end_time": "2025-03-25T10:59:31.433295",
     "exception": false,
     "start_time": "2025-03-25T10:59:30.756395",
     "status": "completed"
    },
    "tags": []
   },
   "outputs": [
    {
     "name": "stderr",
     "output_type": "stream",
     "text": [
      "<ipython-input-12-a15716c25b95>:8: UserWarning: \n",
      "\n",
      "`distplot` is a deprecated function and will be removed in seaborn v0.14.0.\n",
      "\n",
      "Please adapt your code to use either `displot` (a figure-level function with\n",
      "similar flexibility) or `histplot` (an axes-level function for histograms).\n",
      "\n",
      "For a guide to updating your code to use the new functions, please see\n",
      "https://gist.github.com/mwaskom/de44147ed2974457ad6372750bbe5751\n",
      "\n",
      "  sns.distplot(df['placement_exam_marks'])\n",
      "/usr/local/lib/python3.10/dist-packages/seaborn/_oldcore.py:1119: FutureWarning: use_inf_as_na option is deprecated and will be removed in a future version. Convert inf values to NaN before operating instead.\n",
      "  with pd.option_context('mode.use_inf_as_na', True):\n",
      "<ipython-input-12-a15716c25b95>:11: UserWarning: \n",
      "\n",
      "`distplot` is a deprecated function and will be removed in seaborn v0.14.0.\n",
      "\n",
      "Please adapt your code to use either `displot` (a figure-level function with\n",
      "similar flexibility) or `histplot` (an axes-level function for histograms).\n",
      "\n",
      "For a guide to updating your code to use the new functions, please see\n",
      "https://gist.github.com/mwaskom/de44147ed2974457ad6372750bbe5751\n",
      "\n",
      "  sns.distplot(df_new['placement_exam_marks'])\n",
      "/usr/local/lib/python3.10/dist-packages/seaborn/_oldcore.py:1119: FutureWarning: use_inf_as_na option is deprecated and will be removed in a future version. Convert inf values to NaN before operating instead.\n",
      "  with pd.option_context('mode.use_inf_as_na', True):\n"
     ]
    },
    {
     "data": {
      "text/plain": [
       "<Axes: xlabel='placement_exam_marks'>"
      ]
     },
     "execution_count": 12,
     "metadata": {},
     "output_type": "execute_result"
    },
    {
     "data": {
      "image/png": "[encoded data removed]",
      "text/plain": [
       "<Figure size 1200x500 with 4 Axes>"
      ]
     },
     "metadata": {},
     "output_type": "display_data"
    }
   ],
   "source": [
    "#plot the data and check outliers presence\n",
    "\n",
    "import matplotlib.pyplot as plt\n",
    "import seaborn as sns\n",
    "\n",
    "plt.figure(figsize=(12,5))\n",
    "plt.subplot(2,2,1)\n",
    "sns.distplot(df['placement_exam_marks'])\n",
    "\n",
    "plt.subplot(2,2,2)\n",
    "sns.distplot(df_new['placement_exam_marks'])\n",
    "\n",
    "plt.subplot(2,2,3)\n",
    "sns.boxplot(x = df['placement_exam_marks'])\n",
    "\n",
    "plt.subplot(2,2,4)\n",
    "sns.boxplot(x = df_new['placement_exam_marks'])"
   ]
  },
  {
   "cell_type": "code",
   "execution_count": 13,
   "id": "15e2d371",
   "metadata": {
    "execution": {
     "iopub.execute_input": "2025-03-25T10:59:31.448900Z",
     "iopub.status.busy": "2025-03-25T10:59:31.448542Z",
     "iopub.status.idle": "2025-03-25T10:59:31.455058Z",
     "shell.execute_reply": "2025-03-25T10:59:31.453824Z"
    },
    "papermill": {
     "duration": 0.016273,
     "end_time": "2025-03-25T10:59:31.457169",
     "exception": false,
     "start_time": "2025-03-25T10:59:31.440896",
     "status": "completed"
    },
    "tags": []
   },
   "outputs": [],
   "source": [
    "new_df_cap = df.copy()\n",
    "new_df_cap['placement_exam_marks'] = np.where(df['placement_exam_marks'] > upper_limit, \n",
    "                                              upper_limit, \n",
    "                                              np.where(df['placement_exam_marks'] < lower_limit, lower_limit, df['placement_exam_marks']))"
   ]
  },
  {
   "cell_type": "code",
   "execution_count": 14,
   "id": "0dc4d5b2",
   "metadata": {
    "execution": {
     "iopub.execute_input": "2025-03-25T10:59:31.471324Z",
     "iopub.status.busy": "2025-03-25T10:59:31.470957Z",
     "iopub.status.idle": "2025-03-25T10:59:31.476995Z",
     "shell.execute_reply": "2025-03-25T10:59:31.475887Z"
    },
    "papermill": {
     "duration": 0.015074,
     "end_time": "2025-03-25T10:59:31.478778",
     "exception": false,
     "start_time": "2025-03-25T10:59:31.463704",
     "status": "completed"
    },
    "tags": []
   },
   "outputs": [
    {
     "data": {
      "text/plain": [
       "(1000, 3)"
      ]
     },
     "execution_count": 14,
     "metadata": {},
     "output_type": "execute_result"
    }
   ],
   "source": [
    "new_df_cap.shape"
   ]
  },
  {
   "cell_type": "code",
   "execution_count": 15,
   "id": "f40233e8",
   "metadata": {
    "execution": {
     "iopub.execute_input": "2025-03-25T10:59:31.492272Z",
     "iopub.status.busy": "2025-03-25T10:59:31.491915Z",
     "iopub.status.idle": "2025-03-25T10:59:32.300606Z",
     "shell.execute_reply": "2025-03-25T10:59:32.299256Z"
    },
    "papermill": {
     "duration": 0.817566,
     "end_time": "2025-03-25T10:59:32.302553",
     "exception": false,
     "start_time": "2025-03-25T10:59:31.484987",
     "status": "completed"
    },
    "tags": []
   },
   "outputs": [
    {
     "name": "stderr",
     "output_type": "stream",
     "text": [
      "<ipython-input-15-5fc8615d5af8>:3: UserWarning: \n",
      "\n",
      "`distplot` is a deprecated function and will be removed in seaborn v0.14.0.\n",
      "\n",
      "Please adapt your code to use either `displot` (a figure-level function with\n",
      "similar flexibility) or `histplot` (an axes-level function for histograms).\n",
      "\n",
      "For a guide to updating your code to use the new functions, please see\n",
      "https://gist.github.com/mwaskom/de44147ed2974457ad6372750bbe5751\n",
      "\n",
      "  sns.distplot(df['placement_exam_marks'])\n",
      "/usr/local/lib/python3.10/dist-packages/seaborn/_oldcore.py:1119: FutureWarning: use_inf_as_na option is deprecated and will be removed in a future version. Convert inf values to NaN before operating instead.\n",
      "  with pd.option_context('mode.use_inf_as_na', True):\n",
      "<ipython-input-15-5fc8615d5af8>:6: UserWarning: \n",
      "\n",
      "`distplot` is a deprecated function and will be removed in seaborn v0.14.0.\n",
      "\n",
      "Please adapt your code to use either `displot` (a figure-level function with\n",
      "similar flexibility) or `histplot` (an axes-level function for histograms).\n",
      "\n",
      "For a guide to updating your code to use the new functions, please see\n",
      "https://gist.github.com/mwaskom/de44147ed2974457ad6372750bbe5751\n",
      "\n",
      "  sns.distplot(new_df_cap['placement_exam_marks'])\n",
      "/usr/local/lib/python3.10/dist-packages/seaborn/_oldcore.py:1119: FutureWarning: use_inf_as_na option is deprecated and will be removed in a future version. Convert inf values to NaN before operating instead.\n",
      "  with pd.option_context('mode.use_inf_as_na', True):\n"
     ]
    },
    {
     "data": {
      "text/plain": [
       "<Axes: xlabel='placement_exam_marks'>"
      ]
     },
     "execution_count": 15,
     "metadata": {},
     "output_type": "execute_result"
    },
    {
     "data": {
      "image/png": "[encoded data removed]",
      "text/plain": [
       "<Figure size 1200x500 with 4 Axes>"
      ]
     },
     "metadata": {},
     "output_type": "display_data"
    }
   ],
   "source": [
    "plt.figure(figsize=(12,5))\n",
    "plt.subplot(2,2,1)\n",
    "sns.distplot(df['placement_exam_marks'])\n",
    "\n",
    "plt.subplot(2,2,2)\n",
    "sns.distplot(new_df_cap['placement_exam_marks'])\n",
    "\n",
    "plt.subplot(2,2,3)\n",
    "sns.boxplot(x = df['placement_exam_marks'])\n",
    "\n",
    "plt.subplot(2,2,4)\n",
    "sns.boxplot(x = new_df_cap['placement_exam_marks'])"
   ]
  }
 ],
 "metadata": {
  "kaggle": {
   "accelerator": "none",
   "dataSources": [
    {
     "datasetId": 6960963,
     "sourceId": 11156624,
     "sourceType": "datasetVersion"
    }
   ],
   "dockerImageVersionId": 30918,
   "isGpuEnabled": false,
   "isInternetEnabled": false,
   "language": "python",
   "sourceType": "notebook"
  },
  "kernelspec": {
   "display_name": "Python 3",
   "language": "python",
   "name": "python3"
  },
  "language_info": {
   "codemirror_mode": {
    "name": "ipython",
    "version": 3
   },
   "file_extension": ".py",
   "mimetype": "text/x-python",
   "name": "python",
   "nbconvert_exporter": "python",
   "pygments_lexer": "ipython3",
   "version": "3.10.12"
  },
  "papermill": {
   "default_parameters": {},
   "duration": 8.71925,
   "end_time": "2025-03-25T10:59:33.131666",
   "environment_variables": {},
   "exception": null,
   "input_path": "__notebook__.ipynb",
   "output_path": "__notebook__.ipynb",
   "parameters": {},
   "start_time": "2025-03-25T10:59:24.412416",
   "version": "2.6.0"
  }
 },
 "nbformat": 4,
 "nbformat_minor": 5
}
